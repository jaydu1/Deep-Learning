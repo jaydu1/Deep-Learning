{
 "cells": [
  {
   "cell_type": "markdown",
   "metadata": {
    "collapsed": true,
    "deletable": true,
    "editable": true
   },
   "source": [
    "# Language Translation\n",
    "In this project, you’re going to take a peek into the realm of neural network machine translation.  You’ll be training a sequence to sequence model on a dataset of English and French sentences that can translate new sentences from English to French.\n",
    "## Get the Data\n",
    "Since translating the whole language of English to French will take lots of time to train, we have provided you with a small portion of the English corpus."
   ]
  },
  {
   "cell_type": "code",
   "execution_count": 1,
   "metadata": {
    "collapsed": true,
    "deletable": true,
    "editable": true
   },
   "outputs": [],
   "source": [
    "\"\"\"\n",
    "DON'T MODIFY ANYTHING IN THIS CELL\n",
    "\"\"\"\n",
    "import helper\n",
    "import problem_unittests as tests\n",
    "\n",
    "source_path = 'data/small_vocab_en'\n",
    "target_path = 'data/small_vocab_fr'\n",
    "source_text = helper.load_data(source_path)\n",
    "target_text = helper.load_data(target_path)"
   ]
  },
  {
   "cell_type": "markdown",
   "metadata": {
    "deletable": true,
    "editable": true
   },
   "source": [
    "## Explore the Data\n",
    "Play around with view_sentence_range to view different parts of the data."
   ]
  },
  {
   "cell_type": "code",
   "execution_count": 2,
   "metadata": {
    "collapsed": false,
    "deletable": true,
    "editable": true
   },
   "outputs": [
    {
     "name": "stdout",
     "output_type": "stream",
     "text": [
      "Dataset Stats\n",
      "Roughly the number of unique words: 227\n",
      "Number of sentences: 137861\n",
      "Average number of words in a sentence: 13.225277634719028\n",
      "\n",
      "English sentences 0 to 10:\n",
      "new jersey is sometimes quiet during autumn , and it is snowy in april .\n",
      "the united states is usually chilly during july , and it is usually freezing in november .\n",
      "california is usually quiet during march , and it is usually hot in june .\n",
      "the united states is sometimes mild during june , and it is cold in september .\n",
      "your least liked fruit is the grape , but my least liked is the apple .\n",
      "his favorite fruit is the orange , but my favorite is the grape .\n",
      "paris is relaxing during december , but it is usually chilly in july .\n",
      "new jersey is busy during spring , and it is never hot in march .\n",
      "our least liked fruit is the lemon , but my least liked is the grape .\n",
      "the united states is sometimes busy during january , and it is sometimes warm in november .\n",
      "\n",
      "French sentences 0 to 10:\n",
      "new jersey est parfois calme pendant l' automne , et il est neigeux en avril .\n",
      "les états-unis est généralement froid en juillet , et il gèle habituellement en novembre .\n",
      "california est généralement calme en mars , et il est généralement chaud en juin .\n",
      "les états-unis est parfois légère en juin , et il fait froid en septembre .\n",
      "votre moins aimé fruit est le raisin , mais mon moins aimé est la pomme .\n",
      "son fruit préféré est l'orange , mais mon préféré est le raisin .\n",
      "paris est relaxant en décembre , mais il est généralement froid en juillet .\n",
      "new jersey est occupé au printemps , et il est jamais chaude en mars .\n",
      "notre fruit est moins aimé le citron , mais mon moins aimé est le raisin .\n",
      "les états-unis est parfois occupé en janvier , et il est parfois chaud en novembre .\n"
     ]
    }
   ],
   "source": [
    "view_sentence_range = (0, 10)\n",
    "\n",
    "\"\"\"\n",
    "DON'T MODIFY ANYTHING IN THIS CELL\n",
    "\"\"\"\n",
    "import numpy as np\n",
    "\n",
    "print('Dataset Stats')\n",
    "print('Roughly the number of unique words: {}'.format(len({word: None for word in source_text.split()})))\n",
    "\n",
    "sentences = source_text.split('\\n')\n",
    "word_counts = [len(sentence.split()) for sentence in sentences]\n",
    "print('Number of sentences: {}'.format(len(sentences)))\n",
    "print('Average number of words in a sentence: {}'.format(np.average(word_counts)))\n",
    "\n",
    "print()\n",
    "print('English sentences {} to {}:'.format(*view_sentence_range))\n",
    "print('\\n'.join(source_text.split('\\n')[view_sentence_range[0]:view_sentence_range[1]]))\n",
    "print()\n",
    "print('French sentences {} to {}:'.format(*view_sentence_range))\n",
    "print('\\n'.join(target_text.split('\\n')[view_sentence_range[0]:view_sentence_range[1]]))"
   ]
  },
  {
   "cell_type": "markdown",
   "metadata": {
    "deletable": true,
    "editable": true
   },
   "source": [
    "## Implement Preprocessing Function\n",
    "### Text to Word Ids\n",
    "As you did with other RNNs, you must turn the text into a number so the computer can understand it. In the function `text_to_ids()`, you'll turn `source_text` and `target_text` from words to ids.  However, you need to add the `<EOS>` word id at the end of `target_text`.  This will help the neural network predict when the sentence should end.\n",
    "\n",
    "You can get the `<EOS>` word id by doing:\n",
    "```python\n",
    "target_vocab_to_int['<EOS>']\n",
    "```\n",
    "You can get other word ids using `source_vocab_to_int` and `target_vocab_to_int`."
   ]
  },
  {
   "cell_type": "code",
   "execution_count": 3,
   "metadata": {
    "collapsed": false,
    "deletable": true,
    "editable": true
   },
   "outputs": [
    {
     "name": "stdout",
     "output_type": "stream",
     "text": [
      "Tests Passed\n"
     ]
    }
   ],
   "source": [
    "def text_to_ids(source_text, target_text, source_vocab_to_int, target_vocab_to_int):\n",
    "    \"\"\"\n",
    "    Convert source and target text to proper word ids\n",
    "    :param source_text: String that contains all the source text.\n",
    "    :param target_text: String that contains all the target text.\n",
    "    :param source_vocab_to_int: Dictionary to go from the source words to an id\n",
    "    :param target_vocab_to_int: Dictionary to go from the target words to an id\n",
    "    :return: A tuple of lists (source_id_text, target_id_text)\n",
    "    \"\"\"\n",
    "    # TODO: Implement Function\n",
    "    source_text_list = source_text.split('\\n')\n",
    "    target_text_list = target_text.split('\\n')\n",
    "    source_id_text = [[source_vocab_to_int[j] for j in i.split()] for i in source_text_list]\n",
    "    target_id_text = [[target_vocab_to_int[j] for j in i.split()]+[target_vocab_to_int['<EOS>']] for i in target_text_list]\n",
    "    return source_id_text , target_id_text\n",
    "\n",
    "\"\"\"\n",
    "DON'T MODIFY ANYTHING IN THIS CELL THAT IS BELOW THIS LINE\n",
    "\"\"\"\n",
    "tests.test_text_to_ids(text_to_ids)"
   ]
  },
  {
   "cell_type": "markdown",
   "metadata": {
    "deletable": true,
    "editable": true
   },
   "source": [
    "### Preprocess all the data and save it\n",
    "Running the code cell below will preprocess all the data and save it to file."
   ]
  },
  {
   "cell_type": "code",
   "execution_count": 4,
   "metadata": {
    "collapsed": true,
    "deletable": true,
    "editable": true
   },
   "outputs": [],
   "source": [
    "\"\"\"\n",
    "DON'T MODIFY ANYTHING IN THIS CELL\n",
    "\"\"\"\n",
    "helper.preprocess_and_save_data(source_path, target_path, text_to_ids)"
   ]
  },
  {
   "cell_type": "markdown",
   "metadata": {
    "deletable": true,
    "editable": true
   },
   "source": [
    "# Check Point\n",
    "This is your first checkpoint. If you ever decide to come back to this notebook or have to restart the notebook, you can start from here. The preprocessed data has been saved to disk."
   ]
  },
  {
   "cell_type": "code",
   "execution_count": 5,
   "metadata": {
    "collapsed": true,
    "deletable": true,
    "editable": true
   },
   "outputs": [],
   "source": [
    "\"\"\"\n",
    "DON'T MODIFY ANYTHING IN THIS CELL\n",
    "\"\"\"\n",
    "import numpy as np\n",
    "import helper\n",
    "\n",
    "(source_int_text, target_int_text), (source_vocab_to_int, target_vocab_to_int), _ = helper.load_preprocess()"
   ]
  },
  {
   "cell_type": "markdown",
   "metadata": {
    "deletable": true,
    "editable": true
   },
   "source": [
    "### Check the Version of TensorFlow and Access to GPU\n",
    "This will check to make sure you have the correct version of TensorFlow and access to a GPU"
   ]
  },
  {
   "cell_type": "code",
   "execution_count": 6,
   "metadata": {
    "collapsed": false,
    "deletable": true,
    "editable": true
   },
   "outputs": [
    {
     "name": "stdout",
     "output_type": "stream",
     "text": [
      "TensorFlow Version: 1.1.0\n",
      "Default GPU Device: /gpu:0\n"
     ]
    }
   ],
   "source": [
    "\"\"\"\n",
    "DON'T MODIFY ANYTHING IN THIS CELL\n",
    "\"\"\"\n",
    "from distutils.version import LooseVersion\n",
    "import warnings\n",
    "import tensorflow as tf\n",
    "from tensorflow.python.layers.core import Dense\n",
    "\n",
    "# Check TensorFlow Version\n",
    "assert LooseVersion(tf.__version__) >= LooseVersion('1.1'), 'Please use TensorFlow version 1.1 or newer'\n",
    "print('TensorFlow Version: {}'.format(tf.__version__))\n",
    "\n",
    "# Check for a GPU\n",
    "if not tf.test.gpu_device_name():\n",
    "    warnings.warn('No GPU found. Please use a GPU to train your neural network.')\n",
    "else:\n",
    "    print('Default GPU Device: {}'.format(tf.test.gpu_device_name()))"
   ]
  },
  {
   "cell_type": "markdown",
   "metadata": {
    "deletable": true,
    "editable": true
   },
   "source": [
    "## Build the Neural Network\n",
    "You'll build the components necessary to build a Sequence-to-Sequence model by implementing the following functions below:\n",
    "- `model_inputs`\n",
    "- `process_decoder_input`\n",
    "- `encoding_layer`\n",
    "- `decoding_layer_train`\n",
    "- `decoding_layer_infer`\n",
    "- `decoding_layer`\n",
    "- `seq2seq_model`\n",
    "\n",
    "### Input\n",
    "Implement the `model_inputs()` function to create TF Placeholders for the Neural Network. It should create the following placeholders:\n",
    "\n",
    "- Input text placeholder named \"input\" using the TF Placeholder name parameter with rank 2.\n",
    "- Targets placeholder with rank 2.\n",
    "- Learning rate placeholder with rank 0.\n",
    "- Keep probability placeholder named \"keep_prob\" using the TF Placeholder name parameter with rank 0.\n",
    "- Target sequence length placeholder named \"target_sequence_length\" with rank 1\n",
    "- Max target sequence length tensor named \"max_target_len\" getting its value from applying tf.reduce_max on the target_sequence_length placeholder. Rank 0.\n",
    "- Source sequence length placeholder named \"source_sequence_length\" with rank 1\n",
    "\n",
    "Return the placeholders in the following the tuple (input, targets, learning rate, keep probability, target sequence length, max target sequence length, source sequence length)"
   ]
  },
  {
   "cell_type": "code",
   "execution_count": 7,
   "metadata": {
    "collapsed": false,
    "deletable": true,
    "editable": true
   },
   "outputs": [
    {
     "name": "stdout",
     "output_type": "stream",
     "text": [
      "Tests Passed\n"
     ]
    }
   ],
   "source": [
    "def model_inputs():\n",
    "    \"\"\"\n",
    "    Create TF Placeholders for input, targets, learning rate, and lengths of source and target sequences.\n",
    "    :return: Tuple (input, targets, learning rate, keep probability, target sequence length,\n",
    "    max target sequence length, source sequence length)\n",
    "    \"\"\"\n",
    "    # TODO: Implement Function\n",
    "    inputs = tf.placeholder(tf.int32,shape=[None,None],name=\"input\")\n",
    "    targets = tf.placeholder(tf.int32,shape=[None,None])\n",
    "    learning_rate = tf.placeholder(tf.float32)\n",
    "    keep_prob = tf.placeholder(tf.float32,name=\"keep_prob\")\n",
    "    target_sequence_length = tf.placeholder(tf.int32,shape=[None],name=\"target_sequence_length\")\n",
    "    \n",
    "    max_target_len = tf.reduce_max(target_sequence_length,name=\"max_target_len\")\n",
    "    source_sequence_length = tf.placeholder(tf.int32,shape=[None],name=\"source_sequence_length\")\n",
    "\n",
    "    return inputs,targets,learning_rate,keep_prob,target_sequence_length,max_target_len,source_sequence_length\n",
    "\n",
    "\n",
    "\"\"\"\n",
    "DON'T MODIFY ANYTHING IN THIS CELL THAT IS BELOW THIS LINE\n",
    "\"\"\"\n",
    "tests.test_model_inputs(model_inputs)"
   ]
  },
  {
   "cell_type": "markdown",
   "metadata": {
    "deletable": true,
    "editable": true
   },
   "source": [
    "### Process Decoder Input\n",
    "Implement `process_decoder_input` by removing the last word id from each batch in `target_data` and concat the GO ID to the begining of each batch."
   ]
  },
  {
   "cell_type": "code",
   "execution_count": 8,
   "metadata": {
    "collapsed": false,
    "deletable": true,
    "editable": true
   },
   "outputs": [
    {
     "name": "stdout",
     "output_type": "stream",
     "text": [
      "Tests Passed\n"
     ]
    }
   ],
   "source": [
    "def process_decoder_input(target_data, target_vocab_to_int, batch_size):\n",
    "    \"\"\"\n",
    "    Preprocess target data for encoding\n",
    "    :param target_data: Target Placehoder\n",
    "    :param target_vocab_to_int: Dictionary to go from the target words to an id\n",
    "    :param batch_size: Batch Size\n",
    "    :return: Preprocessed target data\n",
    "    \"\"\"\n",
    "    # TODO: Implement Function\n",
    "    ending = tf.strided_slice(target_data, [0, 0], [batch_size, -1], [1, 1])\n",
    "    dec_input = tf.concat([tf.fill([batch_size, 1], target_vocab_to_int['<GO>']), ending], 1)\n",
    "    \n",
    "    return dec_input\n",
    "\n",
    "\"\"\"\n",
    "DON'T MODIFY ANYTHING IN THIS CELL THAT IS BELOW THIS LINE\n",
    "\"\"\"\n",
    "tests.test_process_encoding_input(process_decoder_input)"
   ]
  },
  {
   "cell_type": "markdown",
   "metadata": {
    "deletable": true,
    "editable": true
   },
   "source": [
    "### Encoding\n",
    "Implement `encoding_layer()` to create a Encoder RNN layer:\n",
    " * Embed the encoder input using [`tf.contrib.layers.embed_sequence`](https://www.tensorflow.org/api_docs/python/tf/contrib/layers/embed_sequence)\n",
    " * Construct a [stacked](https://github.com/tensorflow/tensorflow/blob/6947f65a374ebf29e74bb71e36fd82760056d82c/tensorflow/docs_src/tutorials/recurrent.md#stacking-multiple-lstms) [`tf.contrib.rnn.LSTMCell`](https://www.tensorflow.org/api_docs/python/tf/contrib/rnn/LSTMCell) wrapped in a [`tf.contrib.rnn.DropoutWrapper`](https://www.tensorflow.org/api_docs/python/tf/contrib/rnn/DropoutWrapper)\n",
    " * Pass cell and embedded input to [`tf.nn.dynamic_rnn()`](https://www.tensorflow.org/api_docs/python/tf/nn/dynamic_rnn)"
   ]
  },
  {
   "cell_type": "code",
   "execution_count": 9,
   "metadata": {
    "collapsed": false,
    "deletable": true,
    "editable": true,
    "scrolled": false
   },
   "outputs": [
    {
     "name": "stdout",
     "output_type": "stream",
     "text": [
      "Tests Passed\n"
     ]
    }
   ],
   "source": [
    "from imp import reload\n",
    "reload(tests)\n",
    "\n",
    "def encoding_layer(rnn_inputs, rnn_size, num_layers, keep_prob, \n",
    "                   source_sequence_length, source_vocab_size, \n",
    "                   encoding_embedding_size):\n",
    "    \"\"\"\n",
    "    Create encoding layer\n",
    "    :param rnn_inputs: Inputs for the RNN\n",
    "    :param rnn_size: RNN Size\n",
    "    :param num_layers: Number of layers\n",
    "    :param keep_prob: Dropout keep probability\n",
    "    :param source_sequence_length: a list of the lengths of each sequence in the batch\n",
    "    :param source_vocab_size: vocabulary size of source data\n",
    "    :param encoding_embedding_size: embedding size of source data\n",
    "    :return: tuple (RNN output, RNN state)\n",
    "    \"\"\"\n",
    "    # TODO: Implement Function\n",
    "    # Embedding\n",
    "    embed = tf.contrib.layers.embed_sequence(ids=rnn_inputs,vocab_size=source_vocab_size,embed_dim=encoding_embedding_size)\n",
    "    \n",
    "    # Stacked LSTM\n",
    "    def lstm_cell(n):\n",
    "        return tf.contrib.rnn.LSTMCell(n,initializer=tf.random_uniform_initializer(-0.1,0.1,seed=1))\n",
    "    stacked_lstm = tf.contrib.rnn.MultiRNNCell([lstm_cell(rnn_size) for _ in range(num_layers)])\n",
    "    \n",
    "    # Dropout\n",
    "    drop = tf.contrib.rnn.DropoutWrapper(stacked_lstm,output_keep_prob=keep_prob)\n",
    "    \n",
    "    # Run RNN\n",
    "    RNN_output, RNN_state = tf.nn.dynamic_rnn(drop,embed,initial_state=None,sequence_length=source_sequence_length,dtype=tf.float32)        \n",
    "\n",
    "    return RNN_output, RNN_state\n",
    "\n",
    "\"\"\"\n",
    "DON'T MODIFY ANYTHING IN THIS CELL THAT IS BELOW THIS LINE\n",
    "\"\"\"\n",
    "tests.test_encoding_layer(encoding_layer)"
   ]
  },
  {
   "cell_type": "markdown",
   "metadata": {
    "deletable": true,
    "editable": true
   },
   "source": [
    "### Decoding - Training\n",
    "Create a training decoding layer:\n",
    "* Create a [`tf.contrib.seq2seq.TrainingHelper`](https://www.tensorflow.org/api_docs/python/tf/contrib/seq2seq/TrainingHelper) \n",
    "* Create a [`tf.contrib.seq2seq.BasicDecoder`](https://www.tensorflow.org/api_docs/python/tf/contrib/seq2seq/BasicDecoder)\n",
    "* Obtain the decoder outputs from [`tf.contrib.seq2seq.dynamic_decode`](https://www.tensorflow.org/api_docs/python/tf/contrib/seq2seq/dynamic_decode)"
   ]
  },
  {
   "cell_type": "code",
   "execution_count": 10,
   "metadata": {
    "collapsed": false,
    "deletable": true,
    "editable": true
   },
   "outputs": [
    {
     "name": "stdout",
     "output_type": "stream",
     "text": [
      "Tests Passed\n"
     ]
    }
   ],
   "source": [
    "\n",
    "def decoding_layer_train(encoder_state, dec_cell, dec_embed_input, \n",
    "                         target_sequence_length, max_summary_length, \n",
    "                         output_layer, keep_prob):\n",
    "    \"\"\"\n",
    "    Create a decoding layer for training\n",
    "    :param encoder_state: Encoder State\n",
    "    :param dec_cell: Decoder RNN Cell\n",
    "    :param dec_embed_input: Decoder embedded input\n",
    "    :param target_sequence_length: The lengths of each sequence in the target batch\n",
    "    :param max_summary_length: The length of the longest sequence in the batch\n",
    "    :param output_layer: Function to apply the output layer\n",
    "    :param keep_prob: Dropout keep probability\n",
    "    :return: BasicDecoderOutput containing training logits and sample_id\n",
    "    \"\"\"\n",
    "    # TODO: Implement Function\n",
    "    # Training Helper : Returned sample_ids are the argmax of the RNN output logits\n",
    "    helper = tf.contrib.seq2seq.TrainingHelper(dec_embed_input,target_sequence_length)\n",
    "    \n",
    "    # Decoder\n",
    "    decoder = tf.contrib.seq2seq.BasicDecoder(dec_cell,helper,encoder_state,output_layer)\n",
    "    \n",
    "    # Run Decoder\n",
    "    output,_ = tf.contrib.seq2seq.dynamic_decode(decoder,maximum_iterations=max_summary_length)\n",
    "    \n",
    "    return output\n",
    "\n",
    "\n",
    "\"\"\"\n",
    "DON'T MODIFY ANYTHING IN THIS CELL THAT IS BELOW THIS LINE\n",
    "\"\"\"\n",
    "tests.test_decoding_layer_train(decoding_layer_train)"
   ]
  },
  {
   "cell_type": "markdown",
   "metadata": {
    "deletable": true,
    "editable": true
   },
   "source": [
    "### Decoding - Inference\n",
    "Create inference decoder:\n",
    "* Create a [`tf.contrib.seq2seq.GreedyEmbeddingHelper`](https://www.tensorflow.org/api_docs/python/tf/contrib/seq2seq/GreedyEmbeddingHelper)\n",
    "* Create a [`tf.contrib.seq2seq.BasicDecoder`](https://www.tensorflow.org/api_docs/python/tf/contrib/seq2seq/BasicDecoder)\n",
    "* Obtain the decoder outputs from [`tf.contrib.seq2seq.dynamic_decode`](https://www.tensorflow.org/api_docs/python/tf/contrib/seq2seq/dynamic_decode)"
   ]
  },
  {
   "cell_type": "code",
   "execution_count": 11,
   "metadata": {
    "collapsed": false,
    "deletable": true,
    "editable": true,
    "scrolled": true
   },
   "outputs": [
    {
     "name": "stdout",
     "output_type": "stream",
     "text": [
      "Tests Passed\n"
     ]
    }
   ],
   "source": [
    "def decoding_layer_infer(encoder_state, dec_cell, dec_embeddings, start_of_sequence_id,\n",
    "                         end_of_sequence_id, max_target_sequence_length,\n",
    "                         vocab_size, output_layer, batch_size, keep_prob):\n",
    "    \"\"\"\n",
    "    Create a decoding layer for inference\n",
    "    :param encoder_state: Encoder state\n",
    "    :param dec_cell: Decoder RNN Cell\n",
    "    :param dec_embeddings: Decoder embeddings\n",
    "    :param start_of_sequence_id: GO ID\n",
    "    :param end_of_sequence_id: EOS Id\n",
    "    :param max_target_sequence_length: Maximum length of target sequences\n",
    "    :param vocab_size: Size of decoder/target vocabulary\n",
    "    :param decoding_scope: TenorFlow Variable Scope for decoding\n",
    "    :param output_layer: Function to apply the output layer\n",
    "    :param batch_size: Batch size\n",
    "    :param keep_prob: Dropout keep probability\n",
    "    :return: BasicDecoderOutput containing inference logits and sample_id\n",
    "    \"\"\"\n",
    "    # TODO: Implement Function\n",
    "    # GreedyEmbeddingHelper\n",
    "    helper = tf.contrib.seq2seq.GreedyEmbeddingHelper(dec_embeddings,[start_of_sequence_id]*batch_size,end_of_sequence_id)\n",
    "    \n",
    "    # Decoder\n",
    "    decoder = tf.contrib.seq2seq.BasicDecoder(dec_cell,helper,encoder_state,output_layer)\n",
    "    \n",
    "    # Run Decoder\n",
    "    output,_ = tf.contrib.seq2seq.dynamic_decode(decoder,maximum_iterations=max_target_sequence_length)\n",
    "    \n",
    "    return output\n",
    "\n",
    "\n",
    "\"\"\"\n",
    "DON'T MODIFY ANYTHING IN THIS CELL THAT IS BELOW THIS LINE\n",
    "\"\"\"\n",
    "tests.test_decoding_layer_infer(decoding_layer_infer)"
   ]
  },
  {
   "cell_type": "markdown",
   "metadata": {
    "deletable": true,
    "editable": true
   },
   "source": [
    "### Build the Decoding Layer\n",
    "Implement `decoding_layer()` to create a Decoder RNN layer.\n",
    "\n",
    "* Embed the target sequences\n",
    "* Construct the decoder LSTM cell (just like you constructed the encoder cell above)\n",
    "* Create an output layer to map the outputs of the decoder to the elements of our vocabulary\n",
    "* Use the your `decoding_layer_train(encoder_state, dec_cell, dec_embed_input, target_sequence_length, max_target_sequence_length, output_layer, keep_prob)` function to get the training logits.\n",
    "* Use your `decoding_layer_infer(encoder_state, dec_cell, dec_embeddings, start_of_sequence_id, end_of_sequence_id, max_target_sequence_length, vocab_size, output_layer, batch_size, keep_prob)` function to get the inference logits.\n",
    "\n",
    "Note: You'll need to use [tf.variable_scope](https://www.tensorflow.org/api_docs/python/tf/variable_scope) to share variables between training and inference."
   ]
  },
  {
   "cell_type": "code",
   "execution_count": 12,
   "metadata": {
    "collapsed": false,
    "deletable": true,
    "editable": true
   },
   "outputs": [
    {
     "name": "stdout",
     "output_type": "stream",
     "text": [
      "Tests Passed\n"
     ]
    }
   ],
   "source": [
    "def decoding_layer(dec_input, encoder_state,\n",
    "                   target_sequence_length, max_target_sequence_length,\n",
    "                   rnn_size,\n",
    "                   num_layers, target_vocab_to_int, target_vocab_size,\n",
    "                   batch_size, keep_prob, decoding_embedding_size):\n",
    "    \"\"\"\n",
    "    Create decoding layer\n",
    "    :param dec_input: Decoder input\n",
    "    :param encoder_state: Encoder state\n",
    "    :param target_sequence_length: The lengths of each sequence in the target batch\n",
    "    :param max_target_sequence_length: Maximum length of target sequences\n",
    "    :param rnn_size: RNN Size\n",
    "    :param num_layers: Number of layers\n",
    "    :param target_vocab_to_int: Dictionary to go from the target words to an id\n",
    "    :param target_vocab_size: Size of target vocabulary\n",
    "    :param batch_size: The size of the batch\n",
    "    :param keep_prob: Dropout keep probability\n",
    "    :param decoding_embedding_size: Decoding embedding size\n",
    "    :return: Tuple of (Training BasicDecoderOutput, Inference BasicDecoderOutput)\n",
    "    \"\"\"\n",
    "    # TODO: Implement Function\n",
    "    # Embedding\n",
    "    dec_embeddings = tf.Variable(tf.random_uniform([target_vocab_size, decoding_embedding_size]))\n",
    "    embed = tf.nn.embedding_lookup(dec_embeddings, dec_input)\n",
    "    \n",
    "    # Stacked LSTM\n",
    "    def lstm_cell(n):\n",
    "        return tf.contrib.rnn.LSTMCell(n,initializer=tf.random_uniform_initializer(-0.1,0.1,seed=1))\n",
    "    stacked_lstm = tf.contrib.rnn.MultiRNNCell([lstm_cell(rnn_size) for _ in range(num_layers)])\n",
    "    \n",
    "    # Dropout\n",
    "    drop = tf.contrib.rnn.DropoutWrapper(stacked_lstm,output_keep_prob=keep_prob)\n",
    "    \n",
    "    # Output Layer\n",
    "    output_fn = Dense(target_vocab_size, kernel_initializer=tf.truncated_normal_initializer(mean=0.0, stddev=0.1 ))\n",
    "    \n",
    "    # Run RNN\n",
    "    with tf.variable_scope('decode'):  \n",
    "        train = decoding_layer_train(encoder_state,drop,embed,target_sequence_length,max_target_sequence_length,output_fn,keep_prob)\n",
    "        \n",
    "    with tf.variable_scope('decode', reuse=True):\n",
    "        infer = decoding_layer_infer(encoder_state,drop,dec_embeddings,target_vocab_to_int['<GO>'],target_vocab_to_int['<EOS>'],max_target_sequence_length,target_vocab_size,output_fn,batch_size,keep_prob)\n",
    "\n",
    "    return train, infer\n",
    "\n",
    "\n",
    "\"\"\"\n",
    "DON'T MODIFY ANYTHING IN THIS CELL THAT IS BELOW THIS LINE\n",
    "\"\"\"\n",
    "tests.test_decoding_layer(decoding_layer)"
   ]
  },
  {
   "cell_type": "markdown",
   "metadata": {
    "deletable": true,
    "editable": true
   },
   "source": [
    "### Build the Neural Network\n",
    "Apply the functions you implemented above to:\n",
    "\n",
    "- Encode the input using your `encoding_layer(rnn_inputs, rnn_size, num_layers, keep_prob,  source_sequence_length, source_vocab_size, encoding_embedding_size)`.\n",
    "- Process target data using your `process_decoder_input(target_data, target_vocab_to_int, batch_size)` function.\n",
    "- Decode the encoded input using your `decoding_layer(dec_input, enc_state, target_sequence_length, max_target_sentence_length, rnn_size, num_layers, target_vocab_to_int, target_vocab_size, batch_size, keep_prob, dec_embedding_size)` function."
   ]
  },
  {
   "cell_type": "code",
   "execution_count": 13,
   "metadata": {
    "collapsed": false,
    "deletable": true,
    "editable": true
   },
   "outputs": [
    {
     "name": "stdout",
     "output_type": "stream",
     "text": [
      "Tests Passed\n"
     ]
    }
   ],
   "source": [
    "def seq2seq_model(input_data, target_data, keep_prob, batch_size,\n",
    "                  source_sequence_length, target_sequence_length,\n",
    "                  max_target_sentence_length,\n",
    "                  source_vocab_size, target_vocab_size,\n",
    "                  enc_embedding_size, dec_embedding_size,\n",
    "                  rnn_size, num_layers, target_vocab_to_int):\n",
    "    \"\"\"\n",
    "    Build the Sequence-to-Sequence part of the neural network\n",
    "    :param input_data: Input placeholder\n",
    "    :param target_data: Target placeholder\n",
    "    :param keep_prob: Dropout keep probability placeholder\n",
    "    :param batch_size: Batch Size\n",
    "    :param source_sequence_length: Sequence Lengths of source sequences in the batch\n",
    "    :param target_sequence_length: Sequence Lengths of target sequences in the batch\n",
    "    :param source_vocab_size: Source vocabulary size\n",
    "    :param target_vocab_size: Target vocabulary size\n",
    "    :param enc_embedding_size: Decoder embedding size\n",
    "    :param dec_embedding_size: Encoder embedding size\n",
    "    :param rnn_size: RNN Size\n",
    "    :param num_layers: Number of layers\n",
    "    :param target_vocab_to_int: Dictionary to go from the target words to an id\n",
    "    :return: Tuple of (Training BasicDecoderOutput, Inference BasicDecoderOutput)\n",
    "    \"\"\"\n",
    "    # TODO: Implement Function\n",
    "    # Encoding_layer\n",
    "    enc_output, enc_state = encoding_layer(input_data, rnn_size, num_layers, keep_prob, \n",
    "                   source_sequence_length, source_vocab_size, \n",
    "                   enc_embedding_size)\n",
    "    \n",
    "    # Process_decoder_input\n",
    "    dec_input = process_decoder_input(target_data, target_vocab_to_int, batch_size)\n",
    "    \n",
    "    # Decoding_layer\n",
    "    train, infer = decoding_layer(dec_input, enc_state, target_sequence_length, max_target_sentence_length, rnn_size, num_layers, target_vocab_to_int, target_vocab_size, batch_size, keep_prob, dec_embedding_size)\n",
    "    \n",
    "    return train, infer\n",
    "\n",
    "\n",
    "\"\"\"\n",
    "DON'T MODIFY ANYTHING IN THIS CELL THAT IS BELOW THIS LINE\n",
    "\"\"\"\n",
    "tests.test_seq2seq_model(seq2seq_model)"
   ]
  },
  {
   "cell_type": "markdown",
   "metadata": {
    "deletable": true,
    "editable": true
   },
   "source": [
    "## Neural Network Training\n",
    "### Hyperparameters\n",
    "Tune the following parameters:\n",
    "\n",
    "- Set `epochs` to the number of epochs.\n",
    "- Set `batch_size` to the batch size.\n",
    "- Set `rnn_size` to the size of the RNNs.\n",
    "- Set `num_layers` to the number of layers.\n",
    "- Set `encoding_embedding_size` to the size of the embedding for the encoder.\n",
    "- Set `decoding_embedding_size` to the size of the embedding for the decoder.\n",
    "- Set `learning_rate` to the learning rate.\n",
    "- Set `keep_probability` to the Dropout keep probability\n",
    "- Set `display_step` to state how many steps between each debug output statement"
   ]
  },
  {
   "cell_type": "code",
   "execution_count": 14,
   "metadata": {
    "collapsed": true,
    "deletable": true,
    "editable": true
   },
   "outputs": [],
   "source": [
    "# Number of Epochs\n",
    "epochs = 15\n",
    "# Batch Size\n",
    "batch_size = 128\n",
    "# RNN Size\n",
    "rnn_size = 50\n",
    "# Number of Layers\n",
    "num_layers = 2\n",
    "# Embedding Size\n",
    "encoding_embedding_size = 16\n",
    "decoding_embedding_size = 16\n",
    "# Learning Rate\n",
    "learning_rate = 0.001\n",
    "# Dropout Keep Probability\n",
    "keep_probability = 0.6\n",
    "display_step = 100"
   ]
  },
  {
   "cell_type": "markdown",
   "metadata": {
    "deletable": true,
    "editable": true
   },
   "source": [
    "### Build the Graph\n",
    "Build the graph using the neural network you implemented."
   ]
  },
  {
   "cell_type": "code",
   "execution_count": 15,
   "metadata": {
    "collapsed": true,
    "deletable": true,
    "editable": true
   },
   "outputs": [],
   "source": [
    "\"\"\"\n",
    "DON'T MODIFY ANYTHING IN THIS CELL\n",
    "\"\"\"\n",
    "save_path = 'checkpoints/dev'\n",
    "(source_int_text, target_int_text), (source_vocab_to_int, target_vocab_to_int), _ = helper.load_preprocess()\n",
    "max_target_sentence_length = max([len(sentence) for sentence in source_int_text])\n",
    "\n",
    "train_graph = tf.Graph()\n",
    "with train_graph.as_default():\n",
    "    input_data, targets, lr, keep_prob, target_sequence_length, max_target_sequence_length, source_sequence_length = model_inputs()\n",
    "\n",
    "    #sequence_length = tf.placeholder_with_default(max_target_sentence_length, None, name='sequence_length')\n",
    "    input_shape = tf.shape(input_data)\n",
    "\n",
    "    train_logits, inference_logits = seq2seq_model(tf.reverse(input_data, [-1]),\n",
    "                                                   targets,\n",
    "                                                   keep_prob,\n",
    "                                                   batch_size,\n",
    "                                                   source_sequence_length,\n",
    "                                                   target_sequence_length,\n",
    "                                                   max_target_sequence_length,\n",
    "                                                   len(source_vocab_to_int),\n",
    "                                                   len(target_vocab_to_int),\n",
    "                                                   encoding_embedding_size,\n",
    "                                                   decoding_embedding_size,\n",
    "                                                   rnn_size,\n",
    "                                                   num_layers,\n",
    "                                                   target_vocab_to_int)\n",
    "\n",
    "\n",
    "    training_logits = tf.identity(train_logits.rnn_output, name='logits')\n",
    "    inference_logits = tf.identity(inference_logits.sample_id, name='predictions')\n",
    "\n",
    "    masks = tf.sequence_mask(target_sequence_length, max_target_sequence_length, dtype=tf.float32, name='masks')\n",
    "\n",
    "    with tf.name_scope(\"optimization\"):\n",
    "        # Loss function\n",
    "        cost = tf.contrib.seq2seq.sequence_loss(\n",
    "            training_logits,\n",
    "            targets,\n",
    "            masks)\n",
    "\n",
    "        # Optimizer\n",
    "        optimizer = tf.train.AdamOptimizer(lr)\n",
    "\n",
    "        # Gradient Clipping\n",
    "        gradients = optimizer.compute_gradients(cost)\n",
    "        capped_gradients = [(tf.clip_by_value(grad, -1., 1.), var) for grad, var in gradients if grad is not None]\n",
    "        train_op = optimizer.apply_gradients(capped_gradients)\n"
   ]
  },
  {
   "cell_type": "markdown",
   "metadata": {
    "deletable": true,
    "editable": true
   },
   "source": [
    "Batch and pad the source and target sequences"
   ]
  },
  {
   "cell_type": "code",
   "execution_count": 16,
   "metadata": {
    "collapsed": true,
    "deletable": true,
    "editable": true
   },
   "outputs": [],
   "source": [
    "\"\"\"\n",
    "DON'T MODIFY ANYTHING IN THIS CELL\n",
    "\"\"\"\n",
    "def pad_sentence_batch(sentence_batch, pad_int):\n",
    "    \"\"\"Pad sentences with <PAD> so that each sentence of a batch has the same length\"\"\"\n",
    "    max_sentence = max([len(sentence) for sentence in sentence_batch])\n",
    "    return [sentence + [pad_int] * (max_sentence - len(sentence)) for sentence in sentence_batch]\n",
    "\n",
    "\n",
    "def get_batches(sources, targets, batch_size, source_pad_int, target_pad_int):\n",
    "    \"\"\"Batch targets, sources, and the lengths of their sentences together\"\"\"\n",
    "    for batch_i in range(0, len(sources)//batch_size):\n",
    "        start_i = batch_i * batch_size\n",
    "\n",
    "        # Slice the right amount for the batch\n",
    "        sources_batch = sources[start_i:start_i + batch_size]\n",
    "        targets_batch = targets[start_i:start_i + batch_size]\n",
    "\n",
    "        # Pad\n",
    "        pad_sources_batch = np.array(pad_sentence_batch(sources_batch, source_pad_int))\n",
    "        pad_targets_batch = np.array(pad_sentence_batch(targets_batch, target_pad_int))\n",
    "\n",
    "        # Need the lengths for the _lengths parameters\n",
    "        pad_targets_lengths = []\n",
    "        for target in pad_targets_batch:\n",
    "            pad_targets_lengths.append(len(target))\n",
    "\n",
    "        pad_source_lengths = []\n",
    "        for source in pad_sources_batch:\n",
    "            pad_source_lengths.append(len(source))\n",
    "\n",
    "        yield pad_sources_batch, pad_targets_batch, pad_source_lengths, pad_targets_lengths\n"
   ]
  },
  {
   "cell_type": "markdown",
   "metadata": {
    "deletable": true,
    "editable": true
   },
   "source": [
    "### Train\n",
    "Train the neural network on the preprocessed data. If you have a hard time getting a good loss, check the forms to see if anyone is having the same problem."
   ]
  },
  {
   "cell_type": "code",
   "execution_count": 17,
   "metadata": {
    "collapsed": false,
    "deletable": true,
    "editable": true,
    "scrolled": false
   },
   "outputs": [
    {
     "name": "stdout",
     "output_type": "stream",
     "text": [
      "Epoch   0 Batch  100/1077 - Train Accuracy: 0.2617, Validation Accuracy: 0.3363, Loss: 3.3945\n",
      "Epoch   0 Batch  200/1077 - Train Accuracy: 0.3301, Validation Accuracy: 0.3793, Loss: 3.0326\n",
      "Epoch   0 Batch  300/1077 - Train Accuracy: 0.3351, Validation Accuracy: 0.4258, Loss: 2.8990\n",
      "Epoch   0 Batch  400/1077 - Train Accuracy: 0.4285, Validation Accuracy: 0.4876, Loss: 2.6053\n",
      "Epoch   0 Batch  500/1077 - Train Accuracy: 0.4605, Validation Accuracy: 0.5021, Loss: 2.3802\n",
      "Epoch   0 Batch  600/1077 - Train Accuracy: 0.4896, Validation Accuracy: 0.5007, Loss: 2.1744\n",
      "Epoch   0 Batch  700/1077 - Train Accuracy: 0.4437, Validation Accuracy: 0.4954, Loss: 2.0889\n",
      "Epoch   0 Batch  800/1077 - Train Accuracy: 0.4324, Validation Accuracy: 0.4975, Loss: 2.0357\n",
      "Epoch   0 Batch  900/1077 - Train Accuracy: 0.4328, Validation Accuracy: 0.4876, Loss: 1.8664\n",
      "Epoch   0 Batch 1000/1077 - Train Accuracy: 0.4833, Validation Accuracy: 0.4979, Loss: 1.6029\n",
      "Epoch   1 Batch  100/1077 - Train Accuracy: 0.4332, Validation Accuracy: 0.4872, Loss: 1.4927\n",
      "Epoch   1 Batch  200/1077 - Train Accuracy: 0.4102, Validation Accuracy: 0.4492, Loss: 1.4144\n",
      "Epoch   1 Batch  300/1077 - Train Accuracy: 0.3898, Validation Accuracy: 0.4354, Loss: 1.4217\n",
      "Epoch   1 Batch  400/1077 - Train Accuracy: 0.4496, Validation Accuracy: 0.4865, Loss: 1.2850\n",
      "Epoch   1 Batch  500/1077 - Train Accuracy: 0.4188, Validation Accuracy: 0.4567, Loss: 1.2354\n",
      "Epoch   1 Batch  600/1077 - Train Accuracy: 0.4989, Validation Accuracy: 0.5117, Loss: 1.1403\n",
      "Epoch   1 Batch  700/1077 - Train Accuracy: 0.4551, Validation Accuracy: 0.4954, Loss: 1.1364\n",
      "Epoch   1 Batch  800/1077 - Train Accuracy: 0.4465, Validation Accuracy: 0.4982, Loss: 1.1344\n",
      "Epoch   1 Batch  900/1077 - Train Accuracy: 0.4645, Validation Accuracy: 0.5220, Loss: 1.1200\n",
      "Epoch   1 Batch 1000/1077 - Train Accuracy: 0.5450, Validation Accuracy: 0.5458, Loss: 1.0055\n",
      "Epoch   2 Batch  100/1077 - Train Accuracy: 0.5156, Validation Accuracy: 0.5657, Loss: 1.0146\n",
      "Epoch   2 Batch  200/1077 - Train Accuracy: 0.4930, Validation Accuracy: 0.5515, Loss: 0.9902\n",
      "Epoch   2 Batch  300/1077 - Train Accuracy: 0.5004, Validation Accuracy: 0.5565, Loss: 1.0194\n",
      "Epoch   2 Batch  400/1077 - Train Accuracy: 0.5090, Validation Accuracy: 0.5547, Loss: 0.9483\n",
      "Epoch   2 Batch  500/1077 - Train Accuracy: 0.5156, Validation Accuracy: 0.5550, Loss: 0.9098\n",
      "Epoch   2 Batch  600/1077 - Train Accuracy: 0.5506, Validation Accuracy: 0.5625, Loss: 0.8766\n",
      "Epoch   2 Batch  700/1077 - Train Accuracy: 0.5414, Validation Accuracy: 0.5664, Loss: 0.8730\n",
      "Epoch   2 Batch  800/1077 - Train Accuracy: 0.4902, Validation Accuracy: 0.5653, Loss: 0.8913\n",
      "Epoch   2 Batch  900/1077 - Train Accuracy: 0.5113, Validation Accuracy: 0.5774, Loss: 0.8713\n",
      "Epoch   2 Batch 1000/1077 - Train Accuracy: 0.5737, Validation Accuracy: 0.5646, Loss: 0.7799\n",
      "Epoch   3 Batch  100/1077 - Train Accuracy: 0.5645, Validation Accuracy: 0.5827, Loss: 0.8270\n",
      "Epoch   3 Batch  200/1077 - Train Accuracy: 0.5266, Validation Accuracy: 0.5799, Loss: 0.8008\n",
      "Epoch   3 Batch  300/1077 - Train Accuracy: 0.5448, Validation Accuracy: 0.5952, Loss: 0.8160\n",
      "Epoch   3 Batch  400/1077 - Train Accuracy: 0.5684, Validation Accuracy: 0.5923, Loss: 0.7740\n",
      "Epoch   3 Batch  500/1077 - Train Accuracy: 0.5730, Validation Accuracy: 0.5984, Loss: 0.7498\n",
      "Epoch   3 Batch  600/1077 - Train Accuracy: 0.6034, Validation Accuracy: 0.6101, Loss: 0.7189\n",
      "Epoch   3 Batch  700/1077 - Train Accuracy: 0.5563, Validation Accuracy: 0.5930, Loss: 0.7148\n",
      "Epoch   3 Batch  800/1077 - Train Accuracy: 0.5504, Validation Accuracy: 0.5980, Loss: 0.7254\n",
      "Epoch   3 Batch  900/1077 - Train Accuracy: 0.5617, Validation Accuracy: 0.6097, Loss: 0.7295\n",
      "Epoch   3 Batch 1000/1077 - Train Accuracy: 0.6369, Validation Accuracy: 0.6161, Loss: 0.6491\n",
      "Epoch   4 Batch  100/1077 - Train Accuracy: 0.6098, Validation Accuracy: 0.6168, Loss: 0.7004\n",
      "Epoch   4 Batch  200/1077 - Train Accuracy: 0.5676, Validation Accuracy: 0.6207, Loss: 0.6890\n",
      "Epoch   4 Batch  300/1077 - Train Accuracy: 0.6049, Validation Accuracy: 0.6410, Loss: 0.6915\n",
      "Epoch   4 Batch  400/1077 - Train Accuracy: 0.6078, Validation Accuracy: 0.6367, Loss: 0.6598\n",
      "Epoch   4 Batch  500/1077 - Train Accuracy: 0.6262, Validation Accuracy: 0.6470, Loss: 0.6392\n",
      "Epoch   4 Batch  600/1077 - Train Accuracy: 0.6328, Validation Accuracy: 0.6452, Loss: 0.6015\n",
      "Epoch   4 Batch  700/1077 - Train Accuracy: 0.6020, Validation Accuracy: 0.6474, Loss: 0.6102\n",
      "Epoch   4 Batch  800/1077 - Train Accuracy: 0.6039, Validation Accuracy: 0.6495, Loss: 0.6035\n",
      "Epoch   4 Batch  900/1077 - Train Accuracy: 0.6195, Validation Accuracy: 0.6541, Loss: 0.6150\n",
      "Epoch   4 Batch 1000/1077 - Train Accuracy: 0.6763, Validation Accuracy: 0.6623, Loss: 0.5585\n",
      "Epoch   5 Batch  100/1077 - Train Accuracy: 0.6484, Validation Accuracy: 0.6673, Loss: 0.5968\n",
      "Epoch   5 Batch  200/1077 - Train Accuracy: 0.6172, Validation Accuracy: 0.6523, Loss: 0.5835\n",
      "Epoch   5 Batch  300/1077 - Train Accuracy: 0.6451, Validation Accuracy: 0.6751, Loss: 0.5609\n",
      "Epoch   5 Batch  400/1077 - Train Accuracy: 0.6258, Validation Accuracy: 0.6591, Loss: 0.5598\n",
      "Epoch   5 Batch  500/1077 - Train Accuracy: 0.6387, Validation Accuracy: 0.6761, Loss: 0.5371\n",
      "Epoch   5 Batch  600/1077 - Train Accuracy: 0.6570, Validation Accuracy: 0.6420, Loss: 0.5195\n",
      "Epoch   5 Batch  700/1077 - Train Accuracy: 0.6301, Validation Accuracy: 0.6545, Loss: 0.5233\n",
      "Epoch   5 Batch  800/1077 - Train Accuracy: 0.6594, Validation Accuracy: 0.6339, Loss: 0.5288\n",
      "Epoch   5 Batch  900/1077 - Train Accuracy: 0.6527, Validation Accuracy: 0.6580, Loss: 0.5253\n",
      "Epoch   5 Batch 1000/1077 - Train Accuracy: 0.7109, Validation Accuracy: 0.6516, Loss: 0.4671\n",
      "Epoch   6 Batch  100/1077 - Train Accuracy: 0.6754, Validation Accuracy: 0.6278, Loss: 0.5017\n",
      "Epoch   6 Batch  200/1077 - Train Accuracy: 0.6504, Validation Accuracy: 0.6513, Loss: 0.5061\n",
      "Epoch   6 Batch  300/1077 - Train Accuracy: 0.6748, Validation Accuracy: 0.6392, Loss: 0.4880\n",
      "Epoch   6 Batch  400/1077 - Train Accuracy: 0.6520, Validation Accuracy: 0.6460, Loss: 0.5029\n",
      "Epoch   6 Batch  500/1077 - Train Accuracy: 0.6828, Validation Accuracy: 0.6506, Loss: 0.4743\n",
      "Epoch   6 Batch  600/1077 - Train Accuracy: 0.6700, Validation Accuracy: 0.6509, Loss: 0.4459\n",
      "Epoch   6 Batch  700/1077 - Train Accuracy: 0.6520, Validation Accuracy: 0.6502, Loss: 0.4385\n",
      "Epoch   6 Batch  800/1077 - Train Accuracy: 0.6652, Validation Accuracy: 0.6637, Loss: 0.4632\n",
      "Epoch   6 Batch  900/1077 - Train Accuracy: 0.6863, Validation Accuracy: 0.6598, Loss: 0.4691\n",
      "Epoch   6 Batch 1000/1077 - Train Accuracy: 0.7552, Validation Accuracy: 0.6747, Loss: 0.3992\n",
      "Epoch   7 Batch  100/1077 - Train Accuracy: 0.7375, Validation Accuracy: 0.6942, Loss: 0.4583\n",
      "Epoch   7 Batch  200/1077 - Train Accuracy: 0.7063, Validation Accuracy: 0.6900, Loss: 0.4527\n",
      "Epoch   7 Batch  300/1077 - Train Accuracy: 0.7447, Validation Accuracy: 0.6896, Loss: 0.4305\n",
      "Epoch   7 Batch  400/1077 - Train Accuracy: 0.6918, Validation Accuracy: 0.7085, Loss: 0.4490\n",
      "Epoch   7 Batch  500/1077 - Train Accuracy: 0.7320, Validation Accuracy: 0.6850, Loss: 0.4049\n",
      "Epoch   7 Batch  600/1077 - Train Accuracy: 0.7150, Validation Accuracy: 0.7010, Loss: 0.4028\n",
      "Epoch   7 Batch  700/1077 - Train Accuracy: 0.7238, Validation Accuracy: 0.6939, Loss: 0.3919\n",
      "Epoch   7 Batch  800/1077 - Train Accuracy: 0.7223, Validation Accuracy: 0.7212, Loss: 0.4076\n",
      "Epoch   7 Batch  900/1077 - Train Accuracy: 0.7543, Validation Accuracy: 0.7266, Loss: 0.4089\n",
      "Epoch   7 Batch 1000/1077 - Train Accuracy: 0.7950, Validation Accuracy: 0.7333, Loss: 0.3596\n",
      "Epoch   8 Batch  100/1077 - Train Accuracy: 0.7660, Validation Accuracy: 0.7347, Loss: 0.3816\n",
      "Epoch   8 Batch  200/1077 - Train Accuracy: 0.7688, Validation Accuracy: 0.7447, Loss: 0.4072\n",
      "Epoch   8 Batch  300/1077 - Train Accuracy: 0.7841, Validation Accuracy: 0.7404, Loss: 0.3821\n",
      "Epoch   8 Batch  400/1077 - Train Accuracy: 0.7520, Validation Accuracy: 0.7617, Loss: 0.4069\n",
      "Epoch   8 Batch  500/1077 - Train Accuracy: 0.7777, Validation Accuracy: 0.7536, Loss: 0.3646\n",
      "Epoch   8 Batch  600/1077 - Train Accuracy: 0.7712, Validation Accuracy: 0.7496, Loss: 0.3672\n",
      "Epoch   8 Batch  700/1077 - Train Accuracy: 0.7734, Validation Accuracy: 0.7464, Loss: 0.3460\n",
      "Epoch   8 Batch  800/1077 - Train Accuracy: 0.7672, Validation Accuracy: 0.7557, Loss: 0.3587\n",
      "Epoch   8 Batch  900/1077 - Train Accuracy: 0.7773, Validation Accuracy: 0.7493, Loss: 0.3651\n",
      "Epoch   8 Batch 1000/1077 - Train Accuracy: 0.8151, Validation Accuracy: 0.7511, Loss: 0.3276\n",
      "Epoch   9 Batch  100/1077 - Train Accuracy: 0.8043, Validation Accuracy: 0.7781, Loss: 0.3515\n",
      "Epoch   9 Batch  200/1077 - Train Accuracy: 0.7816, Validation Accuracy: 0.7621, Loss: 0.3538\n",
      "Epoch   9 Batch  300/1077 - Train Accuracy: 0.8335, Validation Accuracy: 0.7706, Loss: 0.3369\n",
      "Epoch   9 Batch  400/1077 - Train Accuracy: 0.7816, Validation Accuracy: 0.7685, Loss: 0.3692\n",
      "Epoch   9 Batch  500/1077 - Train Accuracy: 0.8066, Validation Accuracy: 0.7546, Loss: 0.3292\n",
      "Epoch   9 Batch  600/1077 - Train Accuracy: 0.7805, Validation Accuracy: 0.7376, Loss: 0.3333\n",
      "Epoch   9 Batch  700/1077 - Train Accuracy: 0.7734, Validation Accuracy: 0.7603, Loss: 0.3136\n",
      "Epoch   9 Batch  800/1077 - Train Accuracy: 0.8234, Validation Accuracy: 0.7795, Loss: 0.3296\n",
      "Epoch   9 Batch  900/1077 - Train Accuracy: 0.8102, Validation Accuracy: 0.7717, Loss: 0.3329\n",
      "Epoch   9 Batch 1000/1077 - Train Accuracy: 0.8523, Validation Accuracy: 0.7859, Loss: 0.2999\n",
      "Epoch  10 Batch  100/1077 - Train Accuracy: 0.8297, Validation Accuracy: 0.7770, Loss: 0.3263\n",
      "Epoch  10 Batch  200/1077 - Train Accuracy: 0.8070, Validation Accuracy: 0.7646, Loss: 0.3412\n",
      "Epoch  10 Batch  300/1077 - Train Accuracy: 0.8388, Validation Accuracy: 0.7766, Loss: 0.3132\n",
      "Epoch  10 Batch  400/1077 - Train Accuracy: 0.7984, Validation Accuracy: 0.7670, Loss: 0.3314\n",
      "Epoch  10 Batch  500/1077 - Train Accuracy: 0.8098, Validation Accuracy: 0.7717, Loss: 0.3040\n",
      "Epoch  10 Batch  600/1077 - Train Accuracy: 0.8162, Validation Accuracy: 0.7646, Loss: 0.2961\n",
      "Epoch  10 Batch  700/1077 - Train Accuracy: 0.8121, Validation Accuracy: 0.7823, Loss: 0.3004\n",
      "Epoch  10 Batch  800/1077 - Train Accuracy: 0.8375, Validation Accuracy: 0.7731, Loss: 0.3071\n",
      "Epoch  10 Batch  900/1077 - Train Accuracy: 0.8324, Validation Accuracy: 0.7777, Loss: 0.3013\n",
      "Epoch  10 Batch 1000/1077 - Train Accuracy: 0.8624, Validation Accuracy: 0.7898, Loss: 0.2689\n",
      "Epoch  11 Batch  100/1077 - Train Accuracy: 0.8402, Validation Accuracy: 0.8065, Loss: 0.3030\n",
      "Epoch  11 Batch  200/1077 - Train Accuracy: 0.8133, Validation Accuracy: 0.7809, Loss: 0.2929\n",
      "Epoch  11 Batch  300/1077 - Train Accuracy: 0.8446, Validation Accuracy: 0.7798, Loss: 0.2937\n",
      "Epoch  11 Batch  400/1077 - Train Accuracy: 0.8266, Validation Accuracy: 0.8058, Loss: 0.3031\n",
      "Epoch  11 Batch  500/1077 - Train Accuracy: 0.8402, Validation Accuracy: 0.7983, Loss: 0.2730\n",
      "Epoch  11 Batch  600/1077 - Train Accuracy: 0.8289, Validation Accuracy: 0.7802, Loss: 0.2837\n",
      "Epoch  11 Batch  700/1077 - Train Accuracy: 0.8187, Validation Accuracy: 0.7873, Loss: 0.2830\n",
      "Epoch  11 Batch  800/1077 - Train Accuracy: 0.8410, Validation Accuracy: 0.7795, Loss: 0.2788\n",
      "Epoch  11 Batch  900/1077 - Train Accuracy: 0.8441, Validation Accuracy: 0.7866, Loss: 0.2785\n",
      "Epoch  11 Batch 1000/1077 - Train Accuracy: 0.8624, Validation Accuracy: 0.8093, Loss: 0.2433\n",
      "Epoch  12 Batch  100/1077 - Train Accuracy: 0.8605, Validation Accuracy: 0.8065, Loss: 0.2916\n",
      "Epoch  12 Batch  200/1077 - Train Accuracy: 0.8168, Validation Accuracy: 0.7940, Loss: 0.2775\n",
      "Epoch  12 Batch  300/1077 - Train Accuracy: 0.8586, Validation Accuracy: 0.8058, Loss: 0.2586\n",
      "Epoch  12 Batch  400/1077 - Train Accuracy: 0.8566, Validation Accuracy: 0.8114, Loss: 0.2800\n",
      "Epoch  12 Batch  500/1077 - Train Accuracy: 0.8457, Validation Accuracy: 0.7869, Loss: 0.2535\n",
      "Epoch  12 Batch  600/1077 - Train Accuracy: 0.8333, Validation Accuracy: 0.7788, Loss: 0.2637\n",
      "Epoch  12 Batch  700/1077 - Train Accuracy: 0.8375, Validation Accuracy: 0.7791, Loss: 0.2589\n",
      "Epoch  12 Batch  800/1077 - Train Accuracy: 0.8512, Validation Accuracy: 0.7763, Loss: 0.2505\n",
      "Epoch  12 Batch  900/1077 - Train Accuracy: 0.8684, Validation Accuracy: 0.8022, Loss: 0.2586\n",
      "Epoch  12 Batch 1000/1077 - Train Accuracy: 0.8657, Validation Accuracy: 0.8121, Loss: 0.2317\n",
      "Epoch  13 Batch  100/1077 - Train Accuracy: 0.8520, Validation Accuracy: 0.8104, Loss: 0.2581\n",
      "Epoch  13 Batch  200/1077 - Train Accuracy: 0.8406, Validation Accuracy: 0.8075, Loss: 0.2646\n",
      "Epoch  13 Batch  300/1077 - Train Accuracy: 0.8651, Validation Accuracy: 0.8061, Loss: 0.2505\n",
      "Epoch  13 Batch  400/1077 - Train Accuracy: 0.8324, Validation Accuracy: 0.8210, Loss: 0.2584\n",
      "Epoch  13 Batch  500/1077 - Train Accuracy: 0.8367, Validation Accuracy: 0.7983, Loss: 0.2342\n",
      "Epoch  13 Batch  600/1077 - Train Accuracy: 0.8478, Validation Accuracy: 0.7930, Loss: 0.2518\n",
      "Epoch  13 Batch  700/1077 - Train Accuracy: 0.8313, Validation Accuracy: 0.7852, Loss: 0.2341\n",
      "Epoch  13 Batch  800/1077 - Train Accuracy: 0.8676, Validation Accuracy: 0.7972, Loss: 0.2379\n",
      "Epoch  13 Batch  900/1077 - Train Accuracy: 0.8707, Validation Accuracy: 0.8153, Loss: 0.2572\n",
      "Epoch  13 Batch 1000/1077 - Train Accuracy: 0.8694, Validation Accuracy: 0.8214, Loss: 0.2267\n",
      "Epoch  14 Batch  100/1077 - Train Accuracy: 0.8633, Validation Accuracy: 0.8310, Loss: 0.2457\n",
      "Epoch  14 Batch  200/1077 - Train Accuracy: 0.8461, Validation Accuracy: 0.8022, Loss: 0.2654\n",
      "Epoch  14 Batch  300/1077 - Train Accuracy: 0.8795, Validation Accuracy: 0.8214, Loss: 0.2287\n",
      "Epoch  14 Batch  400/1077 - Train Accuracy: 0.8313, Validation Accuracy: 0.8050, Loss: 0.2556\n",
      "Epoch  14 Batch  500/1077 - Train Accuracy: 0.8535, Validation Accuracy: 0.8118, Loss: 0.2275\n",
      "Epoch  14 Batch  600/1077 - Train Accuracy: 0.8385, Validation Accuracy: 0.8026, Loss: 0.2232\n",
      "Epoch  14 Batch  700/1077 - Train Accuracy: 0.8512, Validation Accuracy: 0.8058, Loss: 0.2199\n",
      "Epoch  14 Batch  800/1077 - Train Accuracy: 0.8570, Validation Accuracy: 0.8161, Loss: 0.2285\n",
      "Epoch  14 Batch  900/1077 - Train Accuracy: 0.8922, Validation Accuracy: 0.8232, Loss: 0.2275\n",
      "Epoch  14 Batch 1000/1077 - Train Accuracy: 0.8731, Validation Accuracy: 0.8178, Loss: 0.2097\n",
      "Model Trained and Saved\n"
     ]
    }
   ],
   "source": [
    "\"\"\"\n",
    "DON'T MODIFY ANYTHING IN THIS CELL\n",
    "\"\"\"\n",
    "def get_accuracy(target, logits):\n",
    "    \"\"\"\n",
    "    Calculate accuracy\n",
    "    \"\"\"\n",
    "    max_seq = max(target.shape[1], logits.shape[1])\n",
    "    if max_seq - target.shape[1]:\n",
    "        target = np.pad(\n",
    "            target,\n",
    "            [(0,0),(0,max_seq - target.shape[1])],\n",
    "            'constant')\n",
    "    if max_seq - logits.shape[1]:\n",
    "        logits = np.pad(\n",
    "            logits,\n",
    "            [(0,0),(0,max_seq - logits.shape[1])],\n",
    "            'constant')\n",
    "\n",
    "    return np.mean(np.equal(target, logits))\n",
    "\n",
    "# Split data to training and validation sets\n",
    "train_source = source_int_text[batch_size:]\n",
    "train_target = target_int_text[batch_size:]\n",
    "valid_source = source_int_text[:batch_size]\n",
    "valid_target = target_int_text[:batch_size]\n",
    "(valid_sources_batch, valid_targets_batch, valid_sources_lengths, valid_targets_lengths ) = next(get_batches(valid_source,\n",
    "                                                                                                             valid_target,\n",
    "                                                                                                             batch_size,\n",
    "                                                                                                             source_vocab_to_int['<PAD>'],\n",
    "                                                                                                             target_vocab_to_int['<PAD>']))                                                                                                  \n",
    "with tf.Session(graph=train_graph) as sess:\n",
    "    sess.run(tf.global_variables_initializer())\n",
    "\n",
    "    for epoch_i in range(epochs):\n",
    "        for batch_i, (source_batch, target_batch, sources_lengths, targets_lengths) in enumerate(\n",
    "                get_batches(train_source, train_target, batch_size,\n",
    "                            source_vocab_to_int['<PAD>'],\n",
    "                            target_vocab_to_int['<PAD>'])):\n",
    "\n",
    "            _, loss = sess.run(\n",
    "                [train_op, cost],\n",
    "                {input_data: source_batch,\n",
    "                 targets: target_batch,\n",
    "                 lr: learning_rate,\n",
    "                 target_sequence_length: targets_lengths,\n",
    "                 source_sequence_length: sources_lengths,\n",
    "                 keep_prob: keep_probability})\n",
    "\n",
    "\n",
    "            if batch_i % display_step == 0 and batch_i > 0:\n",
    "\n",
    "\n",
    "                batch_train_logits = sess.run(\n",
    "                    inference_logits,\n",
    "                    {input_data: source_batch,\n",
    "                     source_sequence_length: sources_lengths,\n",
    "                     target_sequence_length: targets_lengths,\n",
    "                     keep_prob: 1.0})\n",
    "\n",
    "\n",
    "                batch_valid_logits = sess.run(\n",
    "                    inference_logits,\n",
    "                    {input_data: valid_sources_batch,\n",
    "                     source_sequence_length: valid_sources_lengths,\n",
    "                     target_sequence_length: valid_targets_lengths,\n",
    "                     keep_prob: 1.0})\n",
    "\n",
    "                train_acc = get_accuracy(target_batch, batch_train_logits)\n",
    "\n",
    "                valid_acc = get_accuracy(valid_targets_batch, batch_valid_logits)\n",
    "\n",
    "                print('Epoch {:>3} Batch {:>4}/{} - Train Accuracy: {:>6.4f}, Validation Accuracy: {:>6.4f}, Loss: {:>6.4f}'\n",
    "                      .format(epoch_i, batch_i, len(source_int_text) // batch_size, train_acc, valid_acc, loss))\n",
    "\n",
    "    # Save Model\n",
    "    saver = tf.train.Saver()\n",
    "    saver.save(sess, save_path)\n",
    "    print('Model Trained and Saved')"
   ]
  },
  {
   "cell_type": "markdown",
   "metadata": {
    "deletable": true,
    "editable": true
   },
   "source": [
    "### Save Parameters\n",
    "Save the `batch_size` and `save_path` parameters for inference."
   ]
  },
  {
   "cell_type": "code",
   "execution_count": 18,
   "metadata": {
    "collapsed": true,
    "deletable": true,
    "editable": true
   },
   "outputs": [],
   "source": [
    "\"\"\"\n",
    "DON'T MODIFY ANYTHING IN THIS CELL\n",
    "\"\"\"\n",
    "# Save parameters for checkpoint\n",
    "helper.save_params(save_path)"
   ]
  },
  {
   "cell_type": "markdown",
   "metadata": {
    "deletable": true,
    "editable": true
   },
   "source": [
    "# Checkpoint"
   ]
  },
  {
   "cell_type": "code",
   "execution_count": 19,
   "metadata": {
    "collapsed": true,
    "deletable": true,
    "editable": true
   },
   "outputs": [],
   "source": [
    "\"\"\"\n",
    "DON'T MODIFY ANYTHING IN THIS CELL\n",
    "\"\"\"\n",
    "import tensorflow as tf\n",
    "import numpy as np\n",
    "import helper\n",
    "import problem_unittests as tests\n",
    "\n",
    "_, (source_vocab_to_int, target_vocab_to_int), (source_int_to_vocab, target_int_to_vocab) = helper.load_preprocess()\n",
    "load_path = helper.load_params()"
   ]
  },
  {
   "cell_type": "markdown",
   "metadata": {
    "deletable": true,
    "editable": true
   },
   "source": [
    "## Sentence to Sequence\n",
    "To feed a sentence into the model for translation, you first need to preprocess it.  Implement the function `sentence_to_seq()` to preprocess new sentences.\n",
    "\n",
    "- Convert the sentence to lowercase\n",
    "- Convert words into ids using `vocab_to_int`\n",
    " - Convert words not in the vocabulary, to the `<UNK>` word id."
   ]
  },
  {
   "cell_type": "code",
   "execution_count": 20,
   "metadata": {
    "collapsed": false,
    "deletable": true,
    "editable": true
   },
   "outputs": [
    {
     "name": "stdout",
     "output_type": "stream",
     "text": [
      "Tests Passed\n"
     ]
    }
   ],
   "source": [
    "def sentence_to_seq(sentence, vocab_to_int):\n",
    "    \"\"\"\n",
    "    Convert a sentence to a sequence of ids\n",
    "    :param sentence: String\n",
    "    :param vocab_to_int: Dictionary to go from the words to an id\n",
    "    :return: List of word ids\n",
    "    \"\"\"\n",
    "    # TODO: Implement Function\n",
    "    return [vocab_to_int[i] if i in vocab_to_int.keys() else vocab_to_int['<UNK>'] for i in sentence.lower().split()]\n",
    "\n",
    "\n",
    "\"\"\"\n",
    "DON'T MODIFY ANYTHING IN THIS CELL THAT IS BELOW THIS LINE\n",
    "\"\"\"\n",
    "tests.test_sentence_to_seq(sentence_to_seq)"
   ]
  },
  {
   "cell_type": "markdown",
   "metadata": {
    "deletable": true,
    "editable": true
   },
   "source": [
    "## Translate\n",
    "This will translate `translate_sentence` from English to French."
   ]
  },
  {
   "cell_type": "code",
   "execution_count": 21,
   "metadata": {
    "collapsed": false,
    "deletable": true,
    "editable": true
   },
   "outputs": [
    {
     "name": "stdout",
     "output_type": "stream",
     "text": [
      "INFO:tensorflow:Restoring parameters from checkpoints/dev\n",
      "Input\n",
      "  Word Ids:      [48, 212, 78, 126, 166, 147, 215]\n",
      "  English Words: ['he', 'saw', 'a', 'old', 'yellow', 'truck', '.']\n",
      "\n",
      "Prediction\n",
      "  Word Ids:      [167, 35, 177, 148, 240, 34, 263, 265, 1]\n",
      "  French Words: il a vu un nouveau camion noir . <EOS>\n"
     ]
    }
   ],
   "source": [
    "translate_sentence = 'he saw a old yellow truck .'\n",
    "\n",
    "\n",
    "\"\"\"\n",
    "DON'T MODIFY ANYTHING IN THIS CELL\n",
    "\"\"\"\n",
    "translate_sentence = sentence_to_seq(translate_sentence, source_vocab_to_int)\n",
    "\n",
    "loaded_graph = tf.Graph()\n",
    "with tf.Session(graph=loaded_graph) as sess:\n",
    "    # Load saved model\n",
    "    loader = tf.train.import_meta_graph(load_path + '.meta')\n",
    "    loader.restore(sess, load_path)\n",
    "\n",
    "    input_data = loaded_graph.get_tensor_by_name('input:0')\n",
    "    logits = loaded_graph.get_tensor_by_name('predictions:0')\n",
    "    target_sequence_length = loaded_graph.get_tensor_by_name('target_sequence_length:0')\n",
    "    source_sequence_length = loaded_graph.get_tensor_by_name('source_sequence_length:0')\n",
    "    keep_prob = loaded_graph.get_tensor_by_name('keep_prob:0')\n",
    "\n",
    "    translate_logits = sess.run(logits, {input_data: [translate_sentence]*batch_size,\n",
    "                                         target_sequence_length: [len(translate_sentence)*2]*batch_size,\n",
    "                                         source_sequence_length: [len(translate_sentence)]*batch_size,\n",
    "                                         keep_prob: 1.0})[0]\n",
    "\n",
    "print('Input')\n",
    "print('  Word Ids:      {}'.format([i for i in translate_sentence]))\n",
    "print('  English Words: {}'.format([source_int_to_vocab[i] for i in translate_sentence]))\n",
    "\n",
    "print('\\nPrediction')\n",
    "print('  Word Ids:      {}'.format([i for i in translate_logits]))\n",
    "print('  French Words: {}'.format(\" \".join([target_int_to_vocab[i] for i in translate_logits])))\n"
   ]
  },
  {
   "cell_type": "markdown",
   "metadata": {
    "deletable": true,
    "editable": true
   },
   "source": [
    "## Imperfect Translation\n",
    "You might notice that some sentences translate better than others.  Since the dataset you're using only has a vocabulary of 227 English words of the thousands that you use, you're only going to see good results using these words.  For this project, you don't need a perfect translation. However, if you want to create a better translation model, you'll need better data.\n",
    "\n",
    "You can train on the [WMT10 French-English corpus](http://www.statmt.org/wmt10/training-giga-fren.tar).  This dataset has more vocabulary and richer in topics discussed.  However, this will take you days to train, so make sure you've a GPU and the neural network is performing well on dataset we provided.  Just make sure you play with the WMT10 corpus after you've submitted this project.\n",
    "## Submitting This Project\n",
    "When submitting this project, make sure to run all the cells before saving the notebook. Save the notebook file as \"dlnd_language_translation.ipynb\" and save it as a HTML file under \"File\" -> \"Download as\". Include the \"helper.py\" and \"problem_unittests.py\" files in your submission."
   ]
  }
 ],
 "metadata": {
  "anaconda-cloud": {},
  "kernelspec": {
   "display_name": "Python 3",
   "language": "python",
   "name": "python3"
  },
  "language_info": {
   "codemirror_mode": {
    "name": "ipython",
    "version": 3
   },
   "file_extension": ".py",
   "mimetype": "text/x-python",
   "name": "python",
   "nbconvert_exporter": "python",
   "pygments_lexer": "ipython3",
   "version": "3.5.2"
  },
  "widgets": {
   "state": {},
   "version": "1.1.2"
  }
 },
 "nbformat": 4,
 "nbformat_minor": 1
}

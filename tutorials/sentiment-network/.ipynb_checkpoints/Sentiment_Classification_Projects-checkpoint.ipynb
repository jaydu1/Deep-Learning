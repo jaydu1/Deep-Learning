{
 "cells": [
  {
   "cell_type": "markdown",
   "metadata": {},
   "source": [
    "# Sentiment Classification & How To \"Frame Problems\" for a Neural Network\n",
    "\n",
    "by Andrew Trask\n",
    "\n",
    "- **Twitter**: @iamtrask\n",
    "- **Blog**: http://iamtrask.github.io"
   ]
  },
  {
   "cell_type": "markdown",
   "metadata": {},
   "source": [
    "### What You Should Already Know\n",
    "\n",
    "- neural networks, forward and back-propagation\n",
    "- stochastic gradient descent\n",
    "- mean squared error\n",
    "- and train/test splits\n",
    "\n",
    "### Where to Get Help if You Need it\n",
    "- Re-watch previous Udacity Lectures\n",
    "- Leverage the recommended Course Reading Material - [Grokking Deep Learning](https://www.manning.com/books/grokking-deep-learning) (Check inside your classroom for a discount code)\n",
    "- Shoot me a tweet @iamtrask\n",
    "\n",
    "\n",
    "### Tutorial Outline:\n",
    "\n",
    "- Intro: The Importance of \"Framing a Problem\" (this lesson)\n",
    "\n",
    "- [Curate a Dataset](#lesson_1)\n",
    "- [Developing a \"Predictive Theory\"](#lesson_2)\n",
    "- [**PROJECT 1**: Quick Theory Validation](#project_1)\n",
    "\n",
    "\n",
    "- [Transforming Text to Numbers](#lesson_3)\n",
    "- [**PROJECT 2**: Creating the Input/Output Data](#project_2)\n",
    "\n",
    "\n",
    "- Putting it all together in a Neural Network (video only - nothing in notebook)\n",
    "- [**PROJECT 3**: Building our Neural Network](#project_3)\n",
    "\n",
    "\n",
    "- [Understanding Neural Noise](#lesson_4)\n",
    "- [**PROJECT 4**: Making Learning Faster by Reducing Noise](#project_4)\n",
    "\n",
    "\n",
    "- [Analyzing Inefficiencies in our Network](#lesson_5)\n",
    "- [**PROJECT 5**: Making our Network Train and Run Faster](#project_5)\n",
    "\n",
    "\n",
    "- [Further Noise Reduction](#lesson_6)\n",
    "- [**PROJECT 6**: Reducing Noise by Strategically Reducing the Vocabulary](#project_6)\n",
    "\n",
    "\n",
    "- [Analysis: What's going on in the weights?](#lesson_7)"
   ]
  },
  {
   "cell_type": "markdown",
   "metadata": {
    "nbpresent": {
     "id": "56bb3cba-260c-4ebe-9ed6-b995b4c72aa3"
    }
   },
   "source": [
    "# Lesson: Curate a Dataset<a id='lesson_1'></a>\n",
    "The cells from here until Project 1 include code Andrew shows in the videos leading up to mini project 1. We've included them so you can run the code along with the videos without having to type in everything."
   ]
  },
  {
   "cell_type": "code",
   "execution_count": 1,
   "metadata": {
    "collapsed": false,
    "nbpresent": {
     "id": "eba2b193-0419-431e-8db9-60f34dd3fe83"
    }
   },
   "outputs": [],
   "source": [
    "def pretty_print_review_and_label(i):\n",
    "    print(labels[i] + \"\\t:\\t\" + reviews[i][:80] + \"...\")\n",
    "\n",
    "g = open('reviews.txt','r') # What we know!\n",
    "reviews = list(map(lambda x:x[:-1],g.readlines()))\n",
    "g.close()\n",
    "\n",
    "g = open('labels.txt','r') # What we WANT to know!\n",
    "labels = list(map(lambda x:x[:-1].upper(),g.readlines()))\n",
    "g.close()"
   ]
  },
  {
   "cell_type": "markdown",
   "metadata": {},
   "source": [
    "**Note:** The data in `reviews.txt` we're using has already been preprocessed a bit and contains only lower case characters. If we were working from raw data, where we didn't know it was all lower case, we would want to add a step here to convert it. That's so we treat different variations of the same word, like `The`, `the`, and `THE`, all the same way."
   ]
  },
  {
   "cell_type": "code",
   "execution_count": 2,
   "metadata": {
    "collapsed": false
   },
   "outputs": [
    {
     "data": {
      "text/plain": [
       "25000"
      ]
     },
     "execution_count": 2,
     "metadata": {},
     "output_type": "execute_result"
    }
   ],
   "source": [
    "len(reviews)"
   ]
  },
  {
   "cell_type": "code",
   "execution_count": 3,
   "metadata": {
    "collapsed": false,
    "nbpresent": {
     "id": "bb95574b-21a0-4213-ae50-34363cf4f87f"
    }
   },
   "outputs": [
    {
     "data": {
      "text/plain": [
       "'bromwell high is a cartoon comedy . it ran at the same time as some other programs about school life  such as  teachers  . my   years in the teaching profession lead me to believe that bromwell high  s satire is much closer to reality than is  teachers  . the scramble to survive financially  the insightful students who can see right through their pathetic teachers  pomp  the pettiness of the whole situation  all remind me of the schools i knew and their students . when i saw the episode in which a student repeatedly tried to burn down the school  i immediately recalled . . . . . . . . . at . . . . . . . . . . high . a classic line inspector i  m here to sack one of your teachers . student welcome to bromwell high . i expect that many adults of my age think that bromwell high is far fetched . what a pity that it isn  t   '"
      ]
     },
     "execution_count": 3,
     "metadata": {},
     "output_type": "execute_result"
    }
   ],
   "source": [
    "reviews[0]"
   ]
  },
  {
   "cell_type": "code",
   "execution_count": 10,
   "metadata": {
    "collapsed": false,
    "nbpresent": {
     "id": "e0408810-c424-4ed4-afb9-1735e9ddbd0a"
    }
   },
   "outputs": [
    {
     "data": {
      "text/plain": [
       "'NEGATIVE'"
      ]
     },
     "execution_count": 10,
     "metadata": {},
     "output_type": "execute_result"
    }
   ],
   "source": [
    "labels[1]"
   ]
  },
  {
   "cell_type": "markdown",
   "metadata": {},
   "source": [
    "# Lesson: Develop a Predictive Theory<a id='lesson_2'></a>"
   ]
  },
  {
   "cell_type": "code",
   "execution_count": null,
   "metadata": {
    "collapsed": false,
    "nbpresent": {
     "id": "e67a709f-234f-4493-bae6-4fb192141ee0"
    }
   },
   "outputs": [],
   "source": [
    "print(\"labels.txt \\t : \\t reviews.txt\\n\")\n",
    "pretty_print_review_and_label(2137)\n",
    "pretty_print_review_and_label(12816)\n",
    "pretty_print_review_and_label(6267)\n",
    "pretty_print_review_and_label(21934)\n",
    "pretty_print_review_and_label(5297)\n",
    "pretty_print_review_and_label(4998)"
   ]
  },
  {
   "cell_type": "markdown",
   "metadata": {},
   "source": [
    "# Project 1: Quick Theory Validation<a id='project_1'></a>\n",
    "\n",
    "There are multiple ways to implement these projects, but in order to get your code closer to what Andrew shows in his solutions, we've provided some hints and starter code throughout this notebook.\n",
    "\n",
    "You'll find the [Counter](https://docs.python.org/2/library/collections.html#collections.Counter) class to be useful in this exercise, as well as the [numpy](https://docs.scipy.org/doc/numpy/reference/) library."
   ]
  },
  {
   "cell_type": "code",
   "execution_count": 5,
   "metadata": {
    "collapsed": true
   },
   "outputs": [],
   "source": [
    "from collections import Counter\n",
    "import numpy as np"
   ]
  },
  {
   "cell_type": "markdown",
   "metadata": {},
   "source": [
    "We'll create three `Counter` objects, one for words from postive reviews, one for words from negative reviews, and one for all the words."
   ]
  },
  {
   "cell_type": "code",
   "execution_count": 6,
   "metadata": {
    "collapsed": false
   },
   "outputs": [],
   "source": [
    "# Create three Counter objects to store positive, negative and total counts\n",
    "positive_counts = Counter()\n",
    "negative_counts = Counter()\n",
    "total_counts = Counter()"
   ]
  },
  {
   "cell_type": "markdown",
   "metadata": {},
   "source": [
    "**TODO:** Examine all the reviews. For each word in a positive review, increase the count for that word in both your positive counter and the total words counter; likewise, for each word in a negative review, increase the count for that word in both your negative counter and the total words counter.\n",
    "\n",
    "**Note:** Throughout these projects, you should use `split(' ')` to divide a piece of text (such as a review) into individual words. If you use `split()` instead, you'll get slightly different results than what the videos and solutions show."
   ]
  },
  {
   "cell_type": "code",
   "execution_count": 13,
   "metadata": {
    "collapsed": true
   },
   "outputs": [],
   "source": [
    "# TODO: Loop over all the words in all the reviews and increment the counts in the appropriate counter objects\n",
    "for i in range(len(reviews)):\n",
    "    word_list=reviews[i].split(' ')\n",
    "    if labels[i]=='POSITIVE':\n",
    "        for j in word_list:\n",
    "            positive_counts[j]+=1\n",
    "            total_counts[j]+=1\n",
    "    else:\n",
    "        for j in word_list:\n",
    "            negative_counts[j]+=1\n",
    "            total_counts[j]+=1"
   ]
  },
  {
   "cell_type": "markdown",
   "metadata": {},
   "source": [
    "Run the following two cells to list the words used in positive reviews and negative reviews, respectively, ordered from most to least commonly used. "
   ]
  },
  {
   "cell_type": "code",
   "execution_count": 14,
   "metadata": {
    "collapsed": false
   },
   "outputs": [
    {
     "data": {
      "text/plain": [
       "[('', 550468),\n",
       " ('the', 173324),\n",
       " ('.', 159654),\n",
       " ('and', 89722),\n",
       " ('a', 83688),\n",
       " ('of', 76855),\n",
       " ('to', 66746),\n",
       " ('is', 57245),\n",
       " ('in', 50215),\n",
       " ('br', 49235),\n",
       " ('it', 48025),\n",
       " ('i', 40743),\n",
       " ('that', 35630),\n",
       " ('this', 35080),\n",
       " ('s', 33815),\n",
       " ('as', 26308),\n",
       " ('with', 23247),\n",
       " ('for', 22416),\n",
       " ('was', 21917),\n",
       " ('film', 20937),\n",
       " ('but', 20822),\n",
       " ('movie', 19074),\n",
       " ('his', 17227),\n",
       " ('on', 17008),\n",
       " ('you', 16681),\n",
       " ('he', 16282),\n",
       " ('are', 14807),\n",
       " ('not', 14272),\n",
       " ('t', 13720),\n",
       " ('one', 13655),\n",
       " ('have', 12587),\n",
       " (0, 12500),\n",
       " (1, 12500),\n",
       " (2, 12500),\n",
       " (3, 12500),\n",
       " (4, 12500),\n",
       " (5, 12500),\n",
       " (6, 12500),\n",
       " (7, 12500),\n",
       " (8, 12500),\n",
       " (9, 12500),\n",
       " (10, 12500),\n",
       " (11, 12500),\n",
       " (12, 12500),\n",
       " (13, 12500),\n",
       " (14, 12500),\n",
       " (15, 12500),\n",
       " (16, 12499),\n",
       " (17, 12499),\n",
       " (18, 12499),\n",
       " (19, 12499),\n",
       " (20, 12499),\n",
       " (21, 12499),\n",
       " (22, 12498),\n",
       " (23, 12498),\n",
       " (24, 12497),\n",
       " (25, 12497),\n",
       " (26, 12496),\n",
       " (27, 12496),\n",
       " (28, 12495),\n",
       " (29, 12494),\n",
       " (30, 12493),\n",
       " (31, 12491),\n",
       " (32, 12491),\n",
       " (33, 12489),\n",
       " (34, 12489),\n",
       " (35, 12487),\n",
       " (36, 12485),\n",
       " (37, 12481),\n",
       " (38, 12478),\n",
       " (39, 12475),\n",
       " (40, 12473),\n",
       " (41, 12468),\n",
       " (42, 12462),\n",
       " (43, 12460),\n",
       " (44, 12452),\n",
       " (45, 12449),\n",
       " (46, 12437),\n",
       " (47, 12430),\n",
       " (48, 12420),\n",
       " ('be', 12416),\n",
       " (49, 12407),\n",
       " (50, 12389),\n",
       " (51, 12376),\n",
       " (52, 12361),\n",
       " (53, 12340),\n",
       " (54, 12331),\n",
       " (55, 12313),\n",
       " (56, 12297),\n",
       " (57, 12281),\n",
       " (58, 12256),\n",
       " (59, 12237),\n",
       " (60, 12220),\n",
       " (61, 12209),\n",
       " (62, 12196),\n",
       " (63, 12174),\n",
       " (64, 12153),\n",
       " (65, 12136),\n",
       " (66, 12104),\n",
       " (67, 12085),\n",
       " (68, 12068),\n",
       " (69, 12037),\n",
       " (70, 12011),\n",
       " ('by', 11997),\n",
       " (71, 11981),\n",
       " (72, 11966),\n",
       " (73, 11947),\n",
       " ('all', 11942),\n",
       " (74, 11920),\n",
       " (75, 11891),\n",
       " (76, 11866),\n",
       " (77, 11847),\n",
       " (78, 11824),\n",
       " (79, 11804),\n",
       " (80, 11791),\n",
       " (81, 11773),\n",
       " (82, 11754),\n",
       " (83, 11728),\n",
       " (84, 11705),\n",
       " (85, 11674),\n",
       " (86, 11657),\n",
       " (87, 11640),\n",
       " (88, 11621),\n",
       " (89, 11606),\n",
       " (90, 11589),\n",
       " (91, 11569),\n",
       " (92, 11550),\n",
       " (93, 11533),\n",
       " (94, 11513),\n",
       " (95, 11491),\n",
       " (96, 11468),\n",
       " ('who', 11464),\n",
       " (97, 11443),\n",
       " (98, 11430),\n",
       " (99, 11408),\n",
       " (100, 11388),\n",
       " (101, 11367),\n",
       " (102, 11347),\n",
       " (103, 11324),\n",
       " (104, 11311),\n",
       " ('an', 11294),\n",
       " (105, 11293),\n",
       " (106, 11270),\n",
       " (107, 11249),\n",
       " ('at', 11234),\n",
       " (108, 11231),\n",
       " (109, 11207),\n",
       " (110, 11191),\n",
       " (111, 11169),\n",
       " (112, 11159),\n",
       " (113, 11145),\n",
       " (114, 11129),\n",
       " (115, 11115),\n",
       " (116, 11102),\n",
       " (117, 11087),\n",
       " (118, 11065),\n",
       " (119, 11057),\n",
       " (120, 11043),\n",
       " (121, 11025),\n",
       " (122, 11007),\n",
       " (123, 10984),\n",
       " (124, 10961),\n",
       " (125, 10929),\n",
       " (126, 10917),\n",
       " (127, 10892),\n",
       " (128, 10875),\n",
       " (129, 10854),\n",
       " (130, 10824),\n",
       " (131, 10797),\n",
       " (132, 10776),\n",
       " ('from', 10767),\n",
       " (133, 10741),\n",
       " (134, 10696),\n",
       " (135, 10661),\n",
       " (136, 10621),\n",
       " (137, 10589),\n",
       " (138, 10549),\n",
       " (139, 10515),\n",
       " ('her', 10474),\n",
       " (140, 10470),\n",
       " (141, 10424),\n",
       " (142, 10370),\n",
       " (143, 10319),\n",
       " (144, 10260),\n",
       " (145, 10199),\n",
       " (146, 10120),\n",
       " (147, 10052),\n",
       " (148, 9976),\n",
       " (149, 9920),\n",
       " ('they', 9895),\n",
       " (150, 9864),\n",
       " (151, 9791),\n",
       " (152, 9713),\n",
       " (153, 9639),\n",
       " (154, 9580),\n",
       " (155, 9512),\n",
       " (156, 9447),\n",
       " (157, 9400),\n",
       " (158, 9345),\n",
       " (159, 9280),\n",
       " (160, 9204),\n",
       " ('has', 9186),\n",
       " ('so', 9154),\n",
       " (161, 9137),\n",
       " (162, 9079),\n",
       " ('like', 9038),\n",
       " (163, 9016),\n",
       " (164, 8942),\n",
       " (165, 8868),\n",
       " (166, 8807),\n",
       " (167, 8742),\n",
       " (168, 8676),\n",
       " (169, 8607),\n",
       " (170, 8528),\n",
       " (171, 8474),\n",
       " (172, 8405),\n",
       " (173, 8341),\n",
       " ('about', 8313),\n",
       " ('very', 8305),\n",
       " (174, 8278),\n",
       " (175, 8236),\n",
       " (176, 8182),\n",
       " ('out', 8134),\n",
       " (177, 8125),\n",
       " (178, 8058),\n",
       " ('there', 8057),\n",
       " (179, 8022),\n",
       " (180, 7969),\n",
       " (181, 7915),\n",
       " (182, 7867),\n",
       " (183, 7823),\n",
       " (184, 7782),\n",
       " ('she', 7779),\n",
       " ('what', 7737),\n",
       " (185, 7733),\n",
       " ('or', 7732),\n",
       " ('good', 7720),\n",
       " (186, 7698),\n",
       " (187, 7653),\n",
       " (188, 7597),\n",
       " (189, 7550),\n",
       " ('more', 7521),\n",
       " (190, 7516),\n",
       " (191, 7462),\n",
       " ('when', 7456),\n",
       " ('some', 7441),\n",
       " (192, 7421),\n",
       " (193, 7378),\n",
       " (194, 7342),\n",
       " (195, 7291),\n",
       " ('if', 7285),\n",
       " (196, 7238),\n",
       " (197, 7196),\n",
       " ('just', 7152),\n",
       " (198, 7146),\n",
       " (199, 7105),\n",
       " (200, 7068),\n",
       " (201, 7018),\n",
       " ('can', 7001),\n",
       " (202, 6971),\n",
       " (203, 6931),\n",
       " (204, 6887),\n",
       " (205, 6838),\n",
       " (206, 6801),\n",
       " ('story', 6780),\n",
       " (207, 6762),\n",
       " (208, 6718),\n",
       " (209, 6679),\n",
       " (210, 6649),\n",
       " (211, 6608),\n",
       " (212, 6573),\n",
       " (213, 6527),\n",
       " ('time', 6515),\n",
       " ('my', 6488),\n",
       " (214, 6483),\n",
       " (215, 6447),\n",
       " ('great', 6419),\n",
       " (216, 6405),\n",
       " ('well', 6405),\n",
       " (217, 6370),\n",
       " (218, 6327),\n",
       " ('up', 6321),\n",
       " (219, 6293),\n",
       " ('which', 6267),\n",
       " (220, 6256),\n",
       " (221, 6224),\n",
       " (222, 6196),\n",
       " (223, 6154),\n",
       " (224, 6118),\n",
       " ('their', 6107),\n",
       " (225, 6087),\n",
       " (226, 6047),\n",
       " ('see', 6026),\n",
       " (227, 6020),\n",
       " (228, 5988),\n",
       " (229, 5962),\n",
       " (230, 5940),\n",
       " (231, 5908),\n",
       " (232, 5881),\n",
       " (233, 5857),\n",
       " (234, 5815),\n",
       " (235, 5790),\n",
       " (236, 5757),\n",
       " (237, 5725),\n",
       " (238, 5695),\n",
       " (239, 5661),\n",
       " (240, 5624),\n",
       " (241, 5581),\n",
       " (242, 5561),\n",
       " ('also', 5550),\n",
       " (243, 5534),\n",
       " ('we', 5531),\n",
       " (244, 5512),\n",
       " (245, 5492),\n",
       " ('really', 5476),\n",
       " (246, 5462),\n",
       " (247, 5439),\n",
       " (248, 5410),\n",
       " ('would', 5400),\n",
       " (249, 5377),\n",
       " (250, 5360),\n",
       " (251, 5340),\n",
       " (252, 5315),\n",
       " (253, 5291),\n",
       " (254, 5263),\n",
       " (255, 5238),\n",
       " ('will', 5218),\n",
       " (256, 5205),\n",
       " (257, 5187),\n",
       " ('me', 5167),\n",
       " (258, 5165),\n",
       " ('had', 5148),\n",
       " ('only', 5137),\n",
       " (259, 5134),\n",
       " (260, 5099),\n",
       " (261, 5072),\n",
       " (262, 5050),\n",
       " (263, 5026),\n",
       " ('him', 5018),\n",
       " (264, 5005),\n",
       " (265, 4987),\n",
       " (266, 4971),\n",
       " ('even', 4964),\n",
       " (267, 4948),\n",
       " (268, 4924),\n",
       " (269, 4907),\n",
       " (270, 4881),\n",
       " ('most', 4864),\n",
       " ('other', 4858),\n",
       " (271, 4857),\n",
       " (272, 4839),\n",
       " (273, 4820),\n",
       " (274, 4797),\n",
       " ('were', 4782),\n",
       " (275, 4776),\n",
       " ('first', 4755),\n",
       " (276, 4743),\n",
       " ('than', 4736),\n",
       " (277, 4730),\n",
       " (278, 4709),\n",
       " (279, 4691),\n",
       " ('much', 4685),\n",
       " (280, 4674),\n",
       " (281, 4652),\n",
       " (282, 4627),\n",
       " ('its', 4622),\n",
       " (283, 4610),\n",
       " (284, 4586),\n",
       " ('no', 4574),\n",
       " (285, 4562),\n",
       " ('into', 4544),\n",
       " (286, 4533),\n",
       " (287, 4505),\n",
       " (288, 4481),\n",
       " ('people', 4479),\n",
       " (289, 4463),\n",
       " (290, 4442),\n",
       " (291, 4422),\n",
       " (292, 4398),\n",
       " (293, 4385),\n",
       " (294, 4373),\n",
       " (295, 4350),\n",
       " (296, 4328),\n",
       " ('best', 4319),\n",
       " (297, 4306),\n",
       " ('love', 4301),\n",
       " (298, 4290),\n",
       " ('get', 4272),\n",
       " (299, 4268),\n",
       " (300, 4234),\n",
       " ('how', 4213),\n",
       " (301, 4212),\n",
       " ('life', 4199),\n",
       " (302, 4192),\n",
       " ('been', 4189),\n",
       " (303, 4172),\n",
       " (304, 4152),\n",
       " (305, 4137),\n",
       " (306, 4123),\n",
       " (307, 4097),\n",
       " (308, 4080),\n",
       " ('because', 4079),\n",
       " (309, 4059),\n",
       " ('way', 4036),\n",
       " (310, 4030),\n",
       " (311, 4014),\n",
       " (312, 3989),\n",
       " (313, 3973),\n",
       " (314, 3955),\n",
       " ('do', 3941),\n",
       " (315, 3938),\n",
       " (316, 3926),\n",
       " (317, 3907),\n",
       " (318, 3899),\n",
       " (319, 3888),\n",
       " (320, 3869),\n",
       " (321, 3852),\n",
       " (322, 3833),\n",
       " ('made', 3823),\n",
       " (323, 3816),\n",
       " ('films', 3813),\n",
       " ('them', 3805),\n",
       " (324, 3801),\n",
       " ('after', 3800),\n",
       " (325, 3788),\n",
       " (326, 3772),\n",
       " ('many', 3766),\n",
       " (327, 3745),\n",
       " ('two', 3733),\n",
       " (328, 3727),\n",
       " (329, 3714),\n",
       " (330, 3693),\n",
       " (331, 3685),\n",
       " (332, 3667),\n",
       " ('too', 3659),\n",
       " ('think', 3655),\n",
       " (333, 3652),\n",
       " (334, 3641),\n",
       " (335, 3621),\n",
       " (336, 3602),\n",
       " (337, 3589),\n",
       " ('movies', 3586),\n",
       " (338, 3575),\n",
       " (339, 3562),\n",
       " ('characters', 3560),\n",
       " (340, 3549),\n",
       " (341, 3533),\n",
       " (342, 3515),\n",
       " ('character', 3514),\n",
       " (343, 3505),\n",
       " (344, 3488),\n",
       " (345, 3472),\n",
       " ('don', 3468),\n",
       " ('man', 3460),\n",
       " (346, 3448),\n",
       " (347, 3434),\n",
       " ('show', 3432),\n",
       " ('watch', 3424),\n",
       " (348, 3414),\n",
       " ('seen', 3414),\n",
       " (349, 3405),\n",
       " (350, 3388),\n",
       " (351, 3369),\n",
       " ('then', 3358),\n",
       " (352, 3355),\n",
       " ('little', 3341),\n",
       " (353, 3340),\n",
       " ('still', 3340),\n",
       " (354, 3331),\n",
       " (355, 3310),\n",
       " ('make', 3303),\n",
       " (356, 3295),\n",
       " (357, 3284),\n",
       " (358, 3274),\n",
       " (359, 3263),\n",
       " (360, 3246),\n",
       " ('could', 3237),\n",
       " (361, 3235),\n",
       " ('never', 3226),\n",
       " (362, 3220),\n",
       " ('being', 3217),\n",
       " (363, 3205),\n",
       " (364, 3192),\n",
       " (365, 3182),\n",
       " ('where', 3173),\n",
       " (366, 3160),\n",
       " (367, 3146),\n",
       " (368, 3134),\n",
       " (369, 3121),\n",
       " (370, 3113),\n",
       " (371, 3101),\n",
       " (372, 3089),\n",
       " (373, 3075),\n",
       " ('does', 3069),\n",
       " (374, 3066),\n",
       " (375, 3050),\n",
       " (376, 3035),\n",
       " (377, 3023),\n",
       " ('over', 3017),\n",
       " (378, 3010),\n",
       " ('any', 3002),\n",
       " (379, 2996),\n",
       " (380, 2987),\n",
       " (381, 2975),\n",
       " (382, 2960),\n",
       " (383, 2952),\n",
       " (384, 2935),\n",
       " (385, 2928),\n",
       " (386, 2918),\n",
       " (387, 2910),\n",
       " (388, 2900),\n",
       " ('while', 2899),\n",
       " (389, 2891),\n",
       " (390, 2879),\n",
       " (391, 2868),\n",
       " (392, 2855),\n",
       " (393, 2847),\n",
       " (394, 2839),\n",
       " ('know', 2833),\n",
       " (395, 2829),\n",
       " (396, 2819),\n",
       " (397, 2809),\n",
       " (398, 2793),\n",
       " ('did', 2790),\n",
       " (399, 2778),\n",
       " (400, 2767),\n",
       " ('years', 2758),\n",
       " (401, 2756),\n",
       " (402, 2743),\n",
       " ('here', 2740),\n",
       " (403, 2736),\n",
       " ('ever', 2734),\n",
       " (404, 2718),\n",
       " (405, 2701),\n",
       " ('end', 2696),\n",
       " ('these', 2694),\n",
       " (406, 2678),\n",
       " (407, 2666),\n",
       " (408, 2657),\n",
       " (409, 2642),\n",
       " (410, 2632),\n",
       " (411, 2616),\n",
       " (412, 2606),\n",
       " (413, 2595),\n",
       " ('such', 2590),\n",
       " (414, 2587),\n",
       " (415, 2575),\n",
       " ('real', 2568),\n",
       " (416, 2567),\n",
       " ('scene', 2567),\n",
       " (417, 2560),\n",
       " ('back', 2547),\n",
       " (418, 2546),\n",
       " (419, 2533),\n",
       " (420, 2522),\n",
       " (421, 2507),\n",
       " (422, 2495),\n",
       " (423, 2488),\n",
       " ('those', 2485),\n",
       " (424, 2480),\n",
       " ('though', 2475),\n",
       " (425, 2471),\n",
       " ('off', 2463),\n",
       " (426, 2461),\n",
       " ('new', 2458),\n",
       " (427, 2457),\n",
       " ('your', 2453),\n",
       " (428, 2445),\n",
       " ('go', 2440),\n",
       " ('acting', 2437),\n",
       " (429, 2433),\n",
       " ('plot', 2432),\n",
       " ('world', 2429),\n",
       " ('scenes', 2427),\n",
       " (430, 2426),\n",
       " (431, 2416),\n",
       " ('say', 2414),\n",
       " ('through', 2409),\n",
       " (432, 2406),\n",
       " (433, 2398),\n",
       " ('makes', 2390),\n",
       " (434, 2389),\n",
       " ('better', 2381),\n",
       " (435, 2373),\n",
       " ('now', 2368),\n",
       " (436, 2362),\n",
       " (437, 2354),\n",
       " (438, 2350),\n",
       " ('work', 2346),\n",
       " ('young', 2343),\n",
       " (439, 2337),\n",
       " (440, 2327),\n",
       " (441, 2312),\n",
       " ('old', 2311),\n",
       " ('ve', 2307),\n",
       " (442, 2303),\n",
       " (443, 2290),\n",
       " (444, 2279),\n",
       " ('find', 2272),\n",
       " (445, 2264),\n",
       " (446, 2251),\n",
       " ('both', 2248),\n",
       " (447, 2243),\n",
       " (448, 2235),\n",
       " (449, 2225),\n",
       " (450, 2217),\n",
       " (451, 2211),\n",
       " (452, 2203),\n",
       " (453, 2193),\n",
       " (454, 2187),\n",
       " (455, 2181),\n",
       " ('before', 2177),\n",
       " (456, 2175),\n",
       " (457, 2164),\n",
       " ('us', 2162),\n",
       " ('again', 2158),\n",
       " (458, 2156),\n",
       " ('series', 2153),\n",
       " (459, 2149),\n",
       " ('quite', 2143),\n",
       " (460, 2140),\n",
       " (461, 2135),\n",
       " ('something', 2135),\n",
       " ('cast', 2133),\n",
       " (462, 2127),\n",
       " ('should', 2121),\n",
       " (463, 2120),\n",
       " (464, 2112),\n",
       " (465, 2104),\n",
       " ('part', 2098),\n",
       " (466, 2096),\n",
       " (467, 2092),\n",
       " ('always', 2088),\n",
       " ('lot', 2087),\n",
       " (468, 2078),\n",
       " ('another', 2075),\n",
       " (469, 2070),\n",
       " (470, 2062),\n",
       " (471, 2054),\n",
       " ('actors', 2047),\n",
       " (472, 2044),\n",
       " (473, 2042),\n",
       " ('director', 2040),\n",
       " (474, 2033),\n",
       " ('family', 2032),\n",
       " (475, 2019),\n",
       " ('between', 2016),\n",
       " ('own', 2016),\n",
       " (476, 2012),\n",
       " (477, 2007),\n",
       " (478, 2001),\n",
       " ('m', 1998),\n",
       " ('may', 1997),\n",
       " (479, 1993),\n",
       " (480, 1984),\n",
       " (481, 1978),\n",
       " ('same', 1972),\n",
       " (482, 1971),\n",
       " ('role', 1967),\n",
       " ('watching', 1966),\n",
       " (483, 1959),\n",
       " (484, 1955),\n",
       " ('every', 1954),\n",
       " ('funny', 1953),\n",
       " (485, 1945),\n",
       " (486, 1940),\n",
       " ('doesn', 1935),\n",
       " (487, 1930),\n",
       " ('performance', 1928),\n",
       " (488, 1925),\n",
       " ('few', 1918),\n",
       " (489, 1915),\n",
       " ('bad', 1907),\n",
       " (490, 1902),\n",
       " ('look', 1900),\n",
       " (491, 1895),\n",
       " (492, 1895),\n",
       " (493, 1886),\n",
       " ('re', 1884),\n",
       " (494, 1875),\n",
       " (495, 1871),\n",
       " (496, 1862),\n",
       " (497, 1855),\n",
       " ('why', 1855),\n",
       " (498, 1851),\n",
       " ('things', 1849),\n",
       " (499, 1845),\n",
       " (500, 1838),\n",
       " ('times', 1832),\n",
       " (501, 1827),\n",
       " (502, 1818),\n",
       " ('big', 1815),\n",
       " (503, 1813),\n",
       " (504, 1810),\n",
       " (505, 1805),\n",
       " (506, 1799),\n",
       " (507, 1795),\n",
       " ('however', 1795),\n",
       " ('actually', 1790),\n",
       " (508, 1789),\n",
       " ('action', 1789),\n",
       " (509, 1784),\n",
       " ('going', 1783),\n",
       " (510, 1777),\n",
       " (511, 1772),\n",
       " (512, 1764),\n",
       " ('bit', 1757),\n",
       " (513, 1756),\n",
       " (514, 1751),\n",
       " (515, 1747),\n",
       " ('comedy', 1742),\n",
       " (516, 1741),\n",
       " ('down', 1740),\n",
       " ('music', 1738),\n",
       " (517, 1735),\n",
       " (518, 1728),\n",
       " ('must', 1728),\n",
       " (519, 1722),\n",
       " (520, 1714),\n",
       " (521, 1709),\n",
       " ('take', 1709),\n",
       " (522, 1701),\n",
       " (523, 1695),\n",
       " ('saw', 1692),\n",
       " (524, 1691),\n",
       " ('long', 1690),\n",
       " ('right', 1688),\n",
       " ('fun', 1686),\n",
       " ('fact', 1684),\n",
       " ('excellent', 1683),\n",
       " (525, 1680),\n",
       " ('around', 1674),\n",
       " ('didn', 1672),\n",
       " (526, 1671),\n",
       " ('without', 1671),\n",
       " (527, 1664),\n",
       " ('thing', 1662),\n",
       " (528, 1659),\n",
       " (529, 1650),\n",
       " (530, 1645),\n",
       " ('thought', 1639),\n",
       " (531, 1637),\n",
       " ('got', 1635),\n",
       " ('each', 1630),\n",
       " (532, 1629),\n",
       " (533, 1623),\n",
       " (534, 1618),\n",
       " ('day', 1614),\n",
       " (535, 1611),\n",
       " (536, 1608),\n",
       " (537, 1604),\n",
       " ('feel', 1597),\n",
       " (538, 1596),\n",
       " ('seems', 1596),\n",
       " ('come', 1594),\n",
       " (539, 1590),\n",
       " ('done', 1586),\n",
       " (540, 1582),\n",
       " ('beautiful', 1580),\n",
       " (541, 1576),\n",
       " (542, 1572),\n",
       " ('especially', 1572),\n",
       " ('played', 1571),\n",
       " ('almost', 1566),\n",
       " (543, 1564),\n",
       " ('want', 1562),\n",
       " ('yet', 1556),\n",
       " (544, 1555),\n",
       " ('give', 1553),\n",
       " (545, 1551),\n",
       " ('pretty', 1549),\n",
       " (546, 1545),\n",
       " ('last', 1543),\n",
       " (547, 1536),\n",
       " (548, 1528),\n",
       " ('since', 1519),\n",
       " (549, 1518),\n",
       " (550, 1513),\n",
       " (551, 1506),\n",
       " ('different', 1504),\n",
       " (552, 1501),\n",
       " ('although', 1501),\n",
       " (553, 1494),\n",
       " ('gets', 1490),\n",
       " (554, 1489),\n",
       " ('true', 1487),\n",
       " (555, 1485),\n",
       " (556, 1482),\n",
       " ('interesting', 1481),\n",
       " (557, 1478),\n",
       " (558, 1470),\n",
       " ('job', 1470),\n",
       " (559, 1465),\n",
       " (560, 1458),\n",
       " (561, 1455),\n",
       " ('enough', 1455),\n",
       " ('our', 1454),\n",
       " (562, 1447),\n",
       " ('shows', 1447),\n",
       " (563, 1445),\n",
       " ('horror', 1441),\n",
       " (564, 1440),\n",
       " ('woman', 1439),\n",
       " (565, 1434),\n",
       " (566, 1430),\n",
       " (567, 1426),\n",
       " (568, 1423),\n",
       " (569, 1417),\n",
       " (570, 1412),\n",
       " (571, 1406),\n",
       " (572, 1402),\n",
       " ('tv', 1400),\n",
       " ('probably', 1398),\n",
       " (573, 1397),\n",
       " ('father', 1395),\n",
       " (574, 1393),\n",
       " ('original', 1393),\n",
       " ('girl', 1390),\n",
       " (575, 1386),\n",
       " ('point', 1379),\n",
       " ('plays', 1378),\n",
       " (576, 1377),\n",
       " (577, 1375),\n",
       " ('wonderful', 1372),\n",
       " (578, 1364),\n",
       " (579, 1362),\n",
       " ('far', 1358),\n",
       " ('course', 1358),\n",
       " (580, 1357),\n",
       " (581, 1354),\n",
       " ('john', 1350),\n",
       " (582, 1348),\n",
       " (583, 1344),\n",
       " ('rather', 1340),\n",
       " (584, 1338),\n",
       " (585, 1334),\n",
       " (586, 1330),\n",
       " (587, 1329),\n",
       " ('isn', 1328),\n",
       " (588, 1326),\n",
       " ('ll', 1326),\n",
       " ('later', 1324),\n",
       " ('dvd', 1324),\n",
       " (589, 1318),\n",
       " (590, 1315),\n",
       " (591, 1312),\n",
       " ('whole', 1310),\n",
       " ('war', 1310),\n",
       " (592, 1308),\n",
       " ('d', 1307),\n",
       " ('found', 1306),\n",
       " ('away', 1306),\n",
       " ('screen', 1305),\n",
       " ('nothing', 1300),\n",
       " (593, 1298),\n",
       " ('year', 1297),\n",
       " ('once', 1296),\n",
       " ('hard', 1294),\n",
       " (594, 1289),\n",
       " (595, 1284),\n",
       " ('together', 1280),\n",
       " ('set', 1277),\n",
       " ('am', 1277),\n",
       " (596, 1275),\n",
       " (597, 1270),\n",
       " (598, 1267),\n",
       " ('having', 1266),\n",
       " ('making', 1265),\n",
       " ('place', 1263),\n",
       " (599, 1261),\n",
       " ('might', 1260),\n",
       " ('comes', 1260),\n",
       " (600, 1256),\n",
       " ('sure', 1253),\n",
       " (601, 1249),\n",
       " ('american', 1248),\n",
       " (602, 1247),\n",
       " ('play', 1245),\n",
       " ('kind', 1244),\n",
       " ('perfect', 1242),\n",
       " ('takes', 1242),\n",
       " (603, 1241),\n",
       " ('performances', 1237),\n",
       " (604, 1234),\n",
       " (605, 1230),\n",
       " ('himself', 1230),\n",
       " (606, 1225),\n",
       " ('worth', 1221),\n",
       " ('everyone', 1221),\n",
       " (607, 1219),\n",
       " (608, 1214),\n",
       " ('anyone', 1214),\n",
       " (609, 1211),\n",
       " (610, 1206),\n",
       " ('actor', 1203),\n",
       " ('three', 1201),\n",
       " (611, 1197),\n",
       " ('wife', 1196),\n",
       " (612, 1192),\n",
       " ('classic', 1192),\n",
       " (613, 1187),\n",
       " ('goes', 1186),\n",
       " (614, 1183),\n",
       " (615, 1180),\n",
       " ('ending', 1178),\n",
       " (616, 1174),\n",
       " (617, 1171),\n",
       " (618, 1168),\n",
       " ('version', 1168),\n",
       " (619, 1163),\n",
       " (620, 1157),\n",
       " (621, 1154),\n",
       " ('star', 1149),\n",
       " (622, 1148),\n",
       " ('enjoy', 1146),\n",
       " (623, 1144),\n",
       " ('book', 1142),\n",
       " (624, 1138),\n",
       " (625, 1138),\n",
       " (626, 1133),\n",
       " ('nice', 1132),\n",
       " (627, 1129),\n",
       " ('everything', 1128),\n",
       " ('during', 1124),\n",
       " (628, 1123),\n",
       " (629, 1119),\n",
       " ('put', 1118),\n",
       " (630, 1117),\n",
       " (631, 1113),\n",
       " ('seeing', 1111),\n",
       " (632, 1110),\n",
       " (633, 1108),\n",
       " (634, 1105),\n",
       " ('least', 1102),\n",
       " ('house', 1100),\n",
       " (635, 1099),\n",
       " (636, 1096),\n",
       " ('high', 1095),\n",
       " ('watched', 1094),\n",
       " (637, 1092),\n",
       " (638, 1090),\n",
       " ('loved', 1087),\n",
       " ('men', 1087),\n",
       " (639, 1084),\n",
       " ('night', 1082),\n",
       " (640, 1075),\n",
       " ('anything', 1075),\n",
       " (641, 1072),\n",
       " ('believe', 1071),\n",
       " ('guy', 1071),\n",
       " (642, 1070),\n",
       " (643, 1066),\n",
       " ('top', 1063),\n",
       " (644, 1062),\n",
       " (645, 1058),\n",
       " ('amazing', 1058),\n",
       " ('hollywood', 1056),\n",
       " (646, 1053),\n",
       " ('looking', 1053),\n",
       " (647, 1050),\n",
       " (648, 1046),\n",
       " ('main', 1044),\n",
       " (649, 1043),\n",
       " ('definitely', 1043),\n",
       " (650, 1040),\n",
       " (651, 1031),\n",
       " ('gives', 1031),\n",
       " (652, 1029),\n",
       " ('home', 1029),\n",
       " ('seem', 1028),\n",
       " (653, 1023),\n",
       " ('episode', 1023),\n",
       " ('audience', 1020),\n",
       " ('sense', 1020),\n",
       " (654, 1017),\n",
       " ('truly', 1017),\n",
       " (655, 1015),\n",
       " (656, 1012),\n",
       " ('special', 1011),\n",
       " ('second', 1009),\n",
       " ('short', 1009),\n",
       " ('fan', 1009),\n",
       " (657, 1006),\n",
       " ('mind', 1005),\n",
       " (658, 1002),\n",
       " ('human', 1001),\n",
       " ('recommend', 999),\n",
       " (659, 998),\n",
       " ('full', 996),\n",
       " ('black', 995),\n",
       " (660, 993),\n",
       " ('help', 991),\n",
       " (661, 989),\n",
       " ('along', 989),\n",
       " ('trying', 987),\n",
       " (662, 986),\n",
       " ('small', 986),\n",
       " (663, 985),\n",
       " ('death', 985),\n",
       " (664, 981),\n",
       " ...]"
      ]
     },
     "execution_count": 14,
     "metadata": {},
     "output_type": "execute_result"
    }
   ],
   "source": [
    "# Examine the counts of the most common words in positive reviews\n",
    "positive_counts.most_common()"
   ]
  },
  {
   "cell_type": "code",
   "execution_count": 15,
   "metadata": {
    "collapsed": false,
    "scrolled": true
   },
   "outputs": [
    {
     "data": {
      "text/plain": [
       "[('', 561462),\n",
       " ('.', 167538),\n",
       " ('the', 163389),\n",
       " ('a', 79321),\n",
       " ('and', 74385),\n",
       " ('of', 69009),\n",
       " ('to', 68974),\n",
       " ('br', 52637),\n",
       " ('is', 50083),\n",
       " ('it', 48327),\n",
       " ('i', 46880),\n",
       " ('in', 43753),\n",
       " ('this', 40920),\n",
       " ('that', 37615),\n",
       " ('s', 31546),\n",
       " ('was', 26291),\n",
       " ('movie', 24965),\n",
       " ('for', 21927),\n",
       " ('but', 21781),\n",
       " ('with', 20878),\n",
       " ('as', 20625),\n",
       " ('t', 20361),\n",
       " ('film', 19218),\n",
       " ('you', 17549),\n",
       " ('on', 17192),\n",
       " ('not', 16354),\n",
       " ('have', 15144),\n",
       " ('are', 14623),\n",
       " ('be', 14541),\n",
       " ('he', 13856),\n",
       " ('one', 13134),\n",
       " ('they', 13011),\n",
       " (0, 12500),\n",
       " (1, 12500),\n",
       " (2, 12500),\n",
       " (3, 12500),\n",
       " (4, 12500),\n",
       " (5, 12500),\n",
       " (6, 12500),\n",
       " (7, 12500),\n",
       " (8, 12500),\n",
       " (9, 12500),\n",
       " (10, 12500),\n",
       " (11, 12500),\n",
       " (12, 12500),\n",
       " (13, 12499),\n",
       " (14, 12499),\n",
       " (15, 12497),\n",
       " (16, 12497),\n",
       " (17, 12497),\n",
       " (18, 12496),\n",
       " (19, 12496),\n",
       " (20, 12495),\n",
       " (21, 12495),\n",
       " (22, 12495),\n",
       " (23, 12495),\n",
       " (24, 12494),\n",
       " (25, 12493),\n",
       " (26, 12492),\n",
       " (27, 12491),\n",
       " (28, 12490),\n",
       " (29, 12489),\n",
       " (30, 12487),\n",
       " (31, 12486),\n",
       " (32, 12486),\n",
       " (33, 12486),\n",
       " (34, 12484),\n",
       " (35, 12484),\n",
       " (36, 12481),\n",
       " (37, 12481),\n",
       " (38, 12481),\n",
       " (39, 12477),\n",
       " (40, 12475),\n",
       " (41, 12472),\n",
       " (42, 12469),\n",
       " (43, 12468),\n",
       " (44, 12463),\n",
       " (45, 12461),\n",
       " (46, 12457),\n",
       " (47, 12455),\n",
       " (48, 12446),\n",
       " (49, 12444),\n",
       " (50, 12439),\n",
       " (51, 12433),\n",
       " (52, 12428),\n",
       " (53, 12413),\n",
       " (54, 12402),\n",
       " (55, 12392),\n",
       " (56, 12385),\n",
       " (57, 12375),\n",
       " (58, 12362),\n",
       " (59, 12345),\n",
       " (60, 12333),\n",
       " (61, 12319),\n",
       " (62, 12306),\n",
       " (63, 12291),\n",
       " ('at', 12279),\n",
       " (64, 12275),\n",
       " (65, 12257),\n",
       " (66, 12247),\n",
       " (67, 12228),\n",
       " (68, 12215),\n",
       " (69, 12199),\n",
       " (70, 12189),\n",
       " (71, 12170),\n",
       " ('his', 12147),\n",
       " (72, 12146),\n",
       " (73, 12130),\n",
       " (74, 12112),\n",
       " (75, 12093),\n",
       " (76, 12080),\n",
       " (77, 12067),\n",
       " (78, 12050),\n",
       " ('all', 12036),\n",
       " (79, 12032),\n",
       " (80, 12017),\n",
       " (81, 12001),\n",
       " (82, 11987),\n",
       " (83, 11965),\n",
       " (84, 11950),\n",
       " (85, 11939),\n",
       " (86, 11921),\n",
       " (87, 11909),\n",
       " (88, 11889),\n",
       " (89, 11868),\n",
       " (90, 11851),\n",
       " (91, 11829),\n",
       " (92, 11809),\n",
       " (93, 11789),\n",
       " (94, 11773),\n",
       " (95, 11761),\n",
       " (96, 11751),\n",
       " (97, 11740),\n",
       " (98, 11725),\n",
       " (99, 11710),\n",
       " (100, 11692),\n",
       " (101, 11683),\n",
       " (102, 11662),\n",
       " (103, 11650),\n",
       " (104, 11628),\n",
       " (105, 11611),\n",
       " (106, 11597),\n",
       " (107, 11586),\n",
       " (108, 11570),\n",
       " (109, 11554),\n",
       " (110, 11542),\n",
       " (111, 11520),\n",
       " (112, 11508),\n",
       " (113, 11493),\n",
       " (114, 11477),\n",
       " ('so', 11463),\n",
       " (115, 11452),\n",
       " (116, 11437),\n",
       " (117, 11415),\n",
       " (118, 11399),\n",
       " (119, 11376),\n",
       " (120, 11363),\n",
       " (121, 11351),\n",
       " (122, 11329),\n",
       " (123, 11320),\n",
       " (124, 11303),\n",
       " (125, 11279),\n",
       " (126, 11256),\n",
       " ('like', 11238),\n",
       " (127, 11233),\n",
       " (128, 11214),\n",
       " (129, 11189),\n",
       " (130, 11166),\n",
       " (131, 11132),\n",
       " (132, 11111),\n",
       " (133, 11083),\n",
       " (134, 11057),\n",
       " (135, 11025),\n",
       " (136, 10990),\n",
       " (137, 10960),\n",
       " (138, 10925),\n",
       " (139, 10881),\n",
       " (140, 10831),\n",
       " (141, 10795),\n",
       " ('there', 10775),\n",
       " (142, 10742),\n",
       " (143, 10691),\n",
       " (144, 10655),\n",
       " ('just', 10619),\n",
       " (145, 10588),\n",
       " ('by', 10549),\n",
       " (146, 10525),\n",
       " (147, 10462),\n",
       " (148, 10406),\n",
       " (149, 10341),\n",
       " (150, 10280),\n",
       " ('or', 10272),\n",
       " ('an', 10266),\n",
       " (151, 10203),\n",
       " (152, 10136),\n",
       " (153, 10070),\n",
       " (154, 9989),\n",
       " ('who', 9969),\n",
       " (155, 9926),\n",
       " (156, 9865),\n",
       " (157, 9811),\n",
       " (158, 9752),\n",
       " ('from', 9731),\n",
       " (159, 9685),\n",
       " (160, 9609),\n",
       " (161, 9522),\n",
       " ('if', 9518),\n",
       " (162, 9443),\n",
       " (163, 9381),\n",
       " (164, 9323),\n",
       " (165, 9257),\n",
       " (166, 9193),\n",
       " (167, 9119),\n",
       " ('about', 9061),\n",
       " (168, 9060),\n",
       " (169, 8999),\n",
       " ('out', 8979),\n",
       " (170, 8938),\n",
       " (171, 8877),\n",
       " (172, 8807),\n",
       " (173, 8751),\n",
       " (174, 8685),\n",
       " (175, 8624),\n",
       " (176, 8566),\n",
       " (177, 8513),\n",
       " (178, 8442),\n",
       " ('what', 8422),\n",
       " (179, 8387),\n",
       " (180, 8335),\n",
       " ('some', 8306),\n",
       " (181, 8267),\n",
       " (182, 8200),\n",
       " ('no', 8143),\n",
       " (183, 8135),\n",
       " (184, 8082),\n",
       " (185, 8013),\n",
       " (186, 7948),\n",
       " ('her', 7947),\n",
       " (187, 7884),\n",
       " (188, 7833),\n",
       " (189, 7777),\n",
       " (190, 7725),\n",
       " ('even', 7687),\n",
       " (191, 7669),\n",
       " ('can', 7653),\n",
       " (192, 7619),\n",
       " ('has', 7604),\n",
       " (193, 7572),\n",
       " (194, 7524),\n",
       " (195, 7482),\n",
       " (196, 7430),\n",
       " ('good', 7423),\n",
       " ('bad', 7401),\n",
       " (197, 7390),\n",
       " (198, 7337),\n",
       " (199, 7296),\n",
       " (200, 7258),\n",
       " (201, 7212),\n",
       " (202, 7153),\n",
       " (203, 7112),\n",
       " (204, 7066),\n",
       " ('would', 7036),\n",
       " (205, 7014),\n",
       " ('up', 6970),\n",
       " (206, 6964),\n",
       " (207, 6915),\n",
       " (208, 6865),\n",
       " (209, 6823),\n",
       " (210, 6785),\n",
       " ('only', 6781),\n",
       " (211, 6747),\n",
       " ('more', 6730),\n",
       " ('when', 6726),\n",
       " (212, 6698),\n",
       " (213, 6669),\n",
       " (214, 6620),\n",
       " (215, 6585),\n",
       " (216, 6540),\n",
       " (217, 6500),\n",
       " (218, 6465),\n",
       " ('she', 6444),\n",
       " (219, 6418),\n",
       " (220, 6380),\n",
       " (221, 6348),\n",
       " (222, 6294),\n",
       " ('really', 6262),\n",
       " (223, 6256),\n",
       " (224, 6224),\n",
       " ('time', 6209),\n",
       " (225, 6188),\n",
       " (226, 6145),\n",
       " ('had', 6142),\n",
       " (227, 6106),\n",
       " (228, 6076),\n",
       " (229, 6032),\n",
       " ('my', 6015),\n",
       " ('were', 6001),\n",
       " (230, 6000),\n",
       " (231, 5965),\n",
       " (232, 5932),\n",
       " (233, 5893),\n",
       " (234, 5857),\n",
       " (235, 5828),\n",
       " (236, 5794),\n",
       " ('which', 5780),\n",
       " ('very', 5764),\n",
       " (237, 5754),\n",
       " (238, 5717),\n",
       " (239, 5685),\n",
       " (240, 5655),\n",
       " (241, 5626),\n",
       " ('me', 5606),\n",
       " (242, 5601),\n",
       " (243, 5567),\n",
       " (244, 5533),\n",
       " (245, 5500),\n",
       " (246, 5463),\n",
       " ('see', 5452),\n",
       " (247, 5430),\n",
       " (248, 5399),\n",
       " (249, 5372),\n",
       " (250, 5346),\n",
       " ('don', 5336),\n",
       " ('we', 5328),\n",
       " (251, 5317),\n",
       " (252, 5294),\n",
       " ('their', 5278),\n",
       " (253, 5250),\n",
       " ('do', 5236),\n",
       " (254, 5221),\n",
       " ('story', 5208),\n",
       " (255, 5185),\n",
       " ('than', 5183),\n",
       " (256, 5157),\n",
       " (257, 5125),\n",
       " (258, 5101),\n",
       " ('been', 5100),\n",
       " ('much', 5078),\n",
       " (259, 5074),\n",
       " (260, 5039),\n",
       " ('get', 5037),\n",
       " (261, 5014),\n",
       " (262, 4980),\n",
       " ('because', 4966),\n",
       " (263, 4956),\n",
       " (264, 4929),\n",
       " (265, 4906),\n",
       " (266, 4878),\n",
       " (267, 4862),\n",
       " (268, 4843),\n",
       " (269, 4822),\n",
       " ('people', 4806),\n",
       " (270, 4796),\n",
       " (271, 4771),\n",
       " ('then', 4761),\n",
       " (272, 4743),\n",
       " ('make', 4722),\n",
       " (273, 4721),\n",
       " (274, 4690),\n",
       " ('how', 4688),\n",
       " ('could', 4686),\n",
       " (275, 4661),\n",
       " ('any', 4658),\n",
       " (276, 4639),\n",
       " (277, 4608),\n",
       " (278, 4588),\n",
       " ('into', 4567),\n",
       " (279, 4556),\n",
       " ('made', 4541),\n",
       " (280, 4532),\n",
       " (281, 4520),\n",
       " (282, 4494),\n",
       " (283, 4475),\n",
       " (284, 4457),\n",
       " (285, 4433),\n",
       " (286, 4416),\n",
       " (287, 4397),\n",
       " (288, 4375),\n",
       " (289, 4354),\n",
       " (290, 4333),\n",
       " (291, 4307),\n",
       " ('first', 4306),\n",
       " ('other', 4305),\n",
       " (292, 4283),\n",
       " (293, 4260),\n",
       " ('well', 4254),\n",
       " (294, 4239),\n",
       " (295, 4219),\n",
       " (296, 4202),\n",
       " (297, 4181),\n",
       " ('too', 4174),\n",
       " (298, 4167),\n",
       " ('them', 4165),\n",
       " ('plot', 4154),\n",
       " (299, 4150),\n",
       " (300, 4124),\n",
       " (301, 4103),\n",
       " (302, 4087),\n",
       " ('movies', 4080),\n",
       " (303, 4062),\n",
       " ('acting', 4056),\n",
       " (304, 4038),\n",
       " (305, 4015),\n",
       " ('will', 3993),\n",
       " (306, 3990),\n",
       " ('way', 3989),\n",
       " (307, 3972),\n",
       " (308, 3948),\n",
       " (309, 3928),\n",
       " ('most', 3919),\n",
       " (310, 3914),\n",
       " (311, 3901),\n",
       " (312, 3886),\n",
       " (313, 3872),\n",
       " (314, 3858),\n",
       " ('him', 3858),\n",
       " (315, 3845),\n",
       " ('after', 3838),\n",
       " (316, 3832),\n",
       " (317, 3805),\n",
       " (318, 3791),\n",
       " (319, 3770),\n",
       " (320, 3747),\n",
       " (321, 3728),\n",
       " (322, 3714),\n",
       " (323, 3694),\n",
       " (324, 3673),\n",
       " ('its', 3655),\n",
       " (325, 3649),\n",
       " ('think', 3643),\n",
       " (326, 3632),\n",
       " (327, 3620),\n",
       " ('also', 3608),\n",
       " (328, 3602),\n",
       " ('characters', 3600),\n",
       " (329, 3579),\n",
       " ('off', 3567),\n",
       " (330, 3566),\n",
       " ('watch', 3550),\n",
       " (331, 3545),\n",
       " (332, 3528),\n",
       " (333, 3512),\n",
       " ('character', 3506),\n",
       " ('did', 3506),\n",
       " (334, 3490),\n",
       " (335, 3471),\n",
       " ('why', 3463),\n",
       " (336, 3454),\n",
       " (337, 3436),\n",
       " (338, 3415),\n",
       " (339, 3401),\n",
       " ('being', 3393),\n",
       " (340, 3384),\n",
       " (341, 3373),\n",
       " (342, 3360),\n",
       " ('better', 3358),\n",
       " (343, 3345),\n",
       " ('know', 3334),\n",
       " (344, 3330),\n",
       " ('over', 3316),\n",
       " (345, 3312),\n",
       " (346, 3303),\n",
       " (347, 3286),\n",
       " (348, 3271),\n",
       " ('seen', 3265),\n",
       " ('ever', 3263),\n",
       " ('never', 3259),\n",
       " (349, 3253),\n",
       " (350, 3237),\n",
       " ('your', 3233),\n",
       " (351, 3227),\n",
       " ('where', 3219),\n",
       " (352, 3212),\n",
       " (353, 3193),\n",
       " (354, 3176),\n",
       " ('two', 3173),\n",
       " (355, 3160),\n",
       " (356, 3148),\n",
       " (357, 3130),\n",
       " (358, 3112),\n",
       " ('little', 3096),\n",
       " (359, 3092),\n",
       " (360, 3080),\n",
       " ('films', 3077),\n",
       " (361, 3062),\n",
       " (362, 3051),\n",
       " (363, 3039),\n",
       " (364, 3031),\n",
       " ('here', 3027),\n",
       " (365, 3015),\n",
       " ('m', 3000),\n",
       " (366, 2998),\n",
       " ('nothing', 2990),\n",
       " (367, 2982),\n",
       " ('say', 2982),\n",
       " (368, 2968),\n",
       " ('end', 2954),\n",
       " (369, 2952),\n",
       " ('something', 2942),\n",
       " (370, 2940),\n",
       " (371, 2934),\n",
       " (372, 2924),\n",
       " ('should', 2920),\n",
       " (373, 2911),\n",
       " ('many', 2909),\n",
       " (374, 2900),\n",
       " (375, 2891),\n",
       " (376, 2874),\n",
       " ('does', 2871),\n",
       " ('thing', 2866),\n",
       " (377, 2862),\n",
       " ('show', 2862),\n",
       " (378, 2849),\n",
       " (379, 2836),\n",
       " ('ve', 2829),\n",
       " (380, 2816),\n",
       " ('scene', 2816),\n",
       " (381, 2804),\n",
       " (382, 2789),\n",
       " ('scenes', 2785),\n",
       " (383, 2779),\n",
       " (384, 2769),\n",
       " (385, 2756),\n",
       " (386, 2746),\n",
       " (387, 2734),\n",
       " ('these', 2724),\n",
       " (388, 2717),\n",
       " ('go', 2717),\n",
       " (389, 2700),\n",
       " (390, 2693),\n",
       " (391, 2679),\n",
       " (392, 2671),\n",
       " (393, 2661),\n",
       " (394, 2649),\n",
       " ('didn', 2646),\n",
       " ('great', 2640),\n",
       " ('watching', 2640),\n",
       " (395, 2637),\n",
       " (396, 2621),\n",
       " ('re', 2620),\n",
       " (397, 2611),\n",
       " ('doesn', 2601),\n",
       " (398, 2599),\n",
       " (399, 2585),\n",
       " (400, 2574),\n",
       " (401, 2566),\n",
       " ('through', 2560),\n",
       " (402, 2558),\n",
       " (403, 2548),\n",
       " ('such', 2544),\n",
       " (404, 2533),\n",
       " (405, 2523),\n",
       " ('man', 2516),\n",
       " (406, 2511),\n",
       " (407, 2504),\n",
       " (408, 2492),\n",
       " ('worst', 2480),\n",
       " (409, 2478),\n",
       " (410, 2468),\n",
       " (411, 2456),\n",
       " ('actually', 2449),\n",
       " (412, 2445),\n",
       " (413, 2440),\n",
       " ('actors', 2437),\n",
       " ('life', 2429),\n",
       " (414, 2427),\n",
       " ('back', 2424),\n",
       " ('while', 2418),\n",
       " (415, 2410),\n",
       " ('director', 2405),\n",
       " (416, 2401),\n",
       " (417, 2390),\n",
       " (418, 2386),\n",
       " (419, 2374),\n",
       " (420, 2360),\n",
       " (421, 2348),\n",
       " (422, 2337),\n",
       " ('funny', 2336),\n",
       " (423, 2322),\n",
       " ('going', 2319),\n",
       " (424, 2315),\n",
       " (425, 2295),\n",
       " (426, 2284),\n",
       " ('still', 2283),\n",
       " (427, 2277),\n",
       " (428, 2268),\n",
       " (429, 2266),\n",
       " (430, 2256),\n",
       " ('another', 2254),\n",
       " (431, 2249),\n",
       " ('look', 2247),\n",
       " (432, 2244),\n",
       " ('now', 2237),\n",
       " (433, 2234),\n",
       " (434, 2225),\n",
       " (435, 2216),\n",
       " ('old', 2215),\n",
       " ('those', 2212),\n",
       " (436, 2209),\n",
       " (437, 2196),\n",
       " (438, 2190),\n",
       " (439, 2178),\n",
       " ('real', 2170),\n",
       " (440, 2165),\n",
       " (441, 2159),\n",
       " ('few', 2158),\n",
       " (442, 2153),\n",
       " ('love', 2152),\n",
       " ('horror', 2150),\n",
       " ('before', 2147),\n",
       " (443, 2146),\n",
       " ('want', 2141),\n",
       " (444, 2140),\n",
       " (445, 2129),\n",
       " ('minutes', 2126),\n",
       " (446, 2116),\n",
       " ('pretty', 2115),\n",
       " (447, 2111),\n",
       " (448, 2098),\n",
       " ('best', 2094),\n",
       " ('though', 2091),\n",
       " (449, 2087),\n",
       " (450, 2085),\n",
       " ('same', 2081),\n",
       " (451, 2074),\n",
       " ('script', 2074),\n",
       " (452, 2064),\n",
       " (453, 2054),\n",
       " (454, 2042),\n",
       " (455, 2028),\n",
       " ('work', 2027),\n",
       " ('every', 2025),\n",
       " ('seems', 2023),\n",
       " (456, 2017),\n",
       " ('least', 2011),\n",
       " (457, 2008),\n",
       " (458, 1999),\n",
       " ('enough', 1997),\n",
       " (459, 1990),\n",
       " ('down', 1988),\n",
       " (460, 1984),\n",
       " ('original', 1983),\n",
       " (461, 1971),\n",
       " ('guy', 1964),\n",
       " (462, 1958),\n",
       " (463, 1954),\n",
       " ('got', 1952),\n",
       " (464, 1945),\n",
       " ('around', 1943),\n",
       " ('part', 1942),\n",
       " (465, 1939),\n",
       " (466, 1935),\n",
       " (467, 1925),\n",
       " (468, 1914),\n",
       " (469, 1909),\n",
       " (470, 1902),\n",
       " ('lot', 1892),\n",
       " (471, 1890),\n",
       " (472, 1879),\n",
       " ('anything', 1874),\n",
       " (473, 1869),\n",
       " (474, 1862),\n",
       " ('find', 1860),\n",
       " (475, 1856),\n",
       " ('new', 1854),\n",
       " ('again', 1849),\n",
       " ('isn', 1849),\n",
       " ('point', 1845),\n",
       " (476, 1839),\n",
       " ('things', 1839),\n",
       " ('fact', 1839),\n",
       " (477, 1830),\n",
       " (478, 1825),\n",
       " ('give', 1823),\n",
       " (479, 1819),\n",
       " ('makes', 1814),\n",
       " (480, 1807),\n",
       " ('take', 1800),\n",
       " ('thought', 1798),\n",
       " (481, 1796),\n",
       " (482, 1790),\n",
       " (483, 1779),\n",
       " ('d', 1770),\n",
       " (484, 1769),\n",
       " ('whole', 1768),\n",
       " (485, 1764),\n",
       " ('long', 1761),\n",
       " ('years', 1759),\n",
       " (486, 1752),\n",
       " (487, 1749),\n",
       " (488, 1741),\n",
       " ('however', 1740),\n",
       " (489, 1733),\n",
       " (490, 1729),\n",
       " (491, 1724),\n",
       " (492, 1718),\n",
       " ('gets', 1714),\n",
       " (493, 1710),\n",
       " (494, 1701),\n",
       " ('making', 1695),\n",
       " ('cast', 1694),\n",
       " (495, 1692),\n",
       " (496, 1687),\n",
       " (497, 1682),\n",
       " (498, 1674),\n",
       " (499, 1669),\n",
       " (500, 1663),\n",
       " ('big', 1662),\n",
       " (501, 1658),\n",
       " ('might', 1658),\n",
       " (502, 1650),\n",
       " ('interesting', 1648),\n",
       " (503, 1643),\n",
       " (504, 1640),\n",
       " ('money', 1638),\n",
       " (505, 1633),\n",
       " ('us', 1628),\n",
       " ('right', 1625),\n",
       " (506, 1621),\n",
       " ('far', 1619),\n",
       " (507, 1609),\n",
       " (508, 1603),\n",
       " (509, 1596),\n",
       " ('quite', 1596),\n",
       " ('without', 1595),\n",
       " ('come', 1595),\n",
       " (510, 1594),\n",
       " (511, 1589),\n",
       " (512, 1580),\n",
       " ('almost', 1574),\n",
       " ('ll', 1567),\n",
       " (513, 1566),\n",
       " ('action', 1566),\n",
       " (514, 1560),\n",
       " ('awful', 1557),\n",
       " (515, 1554),\n",
       " (516, 1547),\n",
       " (517, 1543),\n",
       " ('kind', 1539),\n",
       " (518, 1537),\n",
       " ('reason', 1534),\n",
       " ('am', 1530),\n",
       " (519, 1529),\n",
       " ('looks', 1528),\n",
       " ('must', 1522),\n",
       " (520, 1520),\n",
       " (521, 1513),\n",
       " (522, 1510),\n",
       " ('done', 1510),\n",
       " ('comedy', 1504),\n",
       " (523, 1501),\n",
       " (524, 1497),\n",
       " (525, 1492),\n",
       " ('someone', 1490),\n",
       " (526, 1488),\n",
       " ('trying', 1486),\n",
       " ('wasn', 1484),\n",
       " (527, 1481),\n",
       " ('poor', 1481),\n",
       " ('boring', 1478),\n",
       " ('instead', 1478),\n",
       " (528, 1476),\n",
       " ('saw', 1475),\n",
       " (529, 1473),\n",
       " ('away', 1469),\n",
       " (530, 1465),\n",
       " ('girl', 1463),\n",
       " (531, 1462),\n",
       " (532, 1452),\n",
       " (533, 1447),\n",
       " ('probably', 1444),\n",
       " (534, 1437),\n",
       " ('believe', 1434),\n",
       " ('sure', 1433),\n",
       " (535, 1430),\n",
       " ('looking', 1430),\n",
       " ('stupid', 1428),\n",
       " (536, 1420),\n",
       " ('anyone', 1418),\n",
       " (537, 1416),\n",
       " (538, 1409),\n",
       " ('times', 1406),\n",
       " ('maybe', 1404),\n",
       " ('world', 1404),\n",
       " (539, 1402),\n",
       " ('rather', 1394),\n",
       " (540, 1392),\n",
       " ('terrible', 1391),\n",
       " ('may', 1390),\n",
       " ('last', 1390),\n",
       " ('since', 1388),\n",
       " (541, 1386),\n",
       " ('let', 1385),\n",
       " (542, 1383),\n",
       " ('tv', 1382),\n",
       " (543, 1380),\n",
       " (544, 1376),\n",
       " ('hard', 1374),\n",
       " ('between', 1374),\n",
       " (545, 1372),\n",
       " (546, 1370),\n",
       " (547, 1363),\n",
       " ('waste', 1358),\n",
       " (548, 1357),\n",
       " ('woman', 1356),\n",
       " ('feel', 1354),\n",
       " (549, 1353),\n",
       " ('effects', 1348),\n",
       " (550, 1345),\n",
       " (551, 1342),\n",
       " ('half', 1341),\n",
       " (552, 1335),\n",
       " ('own', 1333),\n",
       " (553, 1329),\n",
       " (554, 1321),\n",
       " ('young', 1317),\n",
       " (555, 1316),\n",
       " ('music', 1316),\n",
       " (556, 1312),\n",
       " ('idea', 1312),\n",
       " (557, 1306),\n",
       " ('sense', 1306),\n",
       " (558, 1300),\n",
       " ('bit', 1298),\n",
       " (559, 1293),\n",
       " (560, 1285),\n",
       " (561, 1280),\n",
       " ('having', 1280),\n",
       " ('book', 1278),\n",
       " (562, 1272),\n",
       " (563, 1268),\n",
       " ('found', 1267),\n",
       " (564, 1264),\n",
       " ('put', 1263),\n",
       " ('series', 1263),\n",
       " (565, 1260),\n",
       " ('goes', 1256),\n",
       " (566, 1254),\n",
       " (567, 1251),\n",
       " ('worse', 1249),\n",
       " (568, 1245),\n",
       " (569, 1239),\n",
       " (570, 1235),\n",
       " ('said', 1230),\n",
       " (571, 1229),\n",
       " ('comes', 1224),\n",
       " ('role', 1222),\n",
       " (572, 1221),\n",
       " ('main', 1220),\n",
       " (573, 1213),\n",
       " (574, 1208),\n",
       " (575, 1200),\n",
       " ('else', 1199),\n",
       " (576, 1197),\n",
       " ('everything', 1197),\n",
       " ('yet', 1196),\n",
       " (577, 1189),\n",
       " ('low', 1189),\n",
       " ('screen', 1188),\n",
       " ('supposed', 1186),\n",
       " (578, 1185),\n",
       " ('actor', 1185),\n",
       " ('either', 1183),\n",
       " (579, 1181),\n",
       " ('budget', 1179),\n",
       " ('ending', 1179),\n",
       " ('audience', 1178),\n",
       " ('set', 1177),\n",
       " (580, 1176),\n",
       " (581, 1172),\n",
       " ('family', 1170),\n",
       " ('left', 1169),\n",
       " (582, 1168),\n",
       " ('completely', 1168),\n",
       " (583, 1167),\n",
       " (584, 1163),\n",
       " (585, 1159),\n",
       " ('both', 1158),\n",
       " ('wrong', 1155),\n",
       " (586, 1151),\n",
       " ('always', 1151),\n",
       " ('course', 1148),\n",
       " ('place', 1148),\n",
       " ('seem', 1147),\n",
       " (587, 1145),\n",
       " (588, 1142),\n",
       " ('watched', 1142),\n",
       " (589, 1138),\n",
       " (590, 1136),\n",
       " ('day', 1132),\n",
       " (591, 1131),\n",
       " ('simply', 1130),\n",
       " (592, 1127),\n",
       " ('shot', 1126),\n",
       " (593, 1125),\n",
       " (594, 1120),\n",
       " ('mean', 1117),\n",
       " (595, 1110),\n",
       " (596, 1104),\n",
       " ('special', 1102),\n",
       " ('dead', 1101),\n",
       " (597, 1097),\n",
       " (598, 1094),\n",
       " ('three', 1094),\n",
       " (599, 1089),\n",
       " (600, 1085),\n",
       " ('house', 1085),\n",
       " ('oh', 1084),\n",
       " ('night', 1083),\n",
       " ('read', 1082),\n",
       " (601, 1080),\n",
       " (602, 1077),\n",
       " (603, 1074),\n",
       " (604, 1068),\n",
       " ('less', 1067),\n",
       " ('high', 1066),\n",
       " ('year', 1064),\n",
       " (605, 1063),\n",
       " ('camera', 1061),\n",
       " (606, 1058),\n",
       " ('worth', 1057),\n",
       " ('our', 1056),\n",
       " (607, 1054),\n",
       " ('try', 1051),\n",
       " (608, 1050),\n",
       " (609, 1046),\n",
       " ('horrible', 1046),\n",
       " ('sex', 1046),\n",
       " ('video', 1043),\n",
       " (610, 1041),\n",
       " ('black', 1039),\n",
       " (611, 1037),\n",
       " ('although', 1036),\n",
       " ('couldn', 1036),\n",
       " ('once', 1033),\n",
       " (612, 1032),\n",
       " (613, 1028),\n",
       " (614, 1024),\n",
       " ('rest', 1022),\n",
       " ('dvd', 1021),\n",
       " ('line', 1018),\n",
       " (615, 1017),\n",
       " ('played', 1017),\n",
       " (616, 1014),\n",
       " (617, 1011),\n",
       " (618, 1007),\n",
       " ('fun', 1007),\n",
       " ('during', 1006),\n",
       " ('production', 1003),\n",
       " ('everyone', 1002),\n",
       " (619, 1000),\n",
       " (620, 996),\n",
       " (621, 995),\n",
       " ('play', 993),\n",
       " ('mind', 990),\n",
       " ('version', 989),\n",
       " ('kids', 989),\n",
       " (622, 988),\n",
       " ('seeing', 988),\n",
       " (623, 982),\n",
       " ('american', 980),\n",
       " (624, 979),\n",
       " ('given', 978),\n",
       " (625, 974),\n",
       " (626, 973),\n",
       " (627, 972),\n",
       " (628, 971),\n",
       " ('used', 969),\n",
       " (629, 968),\n",
       " ('performance', 968),\n",
       " (630, 964),\n",
       " ('especially', 963),\n",
       " ('together', 963),\n",
       " (631, 961),\n",
       " ('tell', 959),\n",
       " (632, 958),\n",
       " ('women', 958),\n",
       " ('start', 956),\n",
       " (633, 955),\n",
       " ('need', 955),\n",
       " ('second', 953),\n",
       " (634, 951),\n",
       " ('takes', 950),\n",
       " ('each', 950),\n",
       " (635, 948),\n",
       " ('wife', 944),\n",
       " (636, 943),\n",
       " ('dialogue', 942),\n",
       " ('use', 940),\n",
       " (637, 939),\n",
       " ('problem', 938),\n",
       " ('star', 934),\n",
       " (638, 932),\n",
       " ('unfortunately', 931),\n",
       " ('himself', 929),\n",
       " (639, 927),\n",
       " ('doing', 926),\n",
       " (640, 923),\n",
       " ('death', 922),\n",
       " (641, 921),\n",
       " ...]"
      ]
     },
     "execution_count": 15,
     "metadata": {},
     "output_type": "execute_result"
    }
   ],
   "source": [
    "# Examine the counts of the most common words in negative reviews\n",
    "negative_counts.most_common()"
   ]
  },
  {
   "cell_type": "markdown",
   "metadata": {},
   "source": [
    "As you can see, common words like \"the\" appear very often in both positive and negative reviews. Instead of finding the most common words in positive or negative reviews, what you really want are the words found in positive reviews more often than in negative reviews, and vice versa. To accomplish this, you'll need to calculate the **ratios** of word usage between positive and negative reviews.\n",
    "\n",
    "**TODO:** Check all the words you've seen and calculate the ratio of postive to negative uses and store that ratio in `pos_neg_ratios`. \n",
    ">Hint: the positive-to-negative ratio for a given word can be calculated with `positive_counts[word] / float(negative_counts[word]+1)`. Notice the `+1` in the denominator – that ensures we don't divide by zero for words that are only seen in positive reviews."
   ]
  },
  {
   "cell_type": "code",
   "execution_count": 17,
   "metadata": {
    "collapsed": false
   },
   "outputs": [],
   "source": [
    "# Create Counter object to store positive/negative ratios\n",
    "pos_neg_ratios = Counter()\n",
    "\n",
    "# TODO: Calculate the ratios of positive and negative uses of the most common words\n",
    "#       Consider words to be \"common\" if they've been used at least 100 times\n",
    "for term,cnt in total_counts.most_common():\n",
    "    if(cnt>100):\n",
    "        pos_neg_ratio=positive_counts[term]/float(negative_counts[term]+1)\n",
    "        pos_neg_ratios[term]=pos_neg_ratio\n"
   ]
  },
  {
   "cell_type": "markdown",
   "metadata": {},
   "source": [
    "Examine the ratios you've calculated for a few words:"
   ]
  },
  {
   "cell_type": "code",
   "execution_count": 18,
   "metadata": {
    "collapsed": false
   },
   "outputs": [
    {
     "name": "stdout",
     "output_type": "stream",
     "text": [
      "Pos-to-neg ratio for 'the' = 1.0607993145235326\n",
      "Pos-to-neg ratio for 'amazing' = 4.022813688212928\n",
      "Pos-to-neg ratio for 'terrible' = 0.17744252873563218\n"
     ]
    }
   ],
   "source": [
    "print(\"Pos-to-neg ratio for 'the' = {}\".format(pos_neg_ratios[\"the\"]))\n",
    "print(\"Pos-to-neg ratio for 'amazing' = {}\".format(pos_neg_ratios[\"amazing\"]))\n",
    "print(\"Pos-to-neg ratio for 'terrible' = {}\".format(pos_neg_ratios[\"terrible\"]))"
   ]
  },
  {
   "cell_type": "markdown",
   "metadata": {},
   "source": [
    "Looking closely at the values you just calculated, we see the following:\n",
    "\n",
    "* Words that you would expect to see more often in positive reviews – like \"amazing\" – have a ratio greater than 1. The more skewed a word is toward postive, the farther from 1 its positive-to-negative ratio  will be.\n",
    "* Words that you would expect to see more often in negative reviews – like \"terrible\" – have positive values that are less than 1. The more skewed a word is toward negative, the closer to zero its positive-to-negative ratio will be.\n",
    "* Neutral words, which don't really convey any sentiment because you would expect to see them in all sorts of reviews – like \"the\" – have values very close to 1. A perfectly neutral word – one that was used in exactly the same number of positive reviews as negative reviews – would be almost exactly 1. The `+1` we suggested you add to the denominator slightly biases words toward negative, but it won't matter because it will be a tiny bias and later we'll be ignoring words that are too close to neutral anyway.\n",
    "\n",
    "Ok, the ratios tell us which words are used more often in postive or negative reviews, but the specific values we've calculated are a bit difficult to work with. A very positive word like \"amazing\" has a value above 4, whereas a very negative word like \"terrible\" has a value around 0.18. Those values aren't easy to compare for a couple of reasons:\n",
    "\n",
    "* Right now, 1 is considered neutral, but the absolute value of the postive-to-negative rations of very postive words is larger than the absolute value of the ratios for the very negative words. So there is no way to directly compare two numbers and see if one word conveys the same magnitude of positive sentiment as another word conveys negative sentiment. So we should center all the values around netural so the absolute value fro neutral of the postive-to-negative ratio for a word would indicate how much sentiment (positive or negative) that word conveys.\n",
    "* When comparing absolute values it's easier to do that around zero than one. \n",
    "\n",
    "To fix these issues, we'll convert all of our ratios to new values using logarithms.\n",
    "\n",
    "**TODO:** Go through all the ratios you calculated and convert their values using the following formulas:\n",
    "> * For any postive words, convert the ratio using `np.log(ratio)`\n",
    "> * For any negative words, convert the ratio using `-np.log(1/(ratio + 0.01))`\n",
    "\n",
    "That second equation may look strange, but what it's doing is dividing one by a very small number, which will produce a larger positive number. Then, it takes the `log` of that, which produces numbers similar to the ones for the postive words. Finally, we negate the values by adding that minus sign up front. In the end, extremely positive and extremely negative words will have positive-to-negative ratios with similar magnitudes but oppositite signs."
   ]
  },
  {
   "cell_type": "code",
   "execution_count": null,
   "metadata": {
    "collapsed": true
   },
   "outputs": [],
   "source": [
    "# TODO: Convert ratios to logs"
   ]
  },
  {
   "cell_type": "markdown",
   "metadata": {},
   "source": [
    "Examine the new ratios you've calculated for the same words from before:"
   ]
  },
  {
   "cell_type": "code",
   "execution_count": null,
   "metadata": {
    "collapsed": true
   },
   "outputs": [],
   "source": [
    "print(\"Pos-to-neg ratio for 'the' = {}\".format(pos_neg_ratios[\"the\"]))\n",
    "print(\"Pos-to-neg ratio for 'amazing' = {}\".format(pos_neg_ratios[\"amazing\"]))\n",
    "print(\"Pos-to-neg ratio for 'terrible' = {}\".format(pos_neg_ratios[\"terrible\"]))"
   ]
  },
  {
   "cell_type": "markdown",
   "metadata": {},
   "source": [
    "If everything worked, now you should see neutral words with values close to zero. In this case, \"the\" is near zero but slightly positive, so it was probably used in more positive reviews than negative reviews. But look at \"amazing\"'s ratio - it's above `1`, showing it is clearly a word with positive sentiment. And \"terrible\" has a similar score, but in the opposite direction, so it's below `-1`. It's now clear that both of these words are associated with specific, opposing sentiments.\n",
    "\n",
    "Now run the following cells to see more ratios. \n",
    "\n",
    "The first cell displays all the words, ordered by how associated they are with postive reviews. (Your notebook will most likely truncate the output so you won't actually see *all* the words in the list.)\n",
    "\n",
    "The second cell displays the 30 words most associated with negative reviews by reversing the order of the first list and then looking at the first 30 words. (If you want the second cell to display all the words, ordered by how associated they are with negative reviews, you could just write `reversed(pos_neg_ratios.most_common())`.)\n",
    "\n",
    "You should continue to see values similar to the earlier ones we checked – neutral words will be close to `0`, words will get more positive as their ratios approach and go above `1`, and words will get more negative as their ratios approach and go below `-1`. That's why we decided to use the logs instead of the raw ratios."
   ]
  },
  {
   "cell_type": "code",
   "execution_count": null,
   "metadata": {
    "collapsed": true
   },
   "outputs": [],
   "source": [
    "# words most frequently seen in a review with a \"POSITIVE\" label\n",
    "pos_neg_ratios.most_common()"
   ]
  },
  {
   "cell_type": "code",
   "execution_count": null,
   "metadata": {
    "collapsed": true
   },
   "outputs": [],
   "source": [
    "# words most frequently seen in a review with a \"NEGATIVE\" label\n",
    "list(reversed(pos_neg_ratios.most_common()))[0:30]\n",
    "\n",
    "# Note: Above is the code Andrew uses in his solution video, \n",
    "#       so we've included it here to avoid confusion.\n",
    "#       If you explore the documentation for the Counter class, \n",
    "#       you will see you could also find the 30 least common\n",
    "#       words like this: pos_neg_ratios.most_common()[:-31:-1]"
   ]
  },
  {
   "cell_type": "markdown",
   "metadata": {},
   "source": [
    "# End of Project 1. \n",
    "## Watch the next video to see Andrew's solution, then continue on to the next lesson.\n",
    "\n",
    "# Transforming Text into Numbers<a id='lesson_3'></a>\n",
    "The cells here include code Andrew shows in the next video. We've included it so you can run the code along with the video without having to type in everything."
   ]
  },
  {
   "cell_type": "code",
   "execution_count": null,
   "metadata": {
    "collapsed": false
   },
   "outputs": [],
   "source": [
    "from IPython.display import Image\n",
    "\n",
    "review = \"This was a horrible, terrible movie.\"\n",
    "\n",
    "Image(filename='sentiment_network.png')"
   ]
  },
  {
   "cell_type": "code",
   "execution_count": null,
   "metadata": {
    "collapsed": false
   },
   "outputs": [],
   "source": [
    "review = \"The movie was excellent\"\n",
    "\n",
    "Image(filename='sentiment_network_pos.png')"
   ]
  },
  {
   "cell_type": "markdown",
   "metadata": {},
   "source": [
    "# Project 2: Creating the Input/Output Data<a id='project_2'></a>\n",
    "\n",
    "**TODO:** Create a [set](https://docs.python.org/3/tutorial/datastructures.html#sets) named `vocab` that contains every word in the vocabulary."
   ]
  },
  {
   "cell_type": "code",
   "execution_count": null,
   "metadata": {
    "collapsed": false
   },
   "outputs": [],
   "source": [
    "# TODO: Create set named \"vocab\" containing all of the words from all of the reviews\n",
    "vocab = None"
   ]
  },
  {
   "cell_type": "markdown",
   "metadata": {},
   "source": [
    "Run the following cell to check your vocabulary size. If everything worked correctly, it should print **74074**"
   ]
  },
  {
   "cell_type": "code",
   "execution_count": null,
   "metadata": {
    "collapsed": true
   },
   "outputs": [],
   "source": [
    "vocab_size = len(vocab)\n",
    "print(vocab_size)"
   ]
  },
  {
   "cell_type": "markdown",
   "metadata": {},
   "source": [
    "Take a look at the following image. It represents the layers of the neural network you'll be building throughout this notebook. `layer_0` is the input layer, `layer_1` is a hidden layer, and `layer_2` is the output layer."
   ]
  },
  {
   "cell_type": "code",
   "execution_count": 1,
   "metadata": {
    "collapsed": false
   },
   "outputs": [
    {
     "data": {
      "image/png": "[encoded data removed]",
      "text/plain": [
       "<IPython.core.display.Image object>"
      ]
     },
     "execution_count": 1,
     "metadata": {},
     "output_type": "execute_result"
    }
   ],
   "source": [
    "from IPython.display import Image\n",
    "Image(filename='sentiment_network_2.png')"
   ]
  },
  {
   "cell_type": "markdown",
   "metadata": {},
   "source": [
    "**TODO:** Create a numpy array called `layer_0` and initialize it to all zeros. You will find the [zeros](https://docs.scipy.org/doc/numpy/reference/generated/numpy.zeros.html) function particularly helpful here. Be sure you create `layer_0` as a 2-dimensional matrix with 1 row and `vocab_size` columns. "
   ]
  },
  {
   "cell_type": "code",
   "execution_count": null,
   "metadata": {
    "collapsed": true
   },
   "outputs": [],
   "source": [
    "# TODO: Create layer_0 matrix with dimensions 1 by vocab_size, initially filled with zeros\n",
    "layer_0 = None"
   ]
  },
  {
   "cell_type": "markdown",
   "metadata": {},
   "source": [
    "Run the following cell. It should display `(1, 74074)`"
   ]
  },
  {
   "cell_type": "code",
   "execution_count": null,
   "metadata": {
    "collapsed": true
   },
   "outputs": [],
   "source": [
    "layer_0.shape"
   ]
  },
  {
   "cell_type": "code",
   "execution_count": null,
   "metadata": {
    "collapsed": false
   },
   "outputs": [],
   "source": [
    "from IPython.display import Image\n",
    "Image(filename='sentiment_network.png')"
   ]
  },
  {
   "cell_type": "markdown",
   "metadata": {},
   "source": [
    "`layer_0` contains one entry for every word in the vocabulary, as shown in the above image. We need to make sure we know the index of each word, so run the following cell to create a lookup table that stores the index of every word."
   ]
  },
  {
   "cell_type": "code",
   "execution_count": null,
   "metadata": {
    "collapsed": true
   },
   "outputs": [],
   "source": [
    "# Create a dictionary of words in the vocabulary mapped to index positions\n",
    "# (to be used in layer_0)\n",
    "word2index = {}\n",
    "for i,word in enumerate(vocab):\n",
    "    word2index[word] = i\n",
    "    \n",
    "# display the map of words to indices\n",
    "word2index"
   ]
  },
  {
   "cell_type": "markdown",
   "metadata": {},
   "source": [
    "**TODO:**  Complete the implementation of `update_input_layer`. It should count \n",
    "          how many times each word is used in the given review, and then store\n",
    "          those counts at the appropriate indices inside `layer_0`."
   ]
  },
  {
   "cell_type": "code",
   "execution_count": null,
   "metadata": {
    "collapsed": true
   },
   "outputs": [],
   "source": [
    "def update_input_layer(review):\n",
    "    \"\"\" Modify the global layer_0 to represent the vector form of review.\n",
    "    The element at a given index of layer_0 should represent\n",
    "    how many times the given word occurs in the review.\n",
    "    Args:\n",
    "        review(string) - the string of the review\n",
    "    Returns:\n",
    "        None\n",
    "    \"\"\"\n",
    "    global layer_0\n",
    "    # clear out previous state by resetting the layer to be all 0s\n",
    "    layer_0 *= 0\n",
    "    \n",
    "    # TODO: count how many times each word is used in the given review and store the results in layer_0 "
   ]
  },
  {
   "cell_type": "markdown",
   "metadata": {},
   "source": [
    "Run the following cell to test updating the input layer with the first review. The indices assigned may not be the same as in the solution, but hopefully you'll see some non-zero values in `layer_0`.  "
   ]
  },
  {
   "cell_type": "code",
   "execution_count": null,
   "metadata": {
    "collapsed": true
   },
   "outputs": [],
   "source": [
    "update_input_layer(reviews[0])\n",
    "layer_0"
   ]
  },
  {
   "cell_type": "markdown",
   "metadata": {},
   "source": [
    "**TODO:** Complete the implementation of `get_target_for_labels`. It should return `0` or `1`, \n",
    "          depending on whether the given label is `NEGATIVE` or `POSITIVE`, respectively."
   ]
  },
  {
   "cell_type": "code",
   "execution_count": null,
   "metadata": {
    "collapsed": true
   },
   "outputs": [],
   "source": [
    "def get_target_for_label(label):\n",
    "    \"\"\"Convert a label to `0` or `1`.\n",
    "    Args:\n",
    "        label(string) - Either \"POSITIVE\" or \"NEGATIVE\".\n",
    "    Returns:\n",
    "        `0` or `1`.\n",
    "    \"\"\"\n",
    "    # TODO: Your code here"
   ]
  },
  {
   "cell_type": "markdown",
   "metadata": {},
   "source": [
    "Run the following two cells. They should print out`'POSITIVE'` and `1`, respectively."
   ]
  },
  {
   "cell_type": "code",
   "execution_count": null,
   "metadata": {
    "collapsed": true
   },
   "outputs": [],
   "source": [
    "labels[0]"
   ]
  },
  {
   "cell_type": "code",
   "execution_count": null,
   "metadata": {
    "collapsed": true
   },
   "outputs": [],
   "source": [
    "get_target_for_label(labels[0])"
   ]
  },
  {
   "cell_type": "markdown",
   "metadata": {},
   "source": [
    "Run the following two cells. They should print out `'NEGATIVE'` and `0`, respectively."
   ]
  },
  {
   "cell_type": "code",
   "execution_count": null,
   "metadata": {
    "collapsed": true
   },
   "outputs": [],
   "source": [
    "labels[1]"
   ]
  },
  {
   "cell_type": "code",
   "execution_count": null,
   "metadata": {
    "collapsed": true
   },
   "outputs": [],
   "source": [
    "get_target_for_label(labels[1])"
   ]
  },
  {
   "cell_type": "markdown",
   "metadata": {},
   "source": [
    "# End of Project 2. \n",
    "## Watch the next video to see Andrew's solution, then continue on to the next lesson."
   ]
  },
  {
   "cell_type": "markdown",
   "metadata": {},
   "source": [
    "# Project 3: Building a Neural Network<a id='project_3'></a>"
   ]
  },
  {
   "cell_type": "markdown",
   "metadata": {},
   "source": [
    "**TODO:** We've included the framework of a class called `SentimentNetork`. Implement all of the items marked `TODO` in the code. These include doing the following:\n",
    "- Create a basic neural network much like the networks you've seen in earlier lessons and in Project 1, with an input layer, a hidden layer, and an output layer. \n",
    "- Do **not** add a non-linearity in the hidden layer. That is, do not use an activation function when calculating the hidden layer outputs.\n",
    "- Re-use the code from earlier in this notebook to create the training data (see `TODO`s in the code)\n",
    "- Implement the `pre_process_data` function to create the vocabulary for our training data generating functions\n",
    "- Ensure `train` trains over the entire corpus"
   ]
  },
  {
   "cell_type": "markdown",
   "metadata": {},
   "source": [
    "### Where to Get Help if You Need it\n",
    "- Re-watch earlier Udacity lectures\n",
    "- Chapters 3-5 - [Grokking Deep Learning](https://www.manning.com/books/grokking-deep-learning) - (Check inside your classroom for a discount code)"
   ]
  },
  {
   "cell_type": "code",
   "execution_count": null,
   "metadata": {
    "collapsed": true
   },
   "outputs": [],
   "source": [
    "import time\n",
    "import sys\n",
    "import numpy as np\n",
    "\n",
    "# Encapsulate our neural network in a class\n",
    "class SentimentNetwork:\n",
    "    def __init__(self, reviews, labels, hidden_nodes = 10, learning_rate = 0.1):\n",
    "        \"\"\"Create a SentimenNetwork with the given settings\n",
    "        Args:\n",
    "            reviews(list) - List of reviews used for training\n",
    "            labels(list) - List of POSITIVE/NEGATIVE labels associated with the given reviews\n",
    "            hidden_nodes(int) - Number of nodes to create in the hidden layer\n",
    "            learning_rate(float) - Learning rate to use while training\n",
    "        \n",
    "        \"\"\"\n",
    "        # Assign a seed to our random number generator to ensure we get\n",
    "        # reproducable results during development \n",
    "        np.random.seed(1)\n",
    "\n",
    "        # process the reviews and their associated labels so that everything\n",
    "        # is ready for training\n",
    "        self.pre_process_data(reviews, labels)\n",
    "        \n",
    "        # Build the network to have the number of hidden nodes and the learning rate that\n",
    "        # were passed into this initializer. Make the same number of input nodes as\n",
    "        # there are vocabulary words and create a single output node.\n",
    "        self.init_network(len(self.review_vocab),hidden_nodes, 1, learning_rate)\n",
    "\n",
    "    def pre_process_data(self, reviews, labels):\n",
    "        \n",
    "        review_vocab = set()\n",
    "        # TODO: populate review_vocab with all of the words in the given reviews\n",
    "        #       Remember to split reviews into individual words \n",
    "        #       using \"split(' ')\" instead of \"split()\".\n",
    "        \n",
    "        # Convert the vocabulary set to a list so we can access words via indices\n",
    "        self.review_vocab = list(review_vocab)\n",
    "        \n",
    "        label_vocab = set()\n",
    "        # TODO: populate label_vocab with all of the words in the given labels.\n",
    "        #       There is no need to split the labels because each one is a single word.\n",
    "        \n",
    "        # Convert the label vocabulary set to a list so we can access labels via indices\n",
    "        self.label_vocab = list(label_vocab)\n",
    "        \n",
    "        # Store the sizes of the review and label vocabularies.\n",
    "        self.review_vocab_size = len(self.review_vocab)\n",
    "        self.label_vocab_size = len(self.label_vocab)\n",
    "        \n",
    "        # Create a dictionary of words in the vocabulary mapped to index positions\n",
    "        self.word2index = {}\n",
    "        # TODO: populate self.word2index with indices for all the words in self.review_vocab\n",
    "        #       like you saw earlier in the notebook\n",
    "        \n",
    "        # Create a dictionary of labels mapped to index positions\n",
    "        self.label2index = {}\n",
    "        # TODO: do the same thing you did for self.word2index and self.review_vocab, \n",
    "        #       but for self.label2index and self.label_vocab instead\n",
    "         \n",
    "        \n",
    "    def init_network(self, input_nodes, hidden_nodes, output_nodes, learning_rate):\n",
    "        # Store the number of nodes in input, hidden, and output layers.\n",
    "        self.input_nodes = input_nodes\n",
    "        self.hidden_nodes = hidden_nodes\n",
    "        self.output_nodes = output_nodes\n",
    "\n",
    "        # Store the learning rate\n",
    "        self.learning_rate = learning_rate\n",
    "\n",
    "        # Initialize weights\n",
    "        \n",
    "        # TODO: initialize self.weights_0_1 as a matrix of zeros. These are the weights between\n",
    "        #       the input layer and the hidden layer.\n",
    "        self.weights_0_1 = None\n",
    "        \n",
    "        # TODO: initialize self.weights_1_2 as a matrix of random values. \n",
    "        #       These are the weights between the hidden layer and the output layer.\n",
    "        self.weights_1_2 = None\n",
    "        \n",
    "        # TODO: Create the input layer, a two-dimensional matrix with shape \n",
    "        #       1 x input_nodes, with all values initialized to zero\n",
    "        self.layer_0 = np.zeros((1,input_nodes))\n",
    "    \n",
    "        \n",
    "    def update_input_layer(self,review):\n",
    "        # TODO: You can copy most of the code you wrote for update_input_layer \n",
    "        #       earlier in this notebook. \n",
    "        #\n",
    "        #       However, MAKE SURE YOU CHANGE ALL VARIABLES TO REFERENCE\n",
    "        #       THE VERSIONS STORED IN THIS OBJECT, NOT THE GLOBAL OBJECTS.\n",
    "        #       For example, replace \"layer_0 *= 0\" with \"self.layer_0 *= 0\"\n",
    "        pass\n",
    "                \n",
    "    def get_target_for_label(self,label):\n",
    "        # TODO: Copy the code you wrote for get_target_for_label \n",
    "        #       earlier in this notebook. \n",
    "        pass\n",
    "        \n",
    "    def sigmoid(self,x):\n",
    "        # TODO: Return the result of calculating the sigmoid activation function\n",
    "        #       shown in the lectures\n",
    "        pass\n",
    "    \n",
    "    def sigmoid_output_2_derivative(self,output):\n",
    "        # TODO: Return the derivative of the sigmoid activation function, \n",
    "        #       where \"output\" is the original output from the sigmoid fucntion \n",
    "        pass\n",
    "\n",
    "    def train(self, training_reviews, training_labels):\n",
    "        \n",
    "        # make sure out we have a matching number of reviews and labels\n",
    "        assert(len(training_reviews) == len(training_labels))\n",
    "        \n",
    "        # Keep track of correct predictions to display accuracy during training \n",
    "        correct_so_far = 0\n",
    "        \n",
    "        # Remember when we started for printing time statistics\n",
    "        start = time.time()\n",
    "\n",
    "        # loop through all the given reviews and run a forward and backward pass,\n",
    "        # updating weights for every item\n",
    "        for i in range(len(training_reviews)):\n",
    "            \n",
    "            # TODO: Get the next review and its correct label\n",
    "            \n",
    "            # TODO: Implement the forward pass through the network. \n",
    "            #       That means use the given review to update the input layer, \n",
    "            #       then calculate values for the hidden layer,\n",
    "            #       and finally calculate the output layer.\n",
    "            # \n",
    "            #       Do not use an activation function for the hidden layer,\n",
    "            #       but use the sigmoid activation function for the output layer.\n",
    "            \n",
    "            # TODO: Implement the back propagation pass here. \n",
    "            #       That means calculate the error for the forward pass's prediction\n",
    "            #       and update the weights in the network according to their\n",
    "            #       contributions toward the error, as calculated via the\n",
    "            #       gradient descent and back propagation algorithms you \n",
    "            #       learned in class.\n",
    "            \n",
    "            # TODO: Keep track of correct predictions. To determine if the prediction was\n",
    "            #       correct, check that the absolute value of the output error \n",
    "            #       is less than 0.5. If so, add one to the correct_so_far count.\n",
    "            \n",
    "            # For debug purposes, print out our prediction accuracy and speed \n",
    "            # throughout the training process. \n",
    "\n",
    "            elapsed_time = float(time.time() - start)\n",
    "            reviews_per_second = i / elapsed_time if elapsed_time > 0 else 0\n",
    "            \n",
    "            sys.stdout.write(\"\\rProgress:\" + str(100 * i/float(len(training_reviews)))[:4] \\\n",
    "                             + \"% Speed(reviews/sec):\" + str(reviews_per_second)[0:5] \\\n",
    "                             + \" #Correct:\" + str(correct_so_far) + \" #Trained:\" + str(i+1) \\\n",
    "                             + \" Training Accuracy:\" + str(correct_so_far * 100 / float(i+1))[:4] + \"%\")\n",
    "            if(i % 2500 == 0):\n",
    "                print(\"\")\n",
    "    \n",
    "    def test(self, testing_reviews, testing_labels):\n",
    "        \"\"\"\n",
    "        Attempts to predict the labels for the given testing_reviews,\n",
    "        and uses the test_labels to calculate the accuracy of those predictions.\n",
    "        \"\"\"\n",
    "        \n",
    "        # keep track of how many correct predictions we make\n",
    "        correct = 0\n",
    "\n",
    "        # we'll time how many predictions per second we make\n",
    "        start = time.time()\n",
    "\n",
    "        # Loop through each of the given reviews and call run to predict\n",
    "        # its label. \n",
    "        for i in range(len(testing_reviews)):\n",
    "            pred = self.run(testing_reviews[i])\n",
    "            if(pred == testing_labels[i]):\n",
    "                correct += 1\n",
    "            \n",
    "            # For debug purposes, print out our prediction accuracy and speed \n",
    "            # throughout the prediction process. \n",
    "\n",
    "            elapsed_time = float(time.time() - start)\n",
    "            reviews_per_second = i / elapsed_time if elapsed_time > 0 else 0\n",
    "            \n",
    "            sys.stdout.write(\"\\rProgress:\" + str(100 * i/float(len(testing_reviews)))[:4] \\\n",
    "                             + \"% Speed(reviews/sec):\" + str(reviews_per_second)[0:5] \\\n",
    "                             + \" #Correct:\" + str(correct) + \" #Tested:\" + str(i+1) \\\n",
    "                             + \" Testing Accuracy:\" + str(correct * 100 / float(i+1))[:4] + \"%\")\n",
    "    \n",
    "    def run(self, review):\n",
    "        \"\"\"\n",
    "        Returns a POSITIVE or NEGATIVE prediction for the given review.\n",
    "        \"\"\"\n",
    "        # TODO: Run a forward pass through the network, like you did in the\n",
    "        #       \"train\" function. That means use the given review to \n",
    "        #       update the input layer, then calculate values for the hidden layer,\n",
    "        #       and finally calculate the output layer.\n",
    "        #\n",
    "        #       Note: The review passed into this function for prediction \n",
    "        #             might come from anywhere, so you should convert it \n",
    "        #             to lower case prior to using it.\n",
    "        \n",
    "        # TODO: The output layer should now contain a prediction. \n",
    "        #       Return `POSITIVE` for predictions greater-than-or-equal-to `0.5`, \n",
    "        #       and `NEGATIVE` otherwise.\n",
    "        pass\n"
   ]
  },
  {
   "cell_type": "markdown",
   "metadata": {},
   "source": [
    "Run the following cell to create a `SentimentNetwork` that will train on all but the last 1000 reviews (we're saving those for testing). Here we use a learning rate of `0.1`."
   ]
  },
  {
   "cell_type": "code",
   "execution_count": null,
   "metadata": {
    "collapsed": true
   },
   "outputs": [],
   "source": [
    "mlp = SentimentNetwork(reviews[:-1000],labels[:-1000], learning_rate=0.1)"
   ]
  },
  {
   "cell_type": "markdown",
   "metadata": {},
   "source": [
    "Run the following cell to test the network's performance against the last 1000 reviews (the ones we held out from our training set). \n",
    "\n",
    "**We have not trained the model yet, so the results should be about 50% as it will just be guessing and there are only two possible values to choose from.**"
   ]
  },
  {
   "cell_type": "code",
   "execution_count": null,
   "metadata": {
    "collapsed": true
   },
   "outputs": [],
   "source": [
    "mlp.test(reviews[-1000:],labels[-1000:])"
   ]
  },
  {
   "cell_type": "markdown",
   "metadata": {},
   "source": [
    "Run the following cell to actually train the network. During training, it will display the model's accuracy repeatedly as it trains so you can see how well it's doing."
   ]
  },
  {
   "cell_type": "code",
   "execution_count": null,
   "metadata": {
    "collapsed": true
   },
   "outputs": [],
   "source": [
    "mlp.train(reviews[:-1000],labels[:-1000])"
   ]
  },
  {
   "cell_type": "markdown",
   "metadata": {},
   "source": [
    "That most likely didn't train very well. Part of the reason may be because the learning rate is too high. Run the following cell to recreate the network with a smaller learning rate, `0.01`, and then train the new network."
   ]
  },
  {
   "cell_type": "code",
   "execution_count": null,
   "metadata": {
    "collapsed": true
   },
   "outputs": [],
   "source": [
    "mlp = SentimentNetwork(reviews[:-1000],labels[:-1000], learning_rate=0.01)\n",
    "mlp.train(reviews[:-1000],labels[:-1000])"
   ]
  },
  {
   "cell_type": "markdown",
   "metadata": {},
   "source": [
    "That probably wasn't much different. Run the following cell to recreate the network one more time with an even smaller learning rate, `0.001`, and then train the new network."
   ]
  },
  {
   "cell_type": "code",
   "execution_count": null,
   "metadata": {
    "collapsed": true
   },
   "outputs": [],
   "source": [
    "mlp = SentimentNetwork(reviews[:-1000],labels[:-1000], learning_rate=0.001)\n",
    "mlp.train(reviews[:-1000],labels[:-1000])"
   ]
  },
  {
   "cell_type": "markdown",
   "metadata": {},
   "source": [
    "With a learning rate of `0.001`, the network should finall have started to improve during training. It's still not very good, but it shows that this solution has potential. We will improve it in the next lesson."
   ]
  },
  {
   "cell_type": "markdown",
   "metadata": {},
   "source": [
    "# End of Project 3. \n",
    "## Watch the next video to see Andrew's solution, then continue on to the next lesson."
   ]
  },
  {
   "cell_type": "markdown",
   "metadata": {},
   "source": [
    "# Understanding Neural Noise<a id='lesson_4'></a>\n",
    "\n",
    "The following cells include includes the code Andrew shows in the next video. We've included it here so you can run the cells along with the video without having to type in everything."
   ]
  },
  {
   "cell_type": "code",
   "execution_count": null,
   "metadata": {
    "collapsed": false
   },
   "outputs": [],
   "source": [
    "from IPython.display import Image\n",
    "Image(filename='sentiment_network.png')"
   ]
  },
  {
   "cell_type": "code",
   "execution_count": null,
   "metadata": {
    "collapsed": true
   },
   "outputs": [],
   "source": [
    "def update_input_layer(review):\n",
    "    \n",
    "    global layer_0\n",
    "    \n",
    "    # clear out previous state, reset the layer to be all 0s\n",
    "    layer_0 *= 0\n",
    "    for word in review.split(\" \"):\n",
    "        layer_0[0][word2index[word]] += 1\n",
    "\n",
    "update_input_layer(reviews[0])"
   ]
  },
  {
   "cell_type": "code",
   "execution_count": null,
   "metadata": {
    "collapsed": true
   },
   "outputs": [],
   "source": [
    "layer_0"
   ]
  },
  {
   "cell_type": "code",
   "execution_count": null,
   "metadata": {
    "collapsed": true
   },
   "outputs": [],
   "source": [
    "review_counter = Counter()"
   ]
  },
  {
   "cell_type": "code",
   "execution_count": null,
   "metadata": {
    "collapsed": true
   },
   "outputs": [],
   "source": [
    "for word in reviews[0].split(\" \"):\n",
    "    review_counter[word] += 1"
   ]
  },
  {
   "cell_type": "code",
   "execution_count": null,
   "metadata": {
    "collapsed": true
   },
   "outputs": [],
   "source": [
    "review_counter.most_common()"
   ]
  },
  {
   "cell_type": "markdown",
   "metadata": {},
   "source": [
    "# Project 4: Reducing Noise in Our Input Data<a id='project_4'></a>\n",
    "\n",
    "**TODO:** Attempt to reduce the noise in the input data like Andrew did in the previous video. Specifically, do the following:\n",
    "* Copy the `SentimentNetwork` class you created earlier into the following cell.\n",
    "* Modify `update_input_layer` so it does not count how many times each word is used, but rather just stores whether or not a word was used. "
   ]
  },
  {
   "cell_type": "code",
   "execution_count": null,
   "metadata": {
    "collapsed": true
   },
   "outputs": [],
   "source": [
    "# TODO: -Copy the SentimentNetwork class from Projet 3 lesson\n",
    "#       -Modify it to reduce noise, like in the video "
   ]
  },
  {
   "cell_type": "markdown",
   "metadata": {},
   "source": [
    "Run the following cell to recreate the network and train it. Notice we've gone back to the higher learning rate of `0.1`."
   ]
  },
  {
   "cell_type": "code",
   "execution_count": null,
   "metadata": {
    "collapsed": true
   },
   "outputs": [],
   "source": [
    "mlp = SentimentNetwork(reviews[:-1000],labels[:-1000], learning_rate=0.1)\n",
    "mlp.train(reviews[:-1000],labels[:-1000])"
   ]
  },
  {
   "cell_type": "markdown",
   "metadata": {},
   "source": [
    "That should have trained much better than the earlier attempts. It's still not wonderful, but it should have improved dramatically. Run the following cell to test your model with 1000 predictions."
   ]
  },
  {
   "cell_type": "code",
   "execution_count": null,
   "metadata": {
    "collapsed": true
   },
   "outputs": [],
   "source": [
    "mlp.test(reviews[-1000:],labels[-1000:])"
   ]
  },
  {
   "cell_type": "markdown",
   "metadata": {},
   "source": [
    "# End of Project 4. \n",
    "## Andrew's solution was actually in the previous video, so rewatch that video if you had any problems with that project. Then continue on to the next lesson.\n",
    "# Analyzing Inefficiencies in our Network<a id='lesson_5'></a>\n",
    "The following cells include the code Andrew shows in the next video. We've included it here so you can run the cells along with the video without having to type in everything."
   ]
  },
  {
   "cell_type": "code",
   "execution_count": null,
   "metadata": {
    "collapsed": true
   },
   "outputs": [],
   "source": [
    "Image(filename='sentiment_network_sparse.png')"
   ]
  },
  {
   "cell_type": "code",
   "execution_count": null,
   "metadata": {
    "collapsed": true
   },
   "outputs": [],
   "source": [
    "layer_0 = np.zeros(10)"
   ]
  },
  {
   "cell_type": "code",
   "execution_count": null,
   "metadata": {
    "collapsed": true
   },
   "outputs": [],
   "source": [
    "layer_0"
   ]
  },
  {
   "cell_type": "code",
   "execution_count": null,
   "metadata": {
    "collapsed": true
   },
   "outputs": [],
   "source": [
    "layer_0[4] = 1\n",
    "layer_0[9] = 1"
   ]
  },
  {
   "cell_type": "code",
   "execution_count": null,
   "metadata": {
    "collapsed": true
   },
   "outputs": [],
   "source": [
    "layer_0"
   ]
  },
  {
   "cell_type": "code",
   "execution_count": null,
   "metadata": {
    "collapsed": true
   },
   "outputs": [],
   "source": [
    "weights_0_1 = np.random.randn(10,5)"
   ]
  },
  {
   "cell_type": "code",
   "execution_count": null,
   "metadata": {
    "collapsed": true
   },
   "outputs": [],
   "source": [
    "layer_0.dot(weights_0_1)"
   ]
  },
  {
   "cell_type": "code",
   "execution_count": null,
   "metadata": {
    "collapsed": true
   },
   "outputs": [],
   "source": [
    "indices = [4,9]"
   ]
  },
  {
   "cell_type": "code",
   "execution_count": null,
   "metadata": {
    "collapsed": true
   },
   "outputs": [],
   "source": [
    "layer_1 = np.zeros(5)"
   ]
  },
  {
   "cell_type": "code",
   "execution_count": null,
   "metadata": {
    "collapsed": true
   },
   "outputs": [],
   "source": [
    "for index in indices:\n",
    "    layer_1 += (1 * weights_0_1[index])"
   ]
  },
  {
   "cell_type": "code",
   "execution_count": null,
   "metadata": {
    "collapsed": true
   },
   "outputs": [],
   "source": [
    "layer_1"
   ]
  },
  {
   "cell_type": "code",
   "execution_count": null,
   "metadata": {
    "collapsed": true
   },
   "outputs": [],
   "source": [
    "Image(filename='sentiment_network_sparse_2.png')"
   ]
  },
  {
   "cell_type": "code",
   "execution_count": null,
   "metadata": {
    "collapsed": true
   },
   "outputs": [],
   "source": [
    "layer_1 = np.zeros(5)"
   ]
  },
  {
   "cell_type": "code",
   "execution_count": null,
   "metadata": {
    "collapsed": true
   },
   "outputs": [],
   "source": [
    "for index in indices:\n",
    "    layer_1 += (weights_0_1[index])"
   ]
  },
  {
   "cell_type": "code",
   "execution_count": null,
   "metadata": {
    "collapsed": true
   },
   "outputs": [],
   "source": [
    "layer_1"
   ]
  },
  {
   "cell_type": "markdown",
   "metadata": {},
   "source": [
    "# Project 5: Making our Network More Efficient<a id='project_5'></a>\n",
    "**TODO:** Make the `SentimentNetwork` class more efficient by eliminating unnecessary multiplications and additions that occur during forward and backward propagation. To do that, you can do the following:\n",
    "* Copy the `SentimentNetwork` class from the previous project into the following cell.\n",
    "* Remove the `update_input_layer` function - you will not need it in this version.\n",
    "* Modify `init_network`:\n",
    ">* You no longer need a separate input layer, so remove any mention of `self.layer_0`\n",
    ">* You will be dealing with the old hidden layer more directly, so create `self.layer_1`, a two-dimensional matrix with shape 1 x hidden_nodes, with all values initialized to zero\n",
    "* Modify `train`:\n",
    ">* Change the name of the input parameter `training_reviews` to `training_reviews_raw`. This will help with the next step.\n",
    ">* At the beginning of the function, you'll want to preprocess your reviews to convert them to a list of indices (from `word2index`) that are actually used in the review. This is equivalent to what you saw in the video when Andrew set specific indices to 1. Your code should create a local `list` variable named `training_reviews` that should contain a `list` for each review in `training_reviews_raw`. Those lists should contain the indices for words found in the review.\n",
    ">* Remove call to `update_input_layer`\n",
    ">* Use `self`'s  `layer_1` instead of a local `layer_1` object.\n",
    ">* In the forward pass, replace the code that updates `layer_1` with new logic that only adds the weights for the indices used in the review.\n",
    ">* When updating `weights_0_1`, only update the individual weights that were used in the forward pass.\n",
    "* Modify `run`:\n",
    ">* Remove call to `update_input_layer` \n",
    ">* Use `self`'s  `layer_1` instead of a local `layer_1` object.\n",
    ">* Much like you did in `train`, you will need to pre-process the `review` so you can work with word indices, then update `layer_1` by adding weights for the indices used in the review."
   ]
  },
  {
   "cell_type": "code",
   "execution_count": null,
   "metadata": {
    "collapsed": true
   },
   "outputs": [],
   "source": [
    "# TODO: -Copy the SentimentNetwork class from Project 4 lesson\n",
    "#       -Modify it according to the above instructions "
   ]
  },
  {
   "cell_type": "markdown",
   "metadata": {},
   "source": [
    "Run the following cell to recreate the network and train it once again."
   ]
  },
  {
   "cell_type": "code",
   "execution_count": null,
   "metadata": {
    "collapsed": true
   },
   "outputs": [],
   "source": [
    "mlp = SentimentNetwork(reviews[:-1000],labels[:-1000], learning_rate=0.1)\n",
    "mlp.train(reviews[:-1000],labels[:-1000])"
   ]
  },
  {
   "cell_type": "markdown",
   "metadata": {},
   "source": [
    "That should have trained much better than the earlier attempts. Run the following cell to test your model with 1000 predictions."
   ]
  },
  {
   "cell_type": "code",
   "execution_count": null,
   "metadata": {
    "collapsed": true
   },
   "outputs": [],
   "source": [
    "mlp.test(reviews[-1000:],labels[-1000:])"
   ]
  },
  {
   "cell_type": "markdown",
   "metadata": {},
   "source": [
    "# End of Project 5. \n",
    "## Watch the next video to see Andrew's solution, then continue on to the next lesson.\n",
    "# Further Noise Reduction<a id='lesson_6'></a>"
   ]
  },
  {
   "cell_type": "code",
   "execution_count": null,
   "metadata": {
    "collapsed": true
   },
   "outputs": [],
   "source": [
    "Image(filename='sentiment_network_sparse_2.png')"
   ]
  },
  {
   "cell_type": "code",
   "execution_count": null,
   "metadata": {
    "collapsed": true
   },
   "outputs": [],
   "source": [
    "# words most frequently seen in a review with a \"POSITIVE\" label\n",
    "pos_neg_ratios.most_common()"
   ]
  },
  {
   "cell_type": "code",
   "execution_count": null,
   "metadata": {
    "collapsed": true
   },
   "outputs": [],
   "source": [
    "# words most frequently seen in a review with a \"NEGATIVE\" label\n",
    "list(reversed(pos_neg_ratios.most_common()))[0:30]"
   ]
  },
  {
   "cell_type": "code",
   "execution_count": null,
   "metadata": {
    "collapsed": true
   },
   "outputs": [],
   "source": [
    "from bokeh.models import ColumnDataSource, LabelSet\n",
    "from bokeh.plotting import figure, show, output_file\n",
    "from bokeh.io import output_notebook\n",
    "output_notebook()"
   ]
  },
  {
   "cell_type": "code",
   "execution_count": null,
   "metadata": {
    "collapsed": true
   },
   "outputs": [],
   "source": [
    "hist, edges = np.histogram(list(map(lambda x:x[1],pos_neg_ratios.most_common())), density=True, bins=100, normed=True)\n",
    "\n",
    "p = figure(tools=\"pan,wheel_zoom,reset,save\",\n",
    "           toolbar_location=\"above\",\n",
    "           title=\"Word Positive/Negative Affinity Distribution\")\n",
    "p.quad(top=hist, bottom=0, left=edges[:-1], right=edges[1:], line_color=\"#555555\")\n",
    "show(p)"
   ]
  },
  {
   "cell_type": "code",
   "execution_count": null,
   "metadata": {
    "collapsed": true
   },
   "outputs": [],
   "source": [
    "frequency_frequency = Counter()\n",
    "\n",
    "for word, cnt in total_counts.most_common():\n",
    "    frequency_frequency[cnt] += 1"
   ]
  },
  {
   "cell_type": "code",
   "execution_count": null,
   "metadata": {
    "collapsed": true
   },
   "outputs": [],
   "source": [
    "hist, edges = np.histogram(list(map(lambda x:x[1],frequency_frequency.most_common())), density=True, bins=100, normed=True)\n",
    "\n",
    "p = figure(tools=\"pan,wheel_zoom,reset,save\",\n",
    "           toolbar_location=\"above\",\n",
    "           title=\"The frequency distribution of the words in our corpus\")\n",
    "p.quad(top=hist, bottom=0, left=edges[:-1], right=edges[1:], line_color=\"#555555\")\n",
    "show(p)"
   ]
  },
  {
   "cell_type": "markdown",
   "metadata": {},
   "source": [
    "# Project 6: Reducing Noise by Strategically Reducing the Vocabulary<a id='project_6'></a>\n",
    "\n",
    "**TODO:** Improve `SentimentNetwork`'s performance by reducing more noise in the vocabulary. Specifically, do the following:\n",
    "* Copy the `SentimentNetwork` class from the previous project into the following cell.\n",
    "* Modify `pre_process_data`:\n",
    ">* Add two additional parameters: `min_count` and `polarity_cutoff`\n",
    ">* Calculate the positive-to-negative ratios of words used in the reviews. (You can use code you've written elsewhere in the notebook, but we are moving it into the class like we did with other helper code earlier.)\n",
    ">* Andrew's solution only calculates a postive-to-negative ratio for words that occur at least 50 times. This keeps the network from attributing too much sentiment to rarer words. You can choose to add this to your solution if you would like.  \n",
    ">* Change so words are only added to the vocabulary if they occur in the vocabulary more than `min_count` times.\n",
    ">* Change so words are only added to the vocabulary if the absolute value of their postive-to-negative ratio is at least `polarity_cutoff`\n",
    "* Modify `__init__`:\n",
    ">* Add the same two parameters (`min_count` and `polarity_cutoff`) and use them when you call `pre_process_data`"
   ]
  },
  {
   "cell_type": "code",
   "execution_count": null,
   "metadata": {
    "collapsed": true
   },
   "outputs": [],
   "source": [
    "# TODO: -Copy the SentimentNetwork class from Project 5 lesson\n",
    "#       -Modify it according to the above instructions "
   ]
  },
  {
   "cell_type": "markdown",
   "metadata": {},
   "source": [
    "Run the following cell to train your network with a small polarity cutoff."
   ]
  },
  {
   "cell_type": "code",
   "execution_count": null,
   "metadata": {
    "collapsed": true
   },
   "outputs": [],
   "source": [
    "mlp = SentimentNetwork(reviews[:-1000],labels[:-1000],min_count=20,polarity_cutoff=0.05,learning_rate=0.01)\n",
    "mlp.train(reviews[:-1000],labels[:-1000])"
   ]
  },
  {
   "cell_type": "markdown",
   "metadata": {},
   "source": [
    "And run the following cell to test it's performance. It should be "
   ]
  },
  {
   "cell_type": "code",
   "execution_count": null,
   "metadata": {
    "collapsed": true
   },
   "outputs": [],
   "source": [
    "mlp.test(reviews[-1000:],labels[-1000:])"
   ]
  },
  {
   "cell_type": "markdown",
   "metadata": {},
   "source": [
    "Run the following cell to train your network with a much larger polarity cutoff."
   ]
  },
  {
   "cell_type": "code",
   "execution_count": null,
   "metadata": {
    "collapsed": true
   },
   "outputs": [],
   "source": [
    "mlp = SentimentNetwork(reviews[:-1000],labels[:-1000],min_count=20,polarity_cutoff=0.8,learning_rate=0.01)\n",
    "mlp.train(reviews[:-1000],labels[:-1000])"
   ]
  },
  {
   "cell_type": "markdown",
   "metadata": {},
   "source": [
    "And run the following cell to test it's performance."
   ]
  },
  {
   "cell_type": "code",
   "execution_count": null,
   "metadata": {
    "collapsed": true
   },
   "outputs": [],
   "source": [
    "mlp.test(reviews[-1000:],labels[-1000:])"
   ]
  },
  {
   "cell_type": "markdown",
   "metadata": {},
   "source": [
    "# End of Project 6. \n",
    "## Watch the next video to see Andrew's solution, then continue on to the next lesson."
   ]
  },
  {
   "cell_type": "markdown",
   "metadata": {
    "collapsed": true
   },
   "source": [
    "# Analysis: What's Going on in the Weights?<a id='lesson_7'></a>"
   ]
  },
  {
   "cell_type": "code",
   "execution_count": null,
   "metadata": {
    "collapsed": true
   },
   "outputs": [],
   "source": [
    "mlp_full = SentimentNetwork(reviews[:-1000],labels[:-1000],min_count=0,polarity_cutoff=0,learning_rate=0.01)"
   ]
  },
  {
   "cell_type": "code",
   "execution_count": null,
   "metadata": {
    "collapsed": true
   },
   "outputs": [],
   "source": [
    "mlp_full.train(reviews[:-1000],labels[:-1000])"
   ]
  },
  {
   "cell_type": "code",
   "execution_count": null,
   "metadata": {
    "collapsed": true
   },
   "outputs": [],
   "source": [
    "Image(filename='sentiment_network_sparse.png')"
   ]
  },
  {
   "cell_type": "code",
   "execution_count": null,
   "metadata": {
    "collapsed": true
   },
   "outputs": [],
   "source": [
    "def get_most_similar_words(focus = \"horrible\"):\n",
    "    most_similar = Counter()\n",
    "\n",
    "    for word in mlp_full.word2index.keys():\n",
    "        most_similar[word] = np.dot(mlp_full.weights_0_1[mlp_full.word2index[word]],mlp_full.weights_0_1[mlp_full.word2index[focus]])\n",
    "    \n",
    "    return most_similar.most_common()"
   ]
  },
  {
   "cell_type": "code",
   "execution_count": null,
   "metadata": {
    "collapsed": true
   },
   "outputs": [],
   "source": [
    "get_most_similar_words(\"excellent\")"
   ]
  },
  {
   "cell_type": "code",
   "execution_count": null,
   "metadata": {
    "collapsed": true
   },
   "outputs": [],
   "source": [
    "get_most_similar_words(\"terrible\")"
   ]
  },
  {
   "cell_type": "code",
   "execution_count": null,
   "metadata": {
    "collapsed": true
   },
   "outputs": [],
   "source": [
    "import matplotlib.colors as colors\n",
    "\n",
    "words_to_visualize = list()\n",
    "for word, ratio in pos_neg_ratios.most_common(500):\n",
    "    if(word in mlp_full.word2index.keys()):\n",
    "        words_to_visualize.append(word)\n",
    "    \n",
    "for word, ratio in list(reversed(pos_neg_ratios.most_common()))[0:500]:\n",
    "    if(word in mlp_full.word2index.keys()):\n",
    "        words_to_visualize.append(word)"
   ]
  },
  {
   "cell_type": "code",
   "execution_count": null,
   "metadata": {
    "collapsed": true
   },
   "outputs": [],
   "source": [
    "pos = 0\n",
    "neg = 0\n",
    "\n",
    "colors_list = list()\n",
    "vectors_list = list()\n",
    "for word in words_to_visualize:\n",
    "    if word in pos_neg_ratios.keys():\n",
    "        vectors_list.append(mlp_full.weights_0_1[mlp_full.word2index[word]])\n",
    "        if(pos_neg_ratios[word] > 0):\n",
    "            pos+=1\n",
    "            colors_list.append(\"#00ff00\")\n",
    "        else:\n",
    "            neg+=1\n",
    "            colors_list.append(\"#000000\")"
   ]
  },
  {
   "cell_type": "code",
   "execution_count": null,
   "metadata": {
    "collapsed": true
   },
   "outputs": [],
   "source": [
    "from sklearn.manifold import TSNE\n",
    "tsne = TSNE(n_components=2, random_state=0)\n",
    "words_top_ted_tsne = tsne.fit_transform(vectors_list)"
   ]
  },
  {
   "cell_type": "code",
   "execution_count": null,
   "metadata": {
    "collapsed": true
   },
   "outputs": [],
   "source": [
    "p = figure(tools=\"pan,wheel_zoom,reset,save\",\n",
    "           toolbar_location=\"above\",\n",
    "           title=\"vector T-SNE for most polarized words\")\n",
    "\n",
    "source = ColumnDataSource(data=dict(x1=words_top_ted_tsne[:,0],\n",
    "                                    x2=words_top_ted_tsne[:,1],\n",
    "                                    names=words_to_visualize))\n",
    "\n",
    "p.scatter(x=\"x1\", y=\"x2\", size=8, source=source,color=colors_list)\n",
    "\n",
    "word_labels = LabelSet(x=\"x1\", y=\"x2\", text=\"names\", y_offset=6,\n",
    "                  text_font_size=\"8pt\", text_color=\"#555555\",\n",
    "                  source=source, text_align='center')\n",
    "p.add_layout(word_labels)\n",
    "\n",
    "show(p)\n",
    "\n",
    "# green indicates positive words, black indicates negative words"
   ]
  }
 ],
 "metadata": {
  "anaconda-cloud": {},
  "kernelspec": {
   "display_name": "Python 3",
   "language": "python",
   "name": "python3"
  },
  "language_info": {
   "codemirror_mode": {
    "name": "ipython",
    "version": 3
   },
   "file_extension": ".py",
   "mimetype": "text/x-python",
   "name": "python",
   "nbconvert_exporter": "python",
   "pygments_lexer": "ipython3",
   "version": "3.6.0"
  }
 },
 "nbformat": 4,
 "nbformat_minor": 1
}

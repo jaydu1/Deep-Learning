{
 "cells": [
  {
   "cell_type": "markdown",
   "metadata": {},
   "source": [
    "# Transfer Learning\n",
    "\n",
    "Most of the time you won't want to train a whole convolutional network yourself. Modern ConvNets training on huge datasets like ImageNet take weeks on multiple GPUs. Instead, most people use a pretrained network either as a fixed feature extractor, or as an initial network to fine tune. In this notebook, you'll be using [VGGNet](https://arxiv.org/pdf/1409.1556.pdf) trained on the [ImageNet dataset](http://www.image-net.org/) as a feature extractor. Below is a diagram of the VGGNet architecture.\n",
    "\n",
    "<img src=\"assets/cnnarchitecture.jpg\" width=700px>\n",
    "\n",
    "VGGNet is great because it's simple and has great performance, coming in second in the ImageNet competition. The idea here is that we keep all the convolutional layers, but replace the final fully connected layers with our own classifier. This way we can use VGGNet as a feature extractor for our images then easily train a simple classifier on top of that. What we'll do is take the first fully connected layer with 4096 units, including thresholding with ReLUs. We can use those values as a code for each image, then build a classifier on top of those codes.\n",
    "\n",
    "You can read more about transfer learning from [the CS231n course notes](http://cs231n.github.io/transfer-learning/#tf).\n",
    "\n",
    "## Pretrained VGGNet\n",
    "\n",
    "We'll be using a pretrained network from https://github.com/machrisaa/tensorflow-vgg. Make sure to clone this repository to the directory you're working from. You'll also want to rename it so it has an underscore instead of a dash.\n",
    "\n",
    "```\n",
    "git clone https://github.com/machrisaa/tensorflow-vgg.git tensorflow_vgg\n",
    "```\n",
    "\n",
    "This is a really nice implementation of VGGNet, quite easy to work with. The network has already been trained and the parameters are available from this link. **You'll need to clone the repo into the folder containing this notebook.** Then download the parameter file using the next cell."
   ]
  },
  {
   "cell_type": "code",
   "execution_count": 1,
   "metadata": {},
   "outputs": [
    {
     "name": "stderr",
     "output_type": "stream",
     "text": [
      "VGG16 Parameters: 553MB [19:44, 467KB/s]                                \n"
     ]
    }
   ],
   "source": [
    "from urllib.request import urlretrieve\n",
    "from os.path import isfile, isdir\n",
    "from tqdm import tqdm\n",
    "\n",
    "vgg_dir = 'tensorflow_vgg/'\n",
    "# Make sure vgg exists\n",
    "if not isdir(vgg_dir):\n",
    "    raise Exception(\"VGG directory doesn't exist!\")\n",
    "\n",
    "class DLProgress(tqdm):\n",
    "    last_block = 0\n",
    "\n",
    "    def hook(self, block_num=1, block_size=1, total_size=None):\n",
    "        self.total = total_size\n",
    "        self.update((block_num - self.last_block) * block_size)\n",
    "        self.last_block = block_num\n",
    "\n",
    "if not isfile(vgg_dir + \"vgg16.npy\"):\n",
    "    with DLProgress(unit='B', unit_scale=True, miniters=1, desc='VGG16 Parameters') as pbar:\n",
    "        urlretrieve(\n",
    "            'https://s3.amazonaws.com/content.udacity-data.com/nd101/vgg16.npy',\n",
    "            vgg_dir + 'vgg16.npy',\n",
    "            pbar.hook)\n",
    "else:\n",
    "    print(\"Parameter file already exists!\")"
   ]
  },
  {
   "cell_type": "markdown",
   "metadata": {},
   "source": [
    "## Flower power\n",
    "\n",
    "Here we'll be using VGGNet to classify images of flowers. To get the flower dataset, run the cell below. This dataset comes from the [TensorFlow inception tutorial](https://www.tensorflow.org/tutorials/image_retraining)."
   ]
  },
  {
   "cell_type": "code",
   "execution_count": 2,
   "metadata": {},
   "outputs": [
    {
     "name": "stderr",
     "output_type": "stream",
     "text": [
      "Flowers Dataset: 229MB [00:57, 3.97MB/s]                              \n"
     ]
    }
   ],
   "source": [
    "import tarfile\n",
    "\n",
    "dataset_folder_path = 'flower_photos'\n",
    "\n",
    "class DLProgress(tqdm):\n",
    "    last_block = 0\n",
    "\n",
    "    def hook(self, block_num=1, block_size=1, total_size=None):\n",
    "        self.total = total_size\n",
    "        self.update((block_num - self.last_block) * block_size)\n",
    "        self.last_block = block_num\n",
    "\n",
    "if not isfile('flower_photos.tar.gz'):\n",
    "    with DLProgress(unit='B', unit_scale=True, miniters=1, desc='Flowers Dataset') as pbar:\n",
    "        urlretrieve(\n",
    "            'http://download.tensorflow.org/example_images/flower_photos.tgz',\n",
    "            'flower_photos.tar.gz',\n",
    "            pbar.hook)\n",
    "\n",
    "if not isdir(dataset_folder_path):\n",
    "    with tarfile.open('flower_photos.tar.gz') as tar:\n",
    "        tar.extractall()\n",
    "        tar.close()"
   ]
  },
  {
   "cell_type": "markdown",
   "metadata": {},
   "source": [
    "## ConvNet Codes\n",
    "\n",
    "Below, we'll run through all the images in our dataset and get codes for each of them. That is, we'll run the images through the VGGNet convolutional layers and record the values of the first fully connected layer. We can then write these to a file for later when we build our own classifier.\n",
    "\n",
    "Here we're using the `vgg16` module from `tensorflow_vgg`. The network takes images of size $224 \\times 224 \\times 3$ as input. Then it has 5 sets of convolutional layers. The network implemented here has this structure (copied from [the source code](https://github.com/machrisaa/tensorflow-vgg/blob/master/vgg16.py)):\n",
    "\n",
    "```\n",
    "self.conv1_1 = self.conv_layer(bgr, \"conv1_1\")\n",
    "self.conv1_2 = self.conv_layer(self.conv1_1, \"conv1_2\")\n",
    "self.pool1 = self.max_pool(self.conv1_2, 'pool1')\n",
    "\n",
    "self.conv2_1 = self.conv_layer(self.pool1, \"conv2_1\")\n",
    "self.conv2_2 = self.conv_layer(self.conv2_1, \"conv2_2\")\n",
    "self.pool2 = self.max_pool(self.conv2_2, 'pool2')\n",
    "\n",
    "self.conv3_1 = self.conv_layer(self.pool2, \"conv3_1\")\n",
    "self.conv3_2 = self.conv_layer(self.conv3_1, \"conv3_2\")\n",
    "self.conv3_3 = self.conv_layer(self.conv3_2, \"conv3_3\")\n",
    "self.pool3 = self.max_pool(self.conv3_3, 'pool3')\n",
    "\n",
    "self.conv4_1 = self.conv_layer(self.pool3, \"conv4_1\")\n",
    "self.conv4_2 = self.conv_layer(self.conv4_1, \"conv4_2\")\n",
    "self.conv4_3 = self.conv_layer(self.conv4_2, \"conv4_3\")\n",
    "self.pool4 = self.max_pool(self.conv4_3, 'pool4')\n",
    "\n",
    "self.conv5_1 = self.conv_layer(self.pool4, \"conv5_1\")\n",
    "self.conv5_2 = self.conv_layer(self.conv5_1, \"conv5_2\")\n",
    "self.conv5_3 = self.conv_layer(self.conv5_2, \"conv5_3\")\n",
    "self.pool5 = self.max_pool(self.conv5_3, 'pool5')\n",
    "\n",
    "self.fc6 = self.fc_layer(self.pool5, \"fc6\")\n",
    "self.relu6 = tf.nn.relu(self.fc6)\n",
    "```\n",
    "\n",
    "So what we want are the values of the first fully connected layer, after being ReLUd (`self.relu6`). To build the network, we use\n",
    "\n",
    "```\n",
    "with tf.Session() as sess:\n",
    "    vgg = vgg16.Vgg16()\n",
    "    input_ = tf.placeholder(tf.float32, [None, 224, 224, 3])\n",
    "    with tf.name_scope(\"content_vgg\"):\n",
    "        vgg.build(input_)\n",
    "```\n",
    "\n",
    "This creates the `vgg` object, then builds the graph with `vgg.build(input_)`. Then to get the values from the layer,\n",
    "\n",
    "```\n",
    "feed_dict = {input_: images}\n",
    "codes = sess.run(vgg.relu6, feed_dict=feed_dict)\n",
    "```"
   ]
  },
  {
   "cell_type": "code",
   "execution_count": 5,
   "metadata": {
    "collapsed": true
   },
   "outputs": [],
   "source": [
    "import os\n",
    "\n",
    "import numpy as np\n",
    "import tensorflow as tf\n",
    "\n",
    "from tensorflow_vgg import vgg16\n",
    "from tensorflow_vgg import utils"
   ]
  },
  {
   "cell_type": "code",
   "execution_count": 6,
   "metadata": {
    "collapsed": true
   },
   "outputs": [],
   "source": [
    "data_dir = 'flower_photos/'\n",
    "contents = os.listdir(data_dir)\n",
    "classes = [each for each in contents if os.path.isdir(data_dir + each)]"
   ]
  },
  {
   "cell_type": "markdown",
   "metadata": {},
   "source": [
    "Below I'm running images through the VGG network in batches.\n",
    "\n",
    "> **Exercise:** Below, build the VGG network. Also get the codes from the first fully connected layer (make sure you get the ReLUd values)."
   ]
  },
  {
   "cell_type": "code",
   "execution_count": 9,
   "metadata": {
    "scrolled": true
   },
   "outputs": [
    {
     "name": "stdout",
     "output_type": "stream",
     "text": [
      "/Users/dujinhong/Downloads/Deep Learning/deep-learning-master/transfer-learning/tensorflow_vgg/vgg16.npy\n",
      "npy file loaded\n",
      "build model started\n",
      "build model finished: 0s\n",
      "Starting daisy images\n",
      "64 images processed\n",
      "128 images processed\n",
      "192 images processed\n",
      "256 images processed\n",
      "320 images processed\n",
      "384 images processed\n",
      "448 images processed\n",
      "512 images processed\n",
      "576 images processed\n",
      "633 images processed\n",
      "Starting dandelion images\n",
      "64 images processed\n",
      "128 images processed\n",
      "192 images processed\n",
      "256 images processed\n",
      "320 images processed\n",
      "384 images processed\n",
      "448 images processed\n",
      "512 images processed\n",
      "576 images processed\n",
      "640 images processed\n",
      "704 images processed\n",
      "768 images processed\n",
      "832 images processed\n",
      "896 images processed\n",
      "898 images processed\n",
      "Starting roses images\n",
      "64 images processed\n",
      "128 images processed\n",
      "192 images processed\n",
      "256 images processed\n",
      "320 images processed\n",
      "384 images processed\n",
      "448 images processed\n",
      "512 images processed\n",
      "576 images processed\n",
      "640 images processed\n",
      "641 images processed\n",
      "Starting sunflowers images\n",
      "64 images processed\n",
      "128 images processed\n",
      "192 images processed\n",
      "256 images processed\n",
      "320 images processed\n",
      "384 images processed\n",
      "448 images processed\n",
      "512 images processed\n",
      "576 images processed\n",
      "640 images processed\n",
      "699 images processed\n",
      "Starting tulips images\n",
      "64 images processed\n",
      "128 images processed\n",
      "192 images processed\n",
      "256 images processed\n",
      "320 images processed\n",
      "384 images processed\n",
      "448 images processed\n",
      "512 images processed\n",
      "576 images processed\n",
      "640 images processed\n",
      "704 images processed\n",
      "768 images processed\n",
      "799 images processed\n"
     ]
    }
   ],
   "source": [
    "# Set the batch size higher if you can fit in in your GPU memory\n",
    "batch_size = 64\n",
    "codes_list = []\n",
    "labels = []\n",
    "batch = []\n",
    "\n",
    "codes = None\n",
    "\n",
    "with tf.Session() as sess:\n",
    "    \n",
    "    # TODO: Build the vgg network here\n",
    "    vgg = vgg16.Vgg16()\n",
    "    input_ = tf.placeholder(tf.float32,[None,224,224,3])\n",
    "    with tf.name_scope(\"content_vgg\"):\n",
    "        vgg.build(input_)\n",
    "    \n",
    "    for each in classes:\n",
    "        print(\"Starting {} images\".format(each))\n",
    "        class_path = data_dir + each\n",
    "        files = os.listdir(class_path)\n",
    "        for ii, file in enumerate(files, 1):\n",
    "            # Add images to the current batch\n",
    "            # utils.load_image crops the input images for us, from the center\n",
    "            img = utils.load_image(os.path.join(class_path, file))\n",
    "            batch.append(img.reshape((1, 224, 224, 3)))\n",
    "            labels.append(each)\n",
    "            \n",
    "            # Running the batch through the network to get the codes\n",
    "            if ii % batch_size == 0 or ii == len(files):\n",
    "                \n",
    "                # Image batch to pass to VGG network\n",
    "                images = np.concatenate(batch)\n",
    "                \n",
    "                # TODO: Get the values from the relu6 layer of the VGG network\n",
    "                feed_dict = {input_:images}\n",
    "                codes_batch = sess.run(vgg.relu6,feed_dict=feed_dict)\n",
    "                \n",
    "                # Here I'm building an array of the codes\n",
    "                if codes is None:\n",
    "                    codes = codes_batch\n",
    "                else:\n",
    "                    codes = np.concatenate((codes, codes_batch))\n",
    "                \n",
    "                # Reset to start building the next batch\n",
    "                batch = []\n",
    "                print('{} images processed'.format(ii))"
   ]
  },
  {
   "cell_type": "code",
   "execution_count": 10,
   "metadata": {
    "collapsed": true
   },
   "outputs": [],
   "source": [
    "# write codes to file\n",
    "with open('codes', 'w') as f:\n",
    "    codes.tofile(f)\n",
    "    \n",
    "# write labels to file\n",
    "import csv\n",
    "with open('labels', 'w') as f:\n",
    "    writer = csv.writer(f, delimiter='\\n')\n",
    "    writer.writerow(labels)"
   ]
  },
  {
   "cell_type": "markdown",
   "metadata": {},
   "source": [
    "## Building the Classifier\n",
    "\n",
    "Now that we have codes for all the images, we can build a simple classifier on top of them. The codes behave just like normal input into a simple neural network. Below I'm going to have you do most of the work."
   ]
  },
  {
   "cell_type": "code",
   "execution_count": 11,
   "metadata": {
    "collapsed": true
   },
   "outputs": [],
   "source": [
    "# read codes and labels from file\n",
    "import csv\n",
    "\n",
    "with open('labels') as f:\n",
    "    reader = csv.reader(f, delimiter='\\n')\n",
    "    labels = np.array([each for each in reader if len(each) > 0]).squeeze()\n",
    "with open('codes') as f:\n",
    "    codes = np.fromfile(f, dtype=np.float32)\n",
    "    codes = codes.reshape((len(labels), -1))"
   ]
  },
  {
   "cell_type": "markdown",
   "metadata": {},
   "source": [
    "### Data prep\n",
    "\n",
    "As usual, now we need to one-hot encode our labels and create validation/test sets. First up, creating our labels!\n",
    "\n",
    "> **Exercise:** From scikit-learn, use [LabelBinarizer](http://scikit-learn.org/stable/modules/generated/sklearn.preprocessing.LabelBinarizer.html) to create one-hot encoded vectors from the labels. "
   ]
  },
  {
   "cell_type": "code",
   "execution_count": 16,
   "metadata": {},
   "outputs": [],
   "source": [
    "from sklearn.preprocessing import LabelBinarizer\n",
    "lb = LabelBinarizer()\n",
    "lb.fit(labels)\n",
    "labels_vecs = lb.transform(labels)\n",
    "# Your one-hot encoded labels array here"
   ]
  },
  {
   "cell_type": "markdown",
   "metadata": {},
   "source": [
    "Now you'll want to create your training, validation, and test sets. An important thing to note here is that our labels and data aren't randomized yet. We'll want to shuffle our data so the validation and test sets contain data from all classes. Otherwise, you could end up with testing sets that are all one class. Typically, you'll also want to make sure that each smaller set has the same the distribution of classes as it is for the whole data set. The easiest way to accomplish both these goals is to use [`StratifiedShuffleSplit`](http://scikit-learn.org/stable/modules/generated/sklearn.model_selection.StratifiedShuffleSplit.html) from scikit-learn.\n",
    "\n",
    "You can create the splitter like so:\n",
    "```\n",
    "ss = StratifiedShuffleSplit(n_splits=1, test_size=0.2)\n",
    "```\n",
    "Then split the data with \n",
    "```\n",
    "splitter = ss.split(x, y)\n",
    "```\n",
    "\n",
    "`ss.split` returns a generator of indices. You can pass the indices into the arrays to get the split sets. The fact that it's a generator means you either need to iterate over it, or use `next(splitter)` to get the indices. Be sure to read the [documentation](http://scikit-learn.org/stable/modules/generated/sklearn.model_selection.StratifiedShuffleSplit.html) and the [user guide](http://scikit-learn.org/stable/modules/cross_validation.html#random-permutations-cross-validation-a-k-a-shuffle-split).\n",
    "\n",
    "> **Exercise:** Use StratifiedShuffleSplit to split the codes and labels into training, validation, and test sets."
   ]
  },
  {
   "cell_type": "code",
   "execution_count": 21,
   "metadata": {},
   "outputs": [],
   "source": [
    "from sklearn.model_selection import StratifiedShuffleSplit\n",
    "ss = StratifiedShuffleSplit(n_splits=1, test_size=0.2)\n",
    "train_idx,val_idx = next(ss.split(codes,labels_vecs))\n",
    "    \n",
    "half_val_len = int(len(test)/2)\n",
    "val_idx, test_idx = val_idx[:half_val_len], val_idx[half_val_len:]\n",
    "\n",
    "train_x, train_y = codes[train_idx], labels_vecs[train_idx]\n",
    "val_x, val_y = codes[val_idx], labels_vecs[val_idx]\n",
    "test_x, test_y = codes[test_idx], labels_vecs[test_idx]"
   ]
  },
  {
   "cell_type": "code",
   "execution_count": 22,
   "metadata": {},
   "outputs": [
    {
     "name": "stdout",
     "output_type": "stream",
     "text": [
      "Train shapes (x, y): (2936, 4096) (2936, 5)\n",
      "Validation shapes (x, y): (367, 4096) (367, 5)\n",
      "Test shapes (x, y): (367, 4096) (367, 5)\n"
     ]
    }
   ],
   "source": [
    "print(\"Train shapes (x, y):\", train_x.shape, train_y.shape)\n",
    "print(\"Validation shapes (x, y):\", val_x.shape, val_y.shape)\n",
    "print(\"Test shapes (x, y):\", test_x.shape, test_y.shape)"
   ]
  },
  {
   "cell_type": "markdown",
   "metadata": {},
   "source": [
    "If you did it right, you should see these sizes for the training sets:\n",
    "\n",
    "```\n",
    "Train shapes (x, y): (2936, 4096) (2936, 5)\n",
    "Validation shapes (x, y): (367, 4096) (367, 5)\n",
    "Test shapes (x, y): (367, 4096) (367, 5)\n",
    "```"
   ]
  },
  {
   "cell_type": "markdown",
   "metadata": {},
   "source": [
    "### Classifier layers\n",
    "\n",
    "Once you have the convolutional codes, you just need to build a classfier from some fully connected layers. You use the codes as the inputs and the image labels as targets. Otherwise the classifier is a typical neural network.\n",
    "\n",
    "> **Exercise:** With the codes and labels loaded, build the classifier. Consider the codes as your inputs, each of them are 4096D vectors. You'll want to use a hidden layer and an output layer as your classifier. Remember that the output layer needs to have one unit for each class and a softmax activation function. Use the cross entropy to calculate the cost."
   ]
  },
  {
   "cell_type": "code",
   "execution_count": 27,
   "metadata": {},
   "outputs": [],
   "source": [
    "inputs_ = tf.placeholder(tf.float32, shape=[None, codes.shape[1]])\n",
    "labels_ = tf.placeholder(tf.int64, shape=[None, labels_vecs.shape[1]])\n",
    "\n",
    "# TODO: Classifier layers and operations\n",
    "\n",
    "fc = tf.contrib.layers.fully_connected(inputs_,256)\n",
    "logits = tf.contrib.layers.fully_connected(fc,labels_vecs.shape[1],activation_fn=None)# output layer logits\n",
    "cross_entropy = tf.nn.softmax_cross_entropy_with_logits(labels=labels_,logits=logits)\n",
    "cost = tf.reduce_mean(cross_entropy)# cross entropy loss\n",
    "\n",
    "optimizer = tf.train.AdamOptimizer().minimize(cost)# training optimizer\n",
    "\n",
    "# Operations for validation/test accuracy\n",
    "predicted = tf.nn.softmax(logits)\n",
    "correct_pred = tf.equal(tf.argmax(predicted, 1), tf.argmax(labels_, 1))\n",
    "accuracy = tf.reduce_mean(tf.cast(correct_pred, tf.float32))"
   ]
  },
  {
   "cell_type": "markdown",
   "metadata": {},
   "source": [
    "### Batches!\n",
    "\n",
    "Here is just a simple way to do batches. I've written it so that it includes all the data. Sometimes you'll throw out some data at the end to make sure you have full batches. Here I just extend the last batch to include the remaining data."
   ]
  },
  {
   "cell_type": "code",
   "execution_count": 28,
   "metadata": {
    "collapsed": true
   },
   "outputs": [],
   "source": [
    "def get_batches(x, y, n_batches=10):\n",
    "    \"\"\" Return a generator that yields batches from arrays x and y. \"\"\"\n",
    "    batch_size = len(x)//n_batches\n",
    "    \n",
    "    for ii in range(0, n_batches*batch_size, batch_size):\n",
    "        # If we're not on the last batch, grab data with size batch_size\n",
    "        if ii != (n_batches-1)*batch_size:\n",
    "            X, Y = x[ii: ii+batch_size], y[ii: ii+batch_size] \n",
    "        # On the last batch, grab the rest of the data\n",
    "        else:\n",
    "            X, Y = x[ii:], y[ii:]\n",
    "        # I love generators\n",
    "        yield X, Y"
   ]
  },
  {
   "cell_type": "markdown",
   "metadata": {},
   "source": [
    "### Training\n",
    "\n",
    "Here, we'll train the network.\n",
    "\n",
    "> **Exercise:** So far we've been providing the training code for you. Here, I'm going to give you a bit more of a challenge and have you write the code to train the network. Of course, you'll be able to see my solution if you need help. Use the `get_batches` function I wrote before to get your batches like `for x, y in get_batches(train_x, train_y)`. Or write your own!"
   ]
  },
  {
   "cell_type": "code",
   "execution_count": 29,
   "metadata": {
    "scrolled": true
   },
   "outputs": [
    {
     "name": "stdout",
     "output_type": "stream",
     "text": [
      "Epoch: 1/10 Iteration: 0 Training loss: 7.47097\n",
      "Epoch: 1/10 Iteration: 1 Training loss: 17.47434\n",
      "Epoch: 1/10 Iteration: 2 Training loss: 14.36033\n",
      "Epoch: 1/10 Iteration: 3 Training loss: 8.71752\n",
      "Epoch: 1/10 Iteration: 4 Training loss: 2.94057\n",
      "Epoch: 0/10 Iteration: 5 Validation Acc: 0.7602\n",
      "Epoch: 1/10 Iteration: 5 Training loss: 2.20371\n",
      "Epoch: 1/10 Iteration: 6 Training loss: 3.41203\n",
      "Epoch: 1/10 Iteration: 7 Training loss: 3.11049\n",
      "Epoch: 1/10 Iteration: 8 Training loss: 3.16539\n",
      "Epoch: 1/10 Iteration: 9 Training loss: 1.93458\n",
      "Epoch: 0/10 Iteration: 10 Validation Acc: 0.7384\n",
      "Epoch: 2/10 Iteration: 10 Training loss: 0.83050\n",
      "Epoch: 2/10 Iteration: 11 Training loss: 0.88649\n",
      "Epoch: 2/10 Iteration: 12 Training loss: 0.70854\n",
      "Epoch: 2/10 Iteration: 13 Training loss: 0.73969\n",
      "Epoch: 2/10 Iteration: 14 Training loss: 0.51799\n",
      "Epoch: 1/10 Iteration: 15 Validation Acc: 0.8474\n",
      "Epoch: 2/10 Iteration: 15 Training loss: 0.69399\n",
      "Epoch: 2/10 Iteration: 16 Training loss: 0.86213\n",
      "Epoch: 2/10 Iteration: 17 Training loss: 0.67868\n",
      "Epoch: 2/10 Iteration: 18 Training loss: 0.54775\n",
      "Epoch: 2/10 Iteration: 19 Training loss: 0.56230\n",
      "Epoch: 1/10 Iteration: 20 Validation Acc: 0.8556\n",
      "Epoch: 3/10 Iteration: 20 Training loss: 0.41810\n",
      "Epoch: 3/10 Iteration: 21 Training loss: 0.33220\n",
      "Epoch: 3/10 Iteration: 22 Training loss: 0.37537\n",
      "Epoch: 3/10 Iteration: 23 Training loss: 0.35619\n",
      "Epoch: 3/10 Iteration: 24 Training loss: 0.36600\n",
      "Epoch: 2/10 Iteration: 25 Validation Acc: 0.8692\n",
      "Epoch: 3/10 Iteration: 25 Training loss: 0.38978\n",
      "Epoch: 3/10 Iteration: 26 Training loss: 0.45754\n",
      "Epoch: 3/10 Iteration: 27 Training loss: 0.33926\n",
      "Epoch: 3/10 Iteration: 28 Training loss: 0.31345\n",
      "Epoch: 3/10 Iteration: 29 Training loss: 0.28994\n",
      "Epoch: 2/10 Iteration: 30 Validation Acc: 0.8937\n",
      "Epoch: 4/10 Iteration: 30 Training loss: 0.19104\n",
      "Epoch: 4/10 Iteration: 31 Training loss: 0.23296\n",
      "Epoch: 4/10 Iteration: 32 Training loss: 0.21283\n",
      "Epoch: 4/10 Iteration: 33 Training loss: 0.25288\n",
      "Epoch: 4/10 Iteration: 34 Training loss: 0.16943\n",
      "Epoch: 3/10 Iteration: 35 Validation Acc: 0.9128\n",
      "Epoch: 4/10 Iteration: 35 Training loss: 0.19490\n",
      "Epoch: 4/10 Iteration: 36 Training loss: 0.23435\n",
      "Epoch: 4/10 Iteration: 37 Training loss: 0.19756\n",
      "Epoch: 4/10 Iteration: 38 Training loss: 0.19860\n",
      "Epoch: 4/10 Iteration: 39 Training loss: 0.17264\n",
      "Epoch: 3/10 Iteration: 40 Validation Acc: 0.9292\n",
      "Epoch: 5/10 Iteration: 40 Training loss: 0.14714\n",
      "Epoch: 5/10 Iteration: 41 Training loss: 0.14384\n",
      "Epoch: 5/10 Iteration: 42 Training loss: 0.14179\n",
      "Epoch: 5/10 Iteration: 43 Training loss: 0.14579\n",
      "Epoch: 5/10 Iteration: 44 Training loss: 0.10777\n",
      "Epoch: 4/10 Iteration: 45 Validation Acc: 0.9264\n",
      "Epoch: 5/10 Iteration: 45 Training loss: 0.12700\n",
      "Epoch: 5/10 Iteration: 46 Training loss: 0.15394\n",
      "Epoch: 5/10 Iteration: 47 Training loss: 0.09688\n",
      "Epoch: 5/10 Iteration: 48 Training loss: 0.13833\n",
      "Epoch: 5/10 Iteration: 49 Training loss: 0.10097\n",
      "Epoch: 4/10 Iteration: 50 Validation Acc: 0.9210\n",
      "Epoch: 6/10 Iteration: 50 Training loss: 0.09328\n",
      "Epoch: 6/10 Iteration: 51 Training loss: 0.09783\n",
      "Epoch: 6/10 Iteration: 52 Training loss: 0.08918\n",
      "Epoch: 6/10 Iteration: 53 Training loss: 0.09927\n",
      "Epoch: 6/10 Iteration: 54 Training loss: 0.07218\n",
      "Epoch: 5/10 Iteration: 55 Validation Acc: 0.9346\n",
      "Epoch: 6/10 Iteration: 55 Training loss: 0.09029\n",
      "Epoch: 6/10 Iteration: 56 Training loss: 0.09880\n",
      "Epoch: 6/10 Iteration: 57 Training loss: 0.05338\n",
      "Epoch: 6/10 Iteration: 58 Training loss: 0.09585\n",
      "Epoch: 6/10 Iteration: 59 Training loss: 0.06898\n",
      "Epoch: 5/10 Iteration: 60 Validation Acc: 0.9401\n",
      "Epoch: 7/10 Iteration: 60 Training loss: 0.06074\n",
      "Epoch: 7/10 Iteration: 61 Training loss: 0.06178\n",
      "Epoch: 7/10 Iteration: 62 Training loss: 0.05845\n",
      "Epoch: 7/10 Iteration: 63 Training loss: 0.06548\n",
      "Epoch: 7/10 Iteration: 64 Training loss: 0.04037\n",
      "Epoch: 6/10 Iteration: 65 Validation Acc: 0.9401\n",
      "Epoch: 7/10 Iteration: 65 Training loss: 0.05820\n",
      "Epoch: 7/10 Iteration: 66 Training loss: 0.07126\n",
      "Epoch: 7/10 Iteration: 67 Training loss: 0.03488\n",
      "Epoch: 7/10 Iteration: 68 Training loss: 0.06260\n",
      "Epoch: 7/10 Iteration: 69 Training loss: 0.04440\n",
      "Epoch: 6/10 Iteration: 70 Validation Acc: 0.9346\n",
      "Epoch: 8/10 Iteration: 70 Training loss: 0.03916\n",
      "Epoch: 8/10 Iteration: 71 Training loss: 0.04278\n",
      "Epoch: 8/10 Iteration: 72 Training loss: 0.03923\n",
      "Epoch: 8/10 Iteration: 73 Training loss: 0.04608\n",
      "Epoch: 8/10 Iteration: 74 Training loss: 0.02820\n",
      "Epoch: 7/10 Iteration: 75 Validation Acc: 0.9428\n",
      "Epoch: 8/10 Iteration: 75 Training loss: 0.04166\n",
      "Epoch: 8/10 Iteration: 76 Training loss: 0.05112\n",
      "Epoch: 8/10 Iteration: 77 Training loss: 0.02367\n",
      "Epoch: 8/10 Iteration: 78 Training loss: 0.04316\n",
      "Epoch: 8/10 Iteration: 79 Training loss: 0.03140\n",
      "Epoch: 7/10 Iteration: 80 Validation Acc: 0.9401\n",
      "Epoch: 9/10 Iteration: 80 Training loss: 0.02702\n",
      "Epoch: 9/10 Iteration: 81 Training loss: 0.03041\n",
      "Epoch: 9/10 Iteration: 82 Training loss: 0.02889\n",
      "Epoch: 9/10 Iteration: 83 Training loss: 0.03228\n",
      "Epoch: 9/10 Iteration: 84 Training loss: 0.02154\n",
      "Epoch: 8/10 Iteration: 85 Validation Acc: 0.9428\n",
      "Epoch: 9/10 Iteration: 85 Training loss: 0.02975\n",
      "Epoch: 9/10 Iteration: 86 Training loss: 0.03676\n",
      "Epoch: 9/10 Iteration: 87 Training loss: 0.01819\n",
      "Epoch: 9/10 Iteration: 88 Training loss: 0.02963\n",
      "Epoch: 9/10 Iteration: 89 Training loss: 0.02313\n",
      "Epoch: 8/10 Iteration: 90 Validation Acc: 0.9482\n",
      "Epoch: 10/10 Iteration: 90 Training loss: 0.01984\n",
      "Epoch: 10/10 Iteration: 91 Training loss: 0.02220\n",
      "Epoch: 10/10 Iteration: 92 Training loss: 0.02270\n",
      "Epoch: 10/10 Iteration: 93 Training loss: 0.02519\n",
      "Epoch: 10/10 Iteration: 94 Training loss: 0.01700\n",
      "Epoch: 9/10 Iteration: 95 Validation Acc: 0.9373\n",
      "Epoch: 10/10 Iteration: 95 Training loss: 0.02221\n",
      "Epoch: 10/10 Iteration: 96 Training loss: 0.02693\n",
      "Epoch: 10/10 Iteration: 97 Training loss: 0.01411\n",
      "Epoch: 10/10 Iteration: 98 Training loss: 0.02231\n",
      "Epoch: 10/10 Iteration: 99 Training loss: 0.01810\n",
      "Epoch: 9/10 Iteration: 100 Validation Acc: 0.9401\n"
     ]
    }
   ],
   "source": [
    "epochs = 10\n",
    "iteration = 0\n",
    "\n",
    "saver = tf.train.Saver()\n",
    "with tf.Session() as sess:\n",
    "    \n",
    "    # TODO: Your training code here\n",
    "    sess.run(tf.global_variables_initializer())\n",
    "    for e in range(epochs):\n",
    "        for x,y in get_batches(train_x,train_y):\n",
    "            feed={inputs_:x,labels_:y}\n",
    "            loss,_ = sess.run([cost,optimizer],feed_dict=feed)\n",
    "            print(\"Epoch: {}/{}\".format(e+1, epochs),\n",
    "                  \"Iteration: {}\".format(iteration),\n",
    "                  \"Training loss: {:.5f}\".format(loss))\n",
    "            iteration += 1\n",
    "            if iteration%5==0:\n",
    "                feed = {inputs_:val_x,labels_:val_y}\n",
    "                val_acc = sess.run(accuracy,feed_dict=feed)\n",
    "                print(\"Epoch: {}/{}\".format(e, epochs),\n",
    "                      \"Iteration: {}\".format(iteration),\n",
    "                      \"Validation Acc: {:.4f}\".format(val_acc))\n",
    "    saver.save(sess, \"checkpoints/flowers.ckpt\")"
   ]
  },
  {
   "cell_type": "markdown",
   "metadata": {},
   "source": [
    "### Testing\n",
    "\n",
    "Below you see the test accuracy. You can also see the predictions returned for images."
   ]
  },
  {
   "cell_type": "code",
   "execution_count": null,
   "metadata": {
    "collapsed": true
   },
   "outputs": [],
   "source": [
    "with tf.Session() as sess:\n",
    "    saver.restore(sess, tf.train.latest_checkpoint('checkpoints'))\n",
    "    \n",
    "    feed = {inputs_: test_x,\n",
    "            labels_: test_y}\n",
    "    test_acc = sess.run(accuracy, feed_dict=feed)\n",
    "    print(\"Test accuracy: {:.4f}\".format(test_acc))"
   ]
  },
  {
   "cell_type": "code",
   "execution_count": null,
   "metadata": {
    "collapsed": true
   },
   "outputs": [],
   "source": [
    "%matplotlib inline\n",
    "\n",
    "import matplotlib.pyplot as plt\n",
    "from scipy.ndimage import imread"
   ]
  },
  {
   "cell_type": "markdown",
   "metadata": {},
   "source": [
    "Below, feel free to choose images and see how the trained classifier predicts the flowers in them."
   ]
  },
  {
   "cell_type": "code",
   "execution_count": null,
   "metadata": {
    "collapsed": true
   },
   "outputs": [],
   "source": [
    "test_img_path = 'flower_photos/roses/10894627425_ec76bbc757_n.jpg'\n",
    "test_img = imread(test_img_path)\n",
    "plt.imshow(test_img)"
   ]
  },
  {
   "cell_type": "code",
   "execution_count": null,
   "metadata": {
    "collapsed": true
   },
   "outputs": [],
   "source": [
    "# Run this cell if you don't have a vgg graph built\n",
    "if 'vgg' in globals():\n",
    "    print('\"vgg\" object already exists.  Will not create again.')\n",
    "else:\n",
    "    #create vgg\n",
    "    with tf.Session() as sess:\n",
    "        input_ = tf.placeholder(tf.float32, [None, 224, 224, 3])\n",
    "        vgg = vgg16.Vgg16()\n",
    "        vgg.build(input_)"
   ]
  },
  {
   "cell_type": "code",
   "execution_count": null,
   "metadata": {
    "collapsed": true
   },
   "outputs": [],
   "source": [
    "with tf.Session() as sess:\n",
    "    img = utils.load_image(test_img_path)\n",
    "    img = img.reshape((1, 224, 224, 3))\n",
    "\n",
    "    feed_dict = {input_: img}\n",
    "    code = sess.run(vgg.relu6, feed_dict=feed_dict)\n",
    "        \n",
    "saver = tf.train.Saver()\n",
    "with tf.Session() as sess:\n",
    "    saver.restore(sess, tf.train.latest_checkpoint('checkpoints'))\n",
    "    \n",
    "    feed = {inputs_: code}\n",
    "    prediction = sess.run(predicted, feed_dict=feed).squeeze()"
   ]
  },
  {
   "cell_type": "code",
   "execution_count": null,
   "metadata": {
    "collapsed": true
   },
   "outputs": [],
   "source": [
    "plt.imshow(test_img)"
   ]
  },
  {
   "cell_type": "code",
   "execution_count": null,
   "metadata": {
    "collapsed": true
   },
   "outputs": [],
   "source": [
    "plt.barh(np.arange(5), prediction)\n",
    "_ = plt.yticks(np.arange(5), lb.classes_)"
   ]
  }
 ],
 "metadata": {
  "kernelspec": {
   "display_name": "Python 3",
   "language": "python",
   "name": "python3"
  },
  "language_info": {
   "codemirror_mode": {
    "name": "ipython",
    "version": 3
   },
   "file_extension": ".py",
   "mimetype": "text/x-python",
   "name": "python",
   "nbconvert_exporter": "python",
   "pygments_lexer": "ipython3",
   "version": "3.6.1"
  },
  "widgets": {
   "state": {},
   "version": "1.1.2"
  }
 },
 "nbformat": 4,
 "nbformat_minor": 2
}
